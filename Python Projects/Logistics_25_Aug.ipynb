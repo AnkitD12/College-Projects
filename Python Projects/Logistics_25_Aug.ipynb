{
  "nbformat": 4,
  "nbformat_minor": 0,
  "metadata": {
    "colab": {
      "provenance": []
    },
    "kernelspec": {
      "name": "python3",
      "display_name": "Python 3"
    },
    "language_info": {
      "name": "python"
    }
  },
  "cells": [
    {
      "cell_type": "code",
      "execution_count": null,
      "metadata": {
        "colab": {
          "base_uri": "https://localhost:8080/"
        },
        "id": "G0V2is-ZKVch",
        "outputId": "6a9067e1-5b98-4c7f-ebf7-93cf0f3c6a51"
      },
      "outputs": [
        {
          "output_type": "stream",
          "name": "stdout",
          "text": [
            "Collecting ortools\n",
            "  Downloading ortools-9.7.2996-cp310-cp310-manylinux_2_17_x86_64.manylinux2014_x86_64.whl (21.1 MB)\n",
            "\u001b[2K     \u001b[90m━━━━━━━━━━━━━━━━━━━━━━━━━━━━━━━━━━━━━━━━\u001b[0m \u001b[32m21.1/21.1 MB\u001b[0m \u001b[31m44.6 MB/s\u001b[0m eta \u001b[36m0:00:00\u001b[0m\n",
            "\u001b[?25hRequirement already satisfied: absl-py>=0.13 in /usr/local/lib/python3.10/dist-packages (from ortools) (1.4.0)\n",
            "Requirement already satisfied: numpy>=1.13.3 in /usr/local/lib/python3.10/dist-packages (from ortools) (1.23.5)\n",
            "Collecting protobuf>=4.23.3 (from ortools)\n",
            "  Downloading protobuf-4.24.1-cp37-abi3-manylinux2014_x86_64.whl (311 kB)\n",
            "\u001b[2K     \u001b[90m━━━━━━━━━━━━━━━━━━━━━━━━━━━━━━━━━━━━━━\u001b[0m \u001b[32m311.4/311.4 kB\u001b[0m \u001b[31m32.1 MB/s\u001b[0m eta \u001b[36m0:00:00\u001b[0m\n",
            "\u001b[?25hInstalling collected packages: protobuf, ortools\n",
            "  Attempting uninstall: protobuf\n",
            "    Found existing installation: protobuf 3.20.3\n",
            "    Uninstalling protobuf-3.20.3:\n",
            "      Successfully uninstalled protobuf-3.20.3\n",
            "\u001b[31mERROR: pip's dependency resolver does not currently take into account all the packages that are installed. This behaviour is the source of the following dependency conflicts.\n",
            "tensorflow-metadata 1.14.0 requires protobuf<4.21,>=3.20.3, but you have protobuf 4.24.1 which is incompatible.\u001b[0m\u001b[31m\n",
            "\u001b[0mSuccessfully installed ortools-9.7.2996 protobuf-4.24.1\n"
          ]
        }
      ],
      "source": [
        "!pip install ortools"
      ]
    },
    {
      "cell_type": "code",
      "source": [
        "import ortools\n",
        "from ortools.linear_solver import pywraplp\n",
        "solver = pywraplp.Solver.CreateSolver('SCIP')"
      ],
      "metadata": {
        "id": "WFqf581HMKfP"
      },
      "execution_count": null,
      "outputs": []
    },
    {
      "cell_type": "code",
      "source": [
        "cost =[[5,9,8,6],[8,7,8,2],[6,10,12,7],[3,10,8,6]]\n",
        "numSuppliers = len(cost)\n",
        "numPersonnel = len(cost[0])"
      ],
      "metadata": {
        "id": "-KINE7iaNQmJ"
      },
      "execution_count": null,
      "outputs": []
    },
    {
      "cell_type": "code",
      "source": [
        "x = {} #creating a dictionary for variables\n",
        "for i in range(numSuppliers):\n",
        "  for j in range(numPersonnel):\n",
        "    x[i,j] = solver.IntVar(0,1,\"\")"
      ],
      "metadata": {
        "id": "Dst0NWwcOUfM"
      },
      "execution_count": null,
      "outputs": []
    },
    {
      "cell_type": "code",
      "source": [
        "#constraints\n",
        "for i in range(numSuppliers):\n",
        "  solver.Add(solver.Sum([x[i,j]for j in range(numPersonnel)])== 1)\n",
        "\n",
        "  for j in range(numPersonnel):\n",
        "    solver.Add(solver.Sum([x[i,j] for j in range(numSuppliers)]) == 1)"
      ],
      "metadata": {
        "id": "qtrVhLQVPSTA"
      },
      "execution_count": null,
      "outputs": []
    },
    {
      "cell_type": "code",
      "source": [
        "#objective function\n",
        "objFunc = []\n",
        "for i in range(numSuppliers):\n",
        "  for j in range(numPersonnel):\n",
        "    objFunc.append(cost[i][j]* x[i,j])\n",
        "\n",
        "    solver.Minimize(solver.Sum(objFunc))"
      ],
      "metadata": {
        "id": "oKkQBw-VRCTY"
      },
      "execution_count": null,
      "outputs": []
    },
    {
      "cell_type": "code",
      "source": [
        "status = solver.Solve()\n",
        "print(status)\n",
        "print(pywraplp.Solver.OPTIMAL)"
      ],
      "metadata": {
        "colab": {
          "base_uri": "https://localhost:8080/"
        },
        "id": "VYwujnGQSOmf",
        "outputId": "05cd5591-6565-4c65-ff61-7d85e54f15f2"
      },
      "execution_count": null,
      "outputs": [
        {
          "output_type": "stream",
          "name": "stdout",
          "text": [
            "0\n",
            "0\n"
          ]
        }
      ]
    },
    {
      "cell_type": "code",
      "source": [
        "if status == pywraplp.Solver.OPTIMAL:\n",
        "  print('Objective Value =', solver.Objective().Value())\n",
        "  for i in range(numSuppliers):\n",
        "    for j in range(numPersonnel):\n",
        "      # Test if x[i,j] is 1 (with tolerance for floating point airthmetic)\n",
        "      if x[i,j].solution_value() == 1:\n",
        "        print('Supplier', i, 'assingned to Personnel', j, 'with cost', cost[i][j])\n",
        "    else :\n",
        "          print(\"The Problem does not have an Optimal Solution\")"
      ],
      "metadata": {
        "colab": {
          "base_uri": "https://localhost:8080/"
        },
        "id": "btGCTgF7TKPI",
        "outputId": "55b7fd63-8609-4da9-ad57-00cc6e7df539"
      },
      "execution_count": null,
      "outputs": [
        {
          "output_type": "stream",
          "name": "stdout",
          "text": [
            "Objective Value = 16.0\n",
            "Supplier 0 assingned to Personnel 0 with cost 5\n",
            "The Problem does not have an Optimal Solution\n",
            "Supplier 1 assingned to Personnel 3 with cost 2\n",
            "The Problem does not have an Optimal Solution\n",
            "Supplier 2 assingned to Personnel 0 with cost 6\n",
            "The Problem does not have an Optimal Solution\n",
            "Supplier 3 assingned to Personnel 0 with cost 3\n",
            "The Problem does not have an Optimal Solution\n"
          ]
        }
      ]
    },
    {
      "cell_type": "code",
      "source": [],
      "metadata": {
        "id": "S-u6TJ5cUSWM"
      },
      "execution_count": null,
      "outputs": []
    }
  ]
}