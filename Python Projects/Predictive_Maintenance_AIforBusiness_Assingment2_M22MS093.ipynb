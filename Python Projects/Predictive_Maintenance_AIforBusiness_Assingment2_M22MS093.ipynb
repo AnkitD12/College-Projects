{
  "nbformat": 4,
  "nbformat_minor": 0,
  "metadata": {
    "colab": {
      "provenance": []
    },
    "kernelspec": {
      "name": "python3",
      "display_name": "Python 3"
    },
    "language_info": {
      "name": "python"
    }
  },
  "cells": [
    {
      "cell_type": "code",
      "source": [
        "from google.colab import files\n",
        "Files=files.upload()"
      ],
      "metadata": {
        "colab": {
          "base_uri": "https://localhost:8080/",
          "height": 73
        },
        "id": "Rx_uGiEGVnbB",
        "outputId": "4b9c35da-d849-4604-de07-2046e634615d"
      },
      "execution_count": null,
      "outputs": [
        {
          "output_type": "display_data",
          "data": {
            "text/plain": [
              "<IPython.core.display.HTML object>"
            ],
            "text/html": [
              "\n",
              "     <input type=\"file\" id=\"files-e5746349-ee60-4b51-9748-3b0f6a77f219\" name=\"files[]\" multiple disabled\n",
              "        style=\"border:none\" />\n",
              "     <output id=\"result-e5746349-ee60-4b51-9748-3b0f6a77f219\">\n",
              "      Upload widget is only available when the cell has been executed in the\n",
              "      current browser session. Please rerun this cell to enable.\n",
              "      </output>\n",
              "      <script>// Copyright 2017 Google LLC\n",
              "//\n",
              "// Licensed under the Apache License, Version 2.0 (the \"License\");\n",
              "// you may not use this file except in compliance with the License.\n",
              "// You may obtain a copy of the License at\n",
              "//\n",
              "//      http://www.apache.org/licenses/LICENSE-2.0\n",
              "//\n",
              "// Unless required by applicable law or agreed to in writing, software\n",
              "// distributed under the License is distributed on an \"AS IS\" BASIS,\n",
              "// WITHOUT WARRANTIES OR CONDITIONS OF ANY KIND, either express or implied.\n",
              "// See the License for the specific language governing permissions and\n",
              "// limitations under the License.\n",
              "\n",
              "/**\n",
              " * @fileoverview Helpers for google.colab Python module.\n",
              " */\n",
              "(function(scope) {\n",
              "function span(text, styleAttributes = {}) {\n",
              "  const element = document.createElement('span');\n",
              "  element.textContent = text;\n",
              "  for (const key of Object.keys(styleAttributes)) {\n",
              "    element.style[key] = styleAttributes[key];\n",
              "  }\n",
              "  return element;\n",
              "}\n",
              "\n",
              "// Max number of bytes which will be uploaded at a time.\n",
              "const MAX_PAYLOAD_SIZE = 100 * 1024;\n",
              "\n",
              "function _uploadFiles(inputId, outputId) {\n",
              "  const steps = uploadFilesStep(inputId, outputId);\n",
              "  const outputElement = document.getElementById(outputId);\n",
              "  // Cache steps on the outputElement to make it available for the next call\n",
              "  // to uploadFilesContinue from Python.\n",
              "  outputElement.steps = steps;\n",
              "\n",
              "  return _uploadFilesContinue(outputId);\n",
              "}\n",
              "\n",
              "// This is roughly an async generator (not supported in the browser yet),\n",
              "// where there are multiple asynchronous steps and the Python side is going\n",
              "// to poll for completion of each step.\n",
              "// This uses a Promise to block the python side on completion of each step,\n",
              "// then passes the result of the previous step as the input to the next step.\n",
              "function _uploadFilesContinue(outputId) {\n",
              "  const outputElement = document.getElementById(outputId);\n",
              "  const steps = outputElement.steps;\n",
              "\n",
              "  const next = steps.next(outputElement.lastPromiseValue);\n",
              "  return Promise.resolve(next.value.promise).then((value) => {\n",
              "    // Cache the last promise value to make it available to the next\n",
              "    // step of the generator.\n",
              "    outputElement.lastPromiseValue = value;\n",
              "    return next.value.response;\n",
              "  });\n",
              "}\n",
              "\n",
              "/**\n",
              " * Generator function which is called between each async step of the upload\n",
              " * process.\n",
              " * @param {string} inputId Element ID of the input file picker element.\n",
              " * @param {string} outputId Element ID of the output display.\n",
              " * @return {!Iterable<!Object>} Iterable of next steps.\n",
              " */\n",
              "function* uploadFilesStep(inputId, outputId) {\n",
              "  const inputElement = document.getElementById(inputId);\n",
              "  inputElement.disabled = false;\n",
              "\n",
              "  const outputElement = document.getElementById(outputId);\n",
              "  outputElement.innerHTML = '';\n",
              "\n",
              "  const pickedPromise = new Promise((resolve) => {\n",
              "    inputElement.addEventListener('change', (e) => {\n",
              "      resolve(e.target.files);\n",
              "    });\n",
              "  });\n",
              "\n",
              "  const cancel = document.createElement('button');\n",
              "  inputElement.parentElement.appendChild(cancel);\n",
              "  cancel.textContent = 'Cancel upload';\n",
              "  const cancelPromise = new Promise((resolve) => {\n",
              "    cancel.onclick = () => {\n",
              "      resolve(null);\n",
              "    };\n",
              "  });\n",
              "\n",
              "  // Wait for the user to pick the files.\n",
              "  const files = yield {\n",
              "    promise: Promise.race([pickedPromise, cancelPromise]),\n",
              "    response: {\n",
              "      action: 'starting',\n",
              "    }\n",
              "  };\n",
              "\n",
              "  cancel.remove();\n",
              "\n",
              "  // Disable the input element since further picks are not allowed.\n",
              "  inputElement.disabled = true;\n",
              "\n",
              "  if (!files) {\n",
              "    return {\n",
              "      response: {\n",
              "        action: 'complete',\n",
              "      }\n",
              "    };\n",
              "  }\n",
              "\n",
              "  for (const file of files) {\n",
              "    const li = document.createElement('li');\n",
              "    li.append(span(file.name, {fontWeight: 'bold'}));\n",
              "    li.append(span(\n",
              "        `(${file.type || 'n/a'}) - ${file.size} bytes, ` +\n",
              "        `last modified: ${\n",
              "            file.lastModifiedDate ? file.lastModifiedDate.toLocaleDateString() :\n",
              "                                    'n/a'} - `));\n",
              "    const percent = span('0% done');\n",
              "    li.appendChild(percent);\n",
              "\n",
              "    outputElement.appendChild(li);\n",
              "\n",
              "    const fileDataPromise = new Promise((resolve) => {\n",
              "      const reader = new FileReader();\n",
              "      reader.onload = (e) => {\n",
              "        resolve(e.target.result);\n",
              "      };\n",
              "      reader.readAsArrayBuffer(file);\n",
              "    });\n",
              "    // Wait for the data to be ready.\n",
              "    let fileData = yield {\n",
              "      promise: fileDataPromise,\n",
              "      response: {\n",
              "        action: 'continue',\n",
              "      }\n",
              "    };\n",
              "\n",
              "    // Use a chunked sending to avoid message size limits. See b/62115660.\n",
              "    let position = 0;\n",
              "    do {\n",
              "      const length = Math.min(fileData.byteLength - position, MAX_PAYLOAD_SIZE);\n",
              "      const chunk = new Uint8Array(fileData, position, length);\n",
              "      position += length;\n",
              "\n",
              "      const base64 = btoa(String.fromCharCode.apply(null, chunk));\n",
              "      yield {\n",
              "        response: {\n",
              "          action: 'append',\n",
              "          file: file.name,\n",
              "          data: base64,\n",
              "        },\n",
              "      };\n",
              "\n",
              "      let percentDone = fileData.byteLength === 0 ?\n",
              "          100 :\n",
              "          Math.round((position / fileData.byteLength) * 100);\n",
              "      percent.textContent = `${percentDone}% done`;\n",
              "\n",
              "    } while (position < fileData.byteLength);\n",
              "  }\n",
              "\n",
              "  // All done.\n",
              "  yield {\n",
              "    response: {\n",
              "      action: 'complete',\n",
              "    }\n",
              "  };\n",
              "}\n",
              "\n",
              "scope.google = scope.google || {};\n",
              "scope.google.colab = scope.google.colab || {};\n",
              "scope.google.colab._files = {\n",
              "  _uploadFiles,\n",
              "  _uploadFilesContinue,\n",
              "};\n",
              "})(self);\n",
              "</script> "
            ]
          },
          "metadata": {}
        },
        {
          "output_type": "stream",
          "name": "stdout",
          "text": [
            "Saving Predictive_Maintenance - Predictive_Maintenance.csv to Predictive_Maintenance - Predictive_Maintenance.csv\n"
          ]
        }
      ]
    },
    {
      "cell_type": "code",
      "source": [
        "import pandas as pd\n",
        "Data=pd.read_csv(\"Predictive_Maintenance - Predictive_Maintenance.csv\")"
      ],
      "metadata": {
        "id": "q1WcQssNGXnA"
      },
      "execution_count": null,
      "outputs": []
    },
    {
      "cell_type": "code",
      "source": [
        "Data.head()"
      ],
      "metadata": {
        "colab": {
          "base_uri": "https://localhost:8080/",
          "height": 241
        },
        "id": "TlaLH84FV2wx",
        "outputId": "d4425e76-b38c-4849-bf09-9264dc63aef4"
      },
      "execution_count": null,
      "outputs": [
        {
          "output_type": "execute_result",
          "data": {
            "text/plain": [
              "   UDI Product ID Type  Air temperature [K]  Process temperature [K]  \\\n",
              "0   51     L47230    L                298.9                    309.1   \n",
              "1   70     L47249    L                298.9                    309.0   \n",
              "2   78     L47257    L                298.8                    308.9   \n",
              "3  161     L47340    L                298.4                    308.2   \n",
              "4  162     L47341    L                298.3                    308.1   \n",
              "\n",
              "   Rotational speed [rpm]  Torque [Nm]  Tool wear [min]  Machine failure  \\\n",
              "0                    2861          4.6              143                1   \n",
              "1                    1410         65.7              191                1   \n",
              "2                    1455         41.3              208                1   \n",
              "3                    1282         60.7              216                1   \n",
              "4                    1412         52.3              218                1   \n",
              "\n",
              "   Useful life  ToolWearFailure  HeatDiscipationFailure  PowerFailure  \\\n",
              "0       1943.9                0                       0             1   \n",
              "1        493.1                0                       0             1   \n",
              "2        538.4                1                       0             0   \n",
              "3        367.2                0                       0             0   \n",
              "4        497.5                0                       0             0   \n",
              "\n",
              "   OverstrainFailure  RandomFailure  \n",
              "0                  0              0  \n",
              "1                  1              0  \n",
              "2                  0              0  \n",
              "3                  1              0  \n",
              "4                  1              0  "
            ],
            "text/html": [
              "\n",
              "  <div id=\"df-1dd388cc-6602-4d02-8033-83a93df73059\" class=\"colab-df-container\">\n",
              "    <div>\n",
              "<style scoped>\n",
              "    .dataframe tbody tr th:only-of-type {\n",
              "        vertical-align: middle;\n",
              "    }\n",
              "\n",
              "    .dataframe tbody tr th {\n",
              "        vertical-align: top;\n",
              "    }\n",
              "\n",
              "    .dataframe thead th {\n",
              "        text-align: right;\n",
              "    }\n",
              "</style>\n",
              "<table border=\"1\" class=\"dataframe\">\n",
              "  <thead>\n",
              "    <tr style=\"text-align: right;\">\n",
              "      <th></th>\n",
              "      <th>UDI</th>\n",
              "      <th>Product ID</th>\n",
              "      <th>Type</th>\n",
              "      <th>Air temperature [K]</th>\n",
              "      <th>Process temperature [K]</th>\n",
              "      <th>Rotational speed [rpm]</th>\n",
              "      <th>Torque [Nm]</th>\n",
              "      <th>Tool wear [min]</th>\n",
              "      <th>Machine failure</th>\n",
              "      <th>Useful life</th>\n",
              "      <th>ToolWearFailure</th>\n",
              "      <th>HeatDiscipationFailure</th>\n",
              "      <th>PowerFailure</th>\n",
              "      <th>OverstrainFailure</th>\n",
              "      <th>RandomFailure</th>\n",
              "    </tr>\n",
              "  </thead>\n",
              "  <tbody>\n",
              "    <tr>\n",
              "      <th>0</th>\n",
              "      <td>51</td>\n",
              "      <td>L47230</td>\n",
              "      <td>L</td>\n",
              "      <td>298.9</td>\n",
              "      <td>309.1</td>\n",
              "      <td>2861</td>\n",
              "      <td>4.6</td>\n",
              "      <td>143</td>\n",
              "      <td>1</td>\n",
              "      <td>1943.9</td>\n",
              "      <td>0</td>\n",
              "      <td>0</td>\n",
              "      <td>1</td>\n",
              "      <td>0</td>\n",
              "      <td>0</td>\n",
              "    </tr>\n",
              "    <tr>\n",
              "      <th>1</th>\n",
              "      <td>70</td>\n",
              "      <td>L47249</td>\n",
              "      <td>L</td>\n",
              "      <td>298.9</td>\n",
              "      <td>309.0</td>\n",
              "      <td>1410</td>\n",
              "      <td>65.7</td>\n",
              "      <td>191</td>\n",
              "      <td>1</td>\n",
              "      <td>493.1</td>\n",
              "      <td>0</td>\n",
              "      <td>0</td>\n",
              "      <td>1</td>\n",
              "      <td>1</td>\n",
              "      <td>0</td>\n",
              "    </tr>\n",
              "    <tr>\n",
              "      <th>2</th>\n",
              "      <td>78</td>\n",
              "      <td>L47257</td>\n",
              "      <td>L</td>\n",
              "      <td>298.8</td>\n",
              "      <td>308.9</td>\n",
              "      <td>1455</td>\n",
              "      <td>41.3</td>\n",
              "      <td>208</td>\n",
              "      <td>1</td>\n",
              "      <td>538.4</td>\n",
              "      <td>1</td>\n",
              "      <td>0</td>\n",
              "      <td>0</td>\n",
              "      <td>0</td>\n",
              "      <td>0</td>\n",
              "    </tr>\n",
              "    <tr>\n",
              "      <th>3</th>\n",
              "      <td>161</td>\n",
              "      <td>L47340</td>\n",
              "      <td>L</td>\n",
              "      <td>298.4</td>\n",
              "      <td>308.2</td>\n",
              "      <td>1282</td>\n",
              "      <td>60.7</td>\n",
              "      <td>216</td>\n",
              "      <td>1</td>\n",
              "      <td>367.2</td>\n",
              "      <td>0</td>\n",
              "      <td>0</td>\n",
              "      <td>0</td>\n",
              "      <td>1</td>\n",
              "      <td>0</td>\n",
              "    </tr>\n",
              "    <tr>\n",
              "      <th>4</th>\n",
              "      <td>162</td>\n",
              "      <td>L47341</td>\n",
              "      <td>L</td>\n",
              "      <td>298.3</td>\n",
              "      <td>308.1</td>\n",
              "      <td>1412</td>\n",
              "      <td>52.3</td>\n",
              "      <td>218</td>\n",
              "      <td>1</td>\n",
              "      <td>497.5</td>\n",
              "      <td>0</td>\n",
              "      <td>0</td>\n",
              "      <td>0</td>\n",
              "      <td>1</td>\n",
              "      <td>0</td>\n",
              "    </tr>\n",
              "  </tbody>\n",
              "</table>\n",
              "</div>\n",
              "    <div class=\"colab-df-buttons\">\n",
              "\n",
              "  <div class=\"colab-df-container\">\n",
              "    <button class=\"colab-df-convert\" onclick=\"convertToInteractive('df-1dd388cc-6602-4d02-8033-83a93df73059')\"\n",
              "            title=\"Convert this dataframe to an interactive table.\"\n",
              "            style=\"display:none;\">\n",
              "\n",
              "  <svg xmlns=\"http://www.w3.org/2000/svg\" height=\"24px\" viewBox=\"0 -960 960 960\">\n",
              "    <path d=\"M120-120v-720h720v720H120Zm60-500h600v-160H180v160Zm220 220h160v-160H400v160Zm0 220h160v-160H400v160ZM180-400h160v-160H180v160Zm440 0h160v-160H620v160ZM180-180h160v-160H180v160Zm440 0h160v-160H620v160Z\"/>\n",
              "  </svg>\n",
              "    </button>\n",
              "\n",
              "  <style>\n",
              "    .colab-df-container {\n",
              "      display:flex;\n",
              "      gap: 12px;\n",
              "    }\n",
              "\n",
              "    .colab-df-convert {\n",
              "      background-color: #E8F0FE;\n",
              "      border: none;\n",
              "      border-radius: 50%;\n",
              "      cursor: pointer;\n",
              "      display: none;\n",
              "      fill: #1967D2;\n",
              "      height: 32px;\n",
              "      padding: 0 0 0 0;\n",
              "      width: 32px;\n",
              "    }\n",
              "\n",
              "    .colab-df-convert:hover {\n",
              "      background-color: #E2EBFA;\n",
              "      box-shadow: 0px 1px 2px rgba(60, 64, 67, 0.3), 0px 1px 3px 1px rgba(60, 64, 67, 0.15);\n",
              "      fill: #174EA6;\n",
              "    }\n",
              "\n",
              "    .colab-df-buttons div {\n",
              "      margin-bottom: 4px;\n",
              "    }\n",
              "\n",
              "    [theme=dark] .colab-df-convert {\n",
              "      background-color: #3B4455;\n",
              "      fill: #D2E3FC;\n",
              "    }\n",
              "\n",
              "    [theme=dark] .colab-df-convert:hover {\n",
              "      background-color: #434B5C;\n",
              "      box-shadow: 0px 1px 3px 1px rgba(0, 0, 0, 0.15);\n",
              "      filter: drop-shadow(0px 1px 2px rgba(0, 0, 0, 0.3));\n",
              "      fill: #FFFFFF;\n",
              "    }\n",
              "  </style>\n",
              "\n",
              "    <script>\n",
              "      const buttonEl =\n",
              "        document.querySelector('#df-1dd388cc-6602-4d02-8033-83a93df73059 button.colab-df-convert');\n",
              "      buttonEl.style.display =\n",
              "        google.colab.kernel.accessAllowed ? 'block' : 'none';\n",
              "\n",
              "      async function convertToInteractive(key) {\n",
              "        const element = document.querySelector('#df-1dd388cc-6602-4d02-8033-83a93df73059');\n",
              "        const dataTable =\n",
              "          await google.colab.kernel.invokeFunction('convertToInteractive',\n",
              "                                                    [key], {});\n",
              "        if (!dataTable) return;\n",
              "\n",
              "        const docLinkHtml = 'Like what you see? Visit the ' +\n",
              "          '<a target=\"_blank\" href=https://colab.research.google.com/notebooks/data_table.ipynb>data table notebook</a>'\n",
              "          + ' to learn more about interactive tables.';\n",
              "        element.innerHTML = '';\n",
              "        dataTable['output_type'] = 'display_data';\n",
              "        await google.colab.output.renderOutput(dataTable, element);\n",
              "        const docLink = document.createElement('div');\n",
              "        docLink.innerHTML = docLinkHtml;\n",
              "        element.appendChild(docLink);\n",
              "      }\n",
              "    </script>\n",
              "  </div>\n",
              "\n",
              "\n",
              "<div id=\"df-9927d764-85f6-4e7a-a027-e653ab514382\">\n",
              "  <button class=\"colab-df-quickchart\" onclick=\"quickchart('df-9927d764-85f6-4e7a-a027-e653ab514382')\"\n",
              "            title=\"Suggest charts.\"\n",
              "            style=\"display:none;\">\n",
              "\n",
              "<svg xmlns=\"http://www.w3.org/2000/svg\" height=\"24px\"viewBox=\"0 0 24 24\"\n",
              "     width=\"24px\">\n",
              "    <g>\n",
              "        <path d=\"M19 3H5c-1.1 0-2 .9-2 2v14c0 1.1.9 2 2 2h14c1.1 0 2-.9 2-2V5c0-1.1-.9-2-2-2zM9 17H7v-7h2v7zm4 0h-2V7h2v10zm4 0h-2v-4h2v4z\"/>\n",
              "    </g>\n",
              "</svg>\n",
              "  </button>\n",
              "\n",
              "<style>\n",
              "  .colab-df-quickchart {\n",
              "      --bg-color: #E8F0FE;\n",
              "      --fill-color: #1967D2;\n",
              "      --hover-bg-color: #E2EBFA;\n",
              "      --hover-fill-color: #174EA6;\n",
              "      --disabled-fill-color: #AAA;\n",
              "      --disabled-bg-color: #DDD;\n",
              "  }\n",
              "\n",
              "  [theme=dark] .colab-df-quickchart {\n",
              "      --bg-color: #3B4455;\n",
              "      --fill-color: #D2E3FC;\n",
              "      --hover-bg-color: #434B5C;\n",
              "      --hover-fill-color: #FFFFFF;\n",
              "      --disabled-bg-color: #3B4455;\n",
              "      --disabled-fill-color: #666;\n",
              "  }\n",
              "\n",
              "  .colab-df-quickchart {\n",
              "    background-color: var(--bg-color);\n",
              "    border: none;\n",
              "    border-radius: 50%;\n",
              "    cursor: pointer;\n",
              "    display: none;\n",
              "    fill: var(--fill-color);\n",
              "    height: 32px;\n",
              "    padding: 0;\n",
              "    width: 32px;\n",
              "  }\n",
              "\n",
              "  .colab-df-quickchart:hover {\n",
              "    background-color: var(--hover-bg-color);\n",
              "    box-shadow: 0 1px 2px rgba(60, 64, 67, 0.3), 0 1px 3px 1px rgba(60, 64, 67, 0.15);\n",
              "    fill: var(--button-hover-fill-color);\n",
              "  }\n",
              "\n",
              "  .colab-df-quickchart-complete:disabled,\n",
              "  .colab-df-quickchart-complete:disabled:hover {\n",
              "    background-color: var(--disabled-bg-color);\n",
              "    fill: var(--disabled-fill-color);\n",
              "    box-shadow: none;\n",
              "  }\n",
              "\n",
              "  .colab-df-spinner {\n",
              "    border: 2px solid var(--fill-color);\n",
              "    border-color: transparent;\n",
              "    border-bottom-color: var(--fill-color);\n",
              "    animation:\n",
              "      spin 1s steps(1) infinite;\n",
              "  }\n",
              "\n",
              "  @keyframes spin {\n",
              "    0% {\n",
              "      border-color: transparent;\n",
              "      border-bottom-color: var(--fill-color);\n",
              "      border-left-color: var(--fill-color);\n",
              "    }\n",
              "    20% {\n",
              "      border-color: transparent;\n",
              "      border-left-color: var(--fill-color);\n",
              "      border-top-color: var(--fill-color);\n",
              "    }\n",
              "    30% {\n",
              "      border-color: transparent;\n",
              "      border-left-color: var(--fill-color);\n",
              "      border-top-color: var(--fill-color);\n",
              "      border-right-color: var(--fill-color);\n",
              "    }\n",
              "    40% {\n",
              "      border-color: transparent;\n",
              "      border-right-color: var(--fill-color);\n",
              "      border-top-color: var(--fill-color);\n",
              "    }\n",
              "    60% {\n",
              "      border-color: transparent;\n",
              "      border-right-color: var(--fill-color);\n",
              "    }\n",
              "    80% {\n",
              "      border-color: transparent;\n",
              "      border-right-color: var(--fill-color);\n",
              "      border-bottom-color: var(--fill-color);\n",
              "    }\n",
              "    90% {\n",
              "      border-color: transparent;\n",
              "      border-bottom-color: var(--fill-color);\n",
              "    }\n",
              "  }\n",
              "</style>\n",
              "\n",
              "  <script>\n",
              "    async function quickchart(key) {\n",
              "      const quickchartButtonEl =\n",
              "        document.querySelector('#' + key + ' button');\n",
              "      quickchartButtonEl.disabled = true;  // To prevent multiple clicks.\n",
              "      quickchartButtonEl.classList.add('colab-df-spinner');\n",
              "      try {\n",
              "        const charts = await google.colab.kernel.invokeFunction(\n",
              "            'suggestCharts', [key], {});\n",
              "      } catch (error) {\n",
              "        console.error('Error during call to suggestCharts:', error);\n",
              "      }\n",
              "      quickchartButtonEl.classList.remove('colab-df-spinner');\n",
              "      quickchartButtonEl.classList.add('colab-df-quickchart-complete');\n",
              "    }\n",
              "    (() => {\n",
              "      let quickchartButtonEl =\n",
              "        document.querySelector('#df-9927d764-85f6-4e7a-a027-e653ab514382 button');\n",
              "      quickchartButtonEl.style.display =\n",
              "        google.colab.kernel.accessAllowed ? 'block' : 'none';\n",
              "    })();\n",
              "  </script>\n",
              "</div>\n",
              "    </div>\n",
              "  </div>\n"
            ]
          },
          "metadata": {},
          "execution_count": 5
        }
      ]
    },
    {
      "cell_type": "markdown",
      "source": [
        "# New Section"
      ],
      "metadata": {
        "id": "igCRfxl-Hrhx"
      }
    },
    {
      "cell_type": "code",
      "source": [
        "Data=Data.dropna()\n",
        "Data=Data.drop_duplicates()\n"
      ],
      "metadata": {
        "id": "ZyhUENO-G1u1"
      },
      "execution_count": null,
      "outputs": []
    },
    {
      "cell_type": "code",
      "source": [
        "Data.head(10)"
      ],
      "metadata": {
        "colab": {
          "base_uri": "https://localhost:8080/",
          "height": 397
        },
        "id": "oPLnPLlkMlJf",
        "outputId": "80d8353e-9a48-404b-9aa0-57472074df4c"
      },
      "execution_count": null,
      "outputs": [
        {
          "output_type": "execute_result",
          "data": {
            "text/plain": [
              "   UDI Product ID Type  Air temperature [K]  Process temperature [K]  \\\n",
              "0   51     L47230    L                298.9                    309.1   \n",
              "1   70     L47249    L                298.9                    309.0   \n",
              "2   78     L47257    L                298.8                    308.9   \n",
              "3  161     L47340    L                298.4                    308.2   \n",
              "4  162     L47341    L                298.3                    308.1   \n",
              "5  169     L47348    L                298.4                    308.3   \n",
              "6  195     M15054    M                298.2                    308.5   \n",
              "7  208     M15067    M                298.4                    308.7   \n",
              "8  243     L47422    L                298.0                    308.2   \n",
              "9  249     L47428    L                298.0                    308.3   \n",
              "\n",
              "   Rotational speed [rpm]  Torque [Nm]  Tool wear [min]  Machine failure  \\\n",
              "0                    2861          4.6              143                1   \n",
              "1                    1410         65.7              191                1   \n",
              "2                    1455         41.3              208                1   \n",
              "3                    1282         60.7              216                1   \n",
              "4                    1412         52.3              218                1   \n",
              "5                    1433         62.3               20                1   \n",
              "6                    2678         10.7               86                1   \n",
              "7                    1421         60.7              119                1   \n",
              "8                    1348         58.8              202                1   \n",
              "9                    1362         56.8              216                1   \n",
              "\n",
              "   Useful life  ToolWearFailure  HeatDiscipationFailure  PowerFailure  \\\n",
              "0       1943.9                0                       0             1   \n",
              "1        493.1                0                       0             1   \n",
              "2        538.4                1                       0             0   \n",
              "3        367.2                0                       0             0   \n",
              "4        497.5                0                       0             0   \n",
              "5        518.0                0                       0             1   \n",
              "6       1762.8                0                       0             1   \n",
              "7        505.2                0                       0             1   \n",
              "8        433.6                0                       0             0   \n",
              "9        447.4                0                       0             0   \n",
              "\n",
              "   OverstrainFailure  RandomFailure  \n",
              "0                  0              0  \n",
              "1                  1              0  \n",
              "2                  0              0  \n",
              "3                  1              0  \n",
              "4                  1              0  \n",
              "5                  0              0  \n",
              "6                  0              0  \n",
              "7                  0              0  \n",
              "8                  1              0  \n",
              "9                  1              0  "
            ],
            "text/html": [
              "\n",
              "  <div id=\"df-c9fc561a-cd6e-4fb7-aba6-6978eeae1538\" class=\"colab-df-container\">\n",
              "    <div>\n",
              "<style scoped>\n",
              "    .dataframe tbody tr th:only-of-type {\n",
              "        vertical-align: middle;\n",
              "    }\n",
              "\n",
              "    .dataframe tbody tr th {\n",
              "        vertical-align: top;\n",
              "    }\n",
              "\n",
              "    .dataframe thead th {\n",
              "        text-align: right;\n",
              "    }\n",
              "</style>\n",
              "<table border=\"1\" class=\"dataframe\">\n",
              "  <thead>\n",
              "    <tr style=\"text-align: right;\">\n",
              "      <th></th>\n",
              "      <th>UDI</th>\n",
              "      <th>Product ID</th>\n",
              "      <th>Type</th>\n",
              "      <th>Air temperature [K]</th>\n",
              "      <th>Process temperature [K]</th>\n",
              "      <th>Rotational speed [rpm]</th>\n",
              "      <th>Torque [Nm]</th>\n",
              "      <th>Tool wear [min]</th>\n",
              "      <th>Machine failure</th>\n",
              "      <th>Useful life</th>\n",
              "      <th>ToolWearFailure</th>\n",
              "      <th>HeatDiscipationFailure</th>\n",
              "      <th>PowerFailure</th>\n",
              "      <th>OverstrainFailure</th>\n",
              "      <th>RandomFailure</th>\n",
              "    </tr>\n",
              "  </thead>\n",
              "  <tbody>\n",
              "    <tr>\n",
              "      <th>0</th>\n",
              "      <td>51</td>\n",
              "      <td>L47230</td>\n",
              "      <td>L</td>\n",
              "      <td>298.9</td>\n",
              "      <td>309.1</td>\n",
              "      <td>2861</td>\n",
              "      <td>4.6</td>\n",
              "      <td>143</td>\n",
              "      <td>1</td>\n",
              "      <td>1943.9</td>\n",
              "      <td>0</td>\n",
              "      <td>0</td>\n",
              "      <td>1</td>\n",
              "      <td>0</td>\n",
              "      <td>0</td>\n",
              "    </tr>\n",
              "    <tr>\n",
              "      <th>1</th>\n",
              "      <td>70</td>\n",
              "      <td>L47249</td>\n",
              "      <td>L</td>\n",
              "      <td>298.9</td>\n",
              "      <td>309.0</td>\n",
              "      <td>1410</td>\n",
              "      <td>65.7</td>\n",
              "      <td>191</td>\n",
              "      <td>1</td>\n",
              "      <td>493.1</td>\n",
              "      <td>0</td>\n",
              "      <td>0</td>\n",
              "      <td>1</td>\n",
              "      <td>1</td>\n",
              "      <td>0</td>\n",
              "    </tr>\n",
              "    <tr>\n",
              "      <th>2</th>\n",
              "      <td>78</td>\n",
              "      <td>L47257</td>\n",
              "      <td>L</td>\n",
              "      <td>298.8</td>\n",
              "      <td>308.9</td>\n",
              "      <td>1455</td>\n",
              "      <td>41.3</td>\n",
              "      <td>208</td>\n",
              "      <td>1</td>\n",
              "      <td>538.4</td>\n",
              "      <td>1</td>\n",
              "      <td>0</td>\n",
              "      <td>0</td>\n",
              "      <td>0</td>\n",
              "      <td>0</td>\n",
              "    </tr>\n",
              "    <tr>\n",
              "      <th>3</th>\n",
              "      <td>161</td>\n",
              "      <td>L47340</td>\n",
              "      <td>L</td>\n",
              "      <td>298.4</td>\n",
              "      <td>308.2</td>\n",
              "      <td>1282</td>\n",
              "      <td>60.7</td>\n",
              "      <td>216</td>\n",
              "      <td>1</td>\n",
              "      <td>367.2</td>\n",
              "      <td>0</td>\n",
              "      <td>0</td>\n",
              "      <td>0</td>\n",
              "      <td>1</td>\n",
              "      <td>0</td>\n",
              "    </tr>\n",
              "    <tr>\n",
              "      <th>4</th>\n",
              "      <td>162</td>\n",
              "      <td>L47341</td>\n",
              "      <td>L</td>\n",
              "      <td>298.3</td>\n",
              "      <td>308.1</td>\n",
              "      <td>1412</td>\n",
              "      <td>52.3</td>\n",
              "      <td>218</td>\n",
              "      <td>1</td>\n",
              "      <td>497.5</td>\n",
              "      <td>0</td>\n",
              "      <td>0</td>\n",
              "      <td>0</td>\n",
              "      <td>1</td>\n",
              "      <td>0</td>\n",
              "    </tr>\n",
              "    <tr>\n",
              "      <th>5</th>\n",
              "      <td>169</td>\n",
              "      <td>L47348</td>\n",
              "      <td>L</td>\n",
              "      <td>298.4</td>\n",
              "      <td>308.3</td>\n",
              "      <td>1433</td>\n",
              "      <td>62.3</td>\n",
              "      <td>20</td>\n",
              "      <td>1</td>\n",
              "      <td>518.0</td>\n",
              "      <td>0</td>\n",
              "      <td>0</td>\n",
              "      <td>1</td>\n",
              "      <td>0</td>\n",
              "      <td>0</td>\n",
              "    </tr>\n",
              "    <tr>\n",
              "      <th>6</th>\n",
              "      <td>195</td>\n",
              "      <td>M15054</td>\n",
              "      <td>M</td>\n",
              "      <td>298.2</td>\n",
              "      <td>308.5</td>\n",
              "      <td>2678</td>\n",
              "      <td>10.7</td>\n",
              "      <td>86</td>\n",
              "      <td>1</td>\n",
              "      <td>1762.8</td>\n",
              "      <td>0</td>\n",
              "      <td>0</td>\n",
              "      <td>1</td>\n",
              "      <td>0</td>\n",
              "      <td>0</td>\n",
              "    </tr>\n",
              "    <tr>\n",
              "      <th>7</th>\n",
              "      <td>208</td>\n",
              "      <td>M15067</td>\n",
              "      <td>M</td>\n",
              "      <td>298.4</td>\n",
              "      <td>308.7</td>\n",
              "      <td>1421</td>\n",
              "      <td>60.7</td>\n",
              "      <td>119</td>\n",
              "      <td>1</td>\n",
              "      <td>505.2</td>\n",
              "      <td>0</td>\n",
              "      <td>0</td>\n",
              "      <td>1</td>\n",
              "      <td>0</td>\n",
              "      <td>0</td>\n",
              "    </tr>\n",
              "    <tr>\n",
              "      <th>8</th>\n",
              "      <td>243</td>\n",
              "      <td>L47422</td>\n",
              "      <td>L</td>\n",
              "      <td>298.0</td>\n",
              "      <td>308.2</td>\n",
              "      <td>1348</td>\n",
              "      <td>58.8</td>\n",
              "      <td>202</td>\n",
              "      <td>1</td>\n",
              "      <td>433.6</td>\n",
              "      <td>0</td>\n",
              "      <td>0</td>\n",
              "      <td>0</td>\n",
              "      <td>1</td>\n",
              "      <td>0</td>\n",
              "    </tr>\n",
              "    <tr>\n",
              "      <th>9</th>\n",
              "      <td>249</td>\n",
              "      <td>L47428</td>\n",
              "      <td>L</td>\n",
              "      <td>298.0</td>\n",
              "      <td>308.3</td>\n",
              "      <td>1362</td>\n",
              "      <td>56.8</td>\n",
              "      <td>216</td>\n",
              "      <td>1</td>\n",
              "      <td>447.4</td>\n",
              "      <td>0</td>\n",
              "      <td>0</td>\n",
              "      <td>0</td>\n",
              "      <td>1</td>\n",
              "      <td>0</td>\n",
              "    </tr>\n",
              "  </tbody>\n",
              "</table>\n",
              "</div>\n",
              "    <div class=\"colab-df-buttons\">\n",
              "\n",
              "  <div class=\"colab-df-container\">\n",
              "    <button class=\"colab-df-convert\" onclick=\"convertToInteractive('df-c9fc561a-cd6e-4fb7-aba6-6978eeae1538')\"\n",
              "            title=\"Convert this dataframe to an interactive table.\"\n",
              "            style=\"display:none;\">\n",
              "\n",
              "  <svg xmlns=\"http://www.w3.org/2000/svg\" height=\"24px\" viewBox=\"0 -960 960 960\">\n",
              "    <path d=\"M120-120v-720h720v720H120Zm60-500h600v-160H180v160Zm220 220h160v-160H400v160Zm0 220h160v-160H400v160ZM180-400h160v-160H180v160Zm440 0h160v-160H620v160ZM180-180h160v-160H180v160Zm440 0h160v-160H620v160Z\"/>\n",
              "  </svg>\n",
              "    </button>\n",
              "\n",
              "  <style>\n",
              "    .colab-df-container {\n",
              "      display:flex;\n",
              "      gap: 12px;\n",
              "    }\n",
              "\n",
              "    .colab-df-convert {\n",
              "      background-color: #E8F0FE;\n",
              "      border: none;\n",
              "      border-radius: 50%;\n",
              "      cursor: pointer;\n",
              "      display: none;\n",
              "      fill: #1967D2;\n",
              "      height: 32px;\n",
              "      padding: 0 0 0 0;\n",
              "      width: 32px;\n",
              "    }\n",
              "\n",
              "    .colab-df-convert:hover {\n",
              "      background-color: #E2EBFA;\n",
              "      box-shadow: 0px 1px 2px rgba(60, 64, 67, 0.3), 0px 1px 3px 1px rgba(60, 64, 67, 0.15);\n",
              "      fill: #174EA6;\n",
              "    }\n",
              "\n",
              "    .colab-df-buttons div {\n",
              "      margin-bottom: 4px;\n",
              "    }\n",
              "\n",
              "    [theme=dark] .colab-df-convert {\n",
              "      background-color: #3B4455;\n",
              "      fill: #D2E3FC;\n",
              "    }\n",
              "\n",
              "    [theme=dark] .colab-df-convert:hover {\n",
              "      background-color: #434B5C;\n",
              "      box-shadow: 0px 1px 3px 1px rgba(0, 0, 0, 0.15);\n",
              "      filter: drop-shadow(0px 1px 2px rgba(0, 0, 0, 0.3));\n",
              "      fill: #FFFFFF;\n",
              "    }\n",
              "  </style>\n",
              "\n",
              "    <script>\n",
              "      const buttonEl =\n",
              "        document.querySelector('#df-c9fc561a-cd6e-4fb7-aba6-6978eeae1538 button.colab-df-convert');\n",
              "      buttonEl.style.display =\n",
              "        google.colab.kernel.accessAllowed ? 'block' : 'none';\n",
              "\n",
              "      async function convertToInteractive(key) {\n",
              "        const element = document.querySelector('#df-c9fc561a-cd6e-4fb7-aba6-6978eeae1538');\n",
              "        const dataTable =\n",
              "          await google.colab.kernel.invokeFunction('convertToInteractive',\n",
              "                                                    [key], {});\n",
              "        if (!dataTable) return;\n",
              "\n",
              "        const docLinkHtml = 'Like what you see? Visit the ' +\n",
              "          '<a target=\"_blank\" href=https://colab.research.google.com/notebooks/data_table.ipynb>data table notebook</a>'\n",
              "          + ' to learn more about interactive tables.';\n",
              "        element.innerHTML = '';\n",
              "        dataTable['output_type'] = 'display_data';\n",
              "        await google.colab.output.renderOutput(dataTable, element);\n",
              "        const docLink = document.createElement('div');\n",
              "        docLink.innerHTML = docLinkHtml;\n",
              "        element.appendChild(docLink);\n",
              "      }\n",
              "    </script>\n",
              "  </div>\n",
              "\n",
              "\n",
              "<div id=\"df-976cdb40-5546-4f96-8ebf-df0ef2c95cfe\">\n",
              "  <button class=\"colab-df-quickchart\" onclick=\"quickchart('df-976cdb40-5546-4f96-8ebf-df0ef2c95cfe')\"\n",
              "            title=\"Suggest charts.\"\n",
              "            style=\"display:none;\">\n",
              "\n",
              "<svg xmlns=\"http://www.w3.org/2000/svg\" height=\"24px\"viewBox=\"0 0 24 24\"\n",
              "     width=\"24px\">\n",
              "    <g>\n",
              "        <path d=\"M19 3H5c-1.1 0-2 .9-2 2v14c0 1.1.9 2 2 2h14c1.1 0 2-.9 2-2V5c0-1.1-.9-2-2-2zM9 17H7v-7h2v7zm4 0h-2V7h2v10zm4 0h-2v-4h2v4z\"/>\n",
              "    </g>\n",
              "</svg>\n",
              "  </button>\n",
              "\n",
              "<style>\n",
              "  .colab-df-quickchart {\n",
              "      --bg-color: #E8F0FE;\n",
              "      --fill-color: #1967D2;\n",
              "      --hover-bg-color: #E2EBFA;\n",
              "      --hover-fill-color: #174EA6;\n",
              "      --disabled-fill-color: #AAA;\n",
              "      --disabled-bg-color: #DDD;\n",
              "  }\n",
              "\n",
              "  [theme=dark] .colab-df-quickchart {\n",
              "      --bg-color: #3B4455;\n",
              "      --fill-color: #D2E3FC;\n",
              "      --hover-bg-color: #434B5C;\n",
              "      --hover-fill-color: #FFFFFF;\n",
              "      --disabled-bg-color: #3B4455;\n",
              "      --disabled-fill-color: #666;\n",
              "  }\n",
              "\n",
              "  .colab-df-quickchart {\n",
              "    background-color: var(--bg-color);\n",
              "    border: none;\n",
              "    border-radius: 50%;\n",
              "    cursor: pointer;\n",
              "    display: none;\n",
              "    fill: var(--fill-color);\n",
              "    height: 32px;\n",
              "    padding: 0;\n",
              "    width: 32px;\n",
              "  }\n",
              "\n",
              "  .colab-df-quickchart:hover {\n",
              "    background-color: var(--hover-bg-color);\n",
              "    box-shadow: 0 1px 2px rgba(60, 64, 67, 0.3), 0 1px 3px 1px rgba(60, 64, 67, 0.15);\n",
              "    fill: var(--button-hover-fill-color);\n",
              "  }\n",
              "\n",
              "  .colab-df-quickchart-complete:disabled,\n",
              "  .colab-df-quickchart-complete:disabled:hover {\n",
              "    background-color: var(--disabled-bg-color);\n",
              "    fill: var(--disabled-fill-color);\n",
              "    box-shadow: none;\n",
              "  }\n",
              "\n",
              "  .colab-df-spinner {\n",
              "    border: 2px solid var(--fill-color);\n",
              "    border-color: transparent;\n",
              "    border-bottom-color: var(--fill-color);\n",
              "    animation:\n",
              "      spin 1s steps(1) infinite;\n",
              "  }\n",
              "\n",
              "  @keyframes spin {\n",
              "    0% {\n",
              "      border-color: transparent;\n",
              "      border-bottom-color: var(--fill-color);\n",
              "      border-left-color: var(--fill-color);\n",
              "    }\n",
              "    20% {\n",
              "      border-color: transparent;\n",
              "      border-left-color: var(--fill-color);\n",
              "      border-top-color: var(--fill-color);\n",
              "    }\n",
              "    30% {\n",
              "      border-color: transparent;\n",
              "      border-left-color: var(--fill-color);\n",
              "      border-top-color: var(--fill-color);\n",
              "      border-right-color: var(--fill-color);\n",
              "    }\n",
              "    40% {\n",
              "      border-color: transparent;\n",
              "      border-right-color: var(--fill-color);\n",
              "      border-top-color: var(--fill-color);\n",
              "    }\n",
              "    60% {\n",
              "      border-color: transparent;\n",
              "      border-right-color: var(--fill-color);\n",
              "    }\n",
              "    80% {\n",
              "      border-color: transparent;\n",
              "      border-right-color: var(--fill-color);\n",
              "      border-bottom-color: var(--fill-color);\n",
              "    }\n",
              "    90% {\n",
              "      border-color: transparent;\n",
              "      border-bottom-color: var(--fill-color);\n",
              "    }\n",
              "  }\n",
              "</style>\n",
              "\n",
              "  <script>\n",
              "    async function quickchart(key) {\n",
              "      const quickchartButtonEl =\n",
              "        document.querySelector('#' + key + ' button');\n",
              "      quickchartButtonEl.disabled = true;  // To prevent multiple clicks.\n",
              "      quickchartButtonEl.classList.add('colab-df-spinner');\n",
              "      try {\n",
              "        const charts = await google.colab.kernel.invokeFunction(\n",
              "            'suggestCharts', [key], {});\n",
              "      } catch (error) {\n",
              "        console.error('Error during call to suggestCharts:', error);\n",
              "      }\n",
              "      quickchartButtonEl.classList.remove('colab-df-spinner');\n",
              "      quickchartButtonEl.classList.add('colab-df-quickchart-complete');\n",
              "    }\n",
              "    (() => {\n",
              "      let quickchartButtonEl =\n",
              "        document.querySelector('#df-976cdb40-5546-4f96-8ebf-df0ef2c95cfe button');\n",
              "      quickchartButtonEl.style.display =\n",
              "        google.colab.kernel.accessAllowed ? 'block' : 'none';\n",
              "    })();\n",
              "  </script>\n",
              "</div>\n",
              "    </div>\n",
              "  </div>\n"
            ]
          },
          "metadata": {},
          "execution_count": 9
        }
      ]
    },
    {
      "cell_type": "code",
      "source": [
        "import seaborn as sns\n",
        "sns.boxplot(Data['Air temperature [K]'])"
      ],
      "metadata": {
        "colab": {
          "base_uri": "https://localhost:8080/",
          "height": 448
        },
        "id": "_d2237UCHXYl",
        "outputId": "4ff0eeaa-b5cd-47b1-f968-1451d286de57"
      },
      "execution_count": null,
      "outputs": [
        {
          "output_type": "execute_result",
          "data": {
            "text/plain": [
              "<Axes: >"
            ]
          },
          "metadata": {},
          "execution_count": 10
        },
        {
          "output_type": "display_data",
          "data": {
            "text/plain": [
              "<Figure size 640x480 with 1 Axes>"
            ],
            "image/png": "[encoded data removed]"
          },
          "metadata": {}
        }
      ]
    },
    {
      "cell_type": "code",
      "source": [
        "import seaborn as sns\n",
        "sns.boxplot(Data['Process temperature [K]'])"
      ],
      "metadata": {
        "colab": {
          "base_uri": "https://localhost:8080/",
          "height": 448
        },
        "id": "WaWHeOnUIESq",
        "outputId": "1b8cf594-3146-42ee-dbc0-5b695240ff25"
      },
      "execution_count": null,
      "outputs": [
        {
          "output_type": "execute_result",
          "data": {
            "text/plain": [
              "<Axes: >"
            ]
          },
          "metadata": {},
          "execution_count": 11
        },
        {
          "output_type": "display_data",
          "data": {
            "text/plain": [
              "<Figure size 640x480 with 1 Axes>"
            ],
            "image/png": "[encoded data removed]"
          },
          "metadata": {}
        }
      ]
    },
    {
      "cell_type": "code",
      "source": [
        "\n",
        "sns.boxplot(Data['Rotational speed [rpm]'])\n"
      ],
      "metadata": {
        "colab": {
          "base_uri": "https://localhost:8080/",
          "height": 448
        },
        "id": "B1e-D0BdILpB",
        "outputId": "f334ec99-dbff-40ff-82ac-17b543c8c008"
      },
      "execution_count": null,
      "outputs": [
        {
          "output_type": "execute_result",
          "data": {
            "text/plain": [
              "<Axes: >"
            ]
          },
          "metadata": {},
          "execution_count": 12
        },
        {
          "output_type": "display_data",
          "data": {
            "text/plain": [
              "<Figure size 640x480 with 1 Axes>"
            ],
            "image/png": "[encoded data removed]"
          },
          "metadata": {}
        }
      ]
    },
    {
      "cell_type": "code",
      "source": [
        "import numpy as np\n",
        "Q1 = np.percentile(Data['Rotational speed [rpm]'], 25,\n",
        "                   interpolation = 'midpoint')\n",
        "\n",
        "Q3 = np.percentile(Data['Rotational speed [rpm]'], 75,\n",
        "                   interpolation = 'midpoint')\n",
        "IQR = Q3 - Q1\n",
        "UpperLimit=Q3 + 1.5*IQR\n",
        "LowerLimit=Q1 - 1.5*IQR\n",
        "\n",
        "OutlierList=[]\n",
        "for i in range (Data['Rotational speed [rpm]'].shape[0]):\n",
        "  if Data['Rotational speed [rpm]'][i]>=UpperLimit:\n",
        "    OutlierList.append(i)\n",
        "  elif Data['Rotational speed [rpm]'][i]<=LowerLimit:\n",
        "    OutlierList.append(i)\n",
        "print(OutlierList)\n",
        "\n",
        "Data=Data.drop(OutlierList)"
      ],
      "metadata": {
        "colab": {
          "base_uri": "https://localhost:8080/"
        },
        "id": "vgYNMahJLz_o",
        "outputId": "26ad4f99-6750-4c41-931d-6cead050987a"
      },
      "execution_count": null,
      "outputs": [
        {
          "output_type": "stream",
          "name": "stderr",
          "text": [
            "<ipython-input-13-94ad40e3148a>:2: DeprecationWarning: the `interpolation=` argument to percentile was renamed to `method=`, which has additional options.\n",
            "Users of the modes 'nearest', 'lower', 'higher', or 'midpoint' are encouraged to review the method they used. (Deprecated NumPy 1.22)\n",
            "  Q1 = np.percentile(Data['Rotational speed [rpm]'], 25,\n",
            "<ipython-input-13-94ad40e3148a>:5: DeprecationWarning: the `interpolation=` argument to percentile was renamed to `method=`, which has additional options.\n",
            "Users of the modes 'nearest', 'lower', 'higher', or 'midpoint' are encouraged to review the method they used. (Deprecated NumPy 1.22)\n",
            "  Q3 = np.percentile(Data['Rotational speed [rpm]'], 75,\n"
          ]
        },
        {
          "output_type": "stream",
          "name": "stdout",
          "text": [
            "[0, 6, 13, 15, 19, 21, 26, 33, 37, 47, 49, 56, 73, 76, 81, 82, 85, 97, 106, 145, 146, 165, 217, 233, 234, 240, 274, 277, 278, 286, 292, 299, 308, 326, 334, 353, 407, 437, 491, 505, 510, 594, 611, 625, 632, 662, 670, 725, 743, 790, 841, 842, 868, 891, 908, 923, 924, 944, 974, 1053, 1069, 1116, 1175, 1180, 1183, 1195, 1205, 1244, 1271, 1293, 1305, 1314, 1349, 1367, 1402, 1427, 1505, 1515, 1540, 1570, 1609, 1624, 1712, 1717, 1779, 1784, 1796, 1797, 1821, 1837, 1858, 1860, 1871, 1917, 2015, 2016, 2019, 2031, 2040, 2044, 2054, 2061, 2108, 2176, 2191, 2196, 2208, 2219, 2224, 2323, 2344, 2365, 2374, 2405, 2441, 2510, 2682, 2699, 2701, 2728, 2731, 2788, 2818, 2848, 2860, 2862, 2883, 2884, 2923, 2937, 2969, 2979, 3036, 3050, 3133, 3170, 3206, 3208, 3210, 3296, 3307, 3334, 3344, 3355, 3357, 3384, 3477, 3479, 3497, 3518, 3521, 3530, 3580, 3586, 3587, 3628, 3689, 3690, 3694, 3711, 3724, 3791, 3796, 3838, 3842, 3861, 3947, 4047, 4096, 4129, 4170, 4172, 4175, 4180, 4192, 4219, 4254, 4266, 4285, 4293, 4295, 4309, 4317, 4367, 4409, 4421, 4433, 4445, 4461, 4485, 4494, 4584, 4594, 4599, 4613, 4629, 4643, 4649, 4653, 4673, 4682, 4695, 4717, 4728, 4742, 4755, 4759, 4765, 4787, 4822, 4840, 4841, 4853, 4857, 4865, 4880, 4934, 4942, 4971, 4973, 5002, 5009, 5013, 5032, 5058, 5064, 5105, 5186, 5217, 5229, 5253, 5262, 5284, 5286, 5287, 5305, 5330, 5348, 5354, 5398, 5426, 5455, 5475, 5495, 5501, 5538, 5543, 5577, 5588, 5590, 5603, 5610, 5673, 5686, 5708, 5736, 5756, 5776, 5832, 5837, 5862, 5935, 5956, 5957, 5968, 6033, 6080, 6090, 6093, 6135, 6142, 6151, 6180, 6194, 6207, 6219, 6229, 6259, 6263, 6267, 6269, 6307, 6321, 6345, 6365, 6385, 6407, 6440, 6479, 6556, 6558, 6569, 6573, 6582, 6629, 6632, 6635, 6660, 6663, 6715, 6722, 6730, 6738, 6784, 6814, 6836, 6842, 6855, 6923, 6924, 6925, 6943, 6946, 6947, 7025, 7028, 7039, 7049, 7065, 7084, 7103, 7108, 7136, 7145, 7178, 7209, 7239, 7282, 7317, 7344, 7377, 7421, 7465, 7488, 7529, 7566, 7572, 7618, 7638, 7645, 7653, 7694, 7719, 7739, 7759, 7783, 7811, 7853, 7857, 7861, 7917, 7927, 7973, 7997, 8048, 8073, 8128, 8148, 8151, 8153, 8221, 8226, 8275, 8284, 8295, 8367, 8400, 8448, 8572, 8599, 8737, 8912, 8939, 8962, 8964, 9016, 9055, 9056, 9070, 9083, 9106, 9181, 9186, 9206, 9225, 9244, 9245, 9249, 9286, 9334, 9343, 9347, 9365, 9400, 9401, 9406, 9419, 9421, 9433, 9458, 9469, 9582, 9613, 9632, 9640, 9682, 9727, 9729, 9737, 9766, 9805, 9833, 9850, 9866, 9872, 9887, 9927, 9940]\n"
          ]
        }
      ]
    },
    {
      "cell_type": "code",
      "source": [
        "Data = pd.DataFrame(Data)\n",
        "\n",
        "# Reset the index\n",
        "Data.reset_index(drop=True, inplace=True)\n"
      ],
      "metadata": {
        "id": "S5XfOPJMNyTP"
      },
      "execution_count": null,
      "outputs": []
    },
    {
      "cell_type": "code",
      "source": [
        "Data"
      ],
      "metadata": {
        "colab": {
          "base_uri": "https://localhost:8080/",
          "height": 458
        },
        "id": "FY3MTInQPmxH",
        "outputId": "e16ebc2a-beb1-4b54-98cd-42921a20a372"
      },
      "execution_count": null,
      "outputs": [
        {
          "output_type": "execute_result",
          "data": {
            "text/plain": [
              "        UDI Product ID Type  Air temperature [K]  Process temperature [K]  \\\n",
              "0        70     L47249    L                298.9                    309.0   \n",
              "1        78     L47257    L                298.8                    308.9   \n",
              "2       161     L47340    L                298.4                    308.2   \n",
              "3       162     L47341    L                298.3                    308.1   \n",
              "4       169     L47348    L                298.4                    308.3   \n",
              "...     ...        ...  ...                  ...                      ...   \n",
              "9577   9996     M24855    M                298.8                    308.4   \n",
              "9578   9997     H39410    H                298.9                    308.4   \n",
              "9579   9998     M24857    M                299.0                    308.6   \n",
              "9580   9999     H39412    H                299.0                    308.7   \n",
              "9581  10000     M24859    M                299.0                    308.7   \n",
              "\n",
              "      Rotational speed [rpm]  Torque [Nm]  Tool wear [min]  Machine failure  \\\n",
              "0                       1410         65.7              191                1   \n",
              "1                       1455         41.3              208                1   \n",
              "2                       1282         60.7              216                1   \n",
              "3                       1412         52.3              218                1   \n",
              "4                       1433         62.3               20                1   \n",
              "...                      ...          ...              ...              ...   \n",
              "9577                    1604         29.5               14                0   \n",
              "9578                    1632         31.8               17                0   \n",
              "9579                    1645         33.4               22                0   \n",
              "9580                    1408         48.5               25                0   \n",
              "9581                    1500         40.2               30                0   \n",
              "\n",
              "      Useful life  ToolWearFailure  HeatDiscipationFailure  PowerFailure  \\\n",
              "0           493.1                0                       0             1   \n",
              "1           538.4                1                       0             0   \n",
              "2           367.2                0                       0             0   \n",
              "3           497.5                0                       0             0   \n",
              "4           518.0                0                       0             1   \n",
              "...           ...              ...                     ...           ...   \n",
              "9577          0.0                0                       0             0   \n",
              "9578          0.0                0                       0             0   \n",
              "9579          0.0                0                       0             0   \n",
              "9580          0.0                0                       0             0   \n",
              "9581          0.0                0                       0             0   \n",
              "\n",
              "      OverstrainFailure  RandomFailure  \n",
              "0                     1              0  \n",
              "1                     0              0  \n",
              "2                     1              0  \n",
              "3                     1              0  \n",
              "4                     0              0  \n",
              "...                 ...            ...  \n",
              "9577                  0              0  \n",
              "9578                  0              0  \n",
              "9579                  0              0  \n",
              "9580                  0              0  \n",
              "9581                  0              0  \n",
              "\n",
              "[9582 rows x 15 columns]"
            ],
            "text/html": [
              "\n",
              "  <div id=\"df-29a6e563-78e3-4f7b-b652-c19db6291ed5\" class=\"colab-df-container\">\n",
              "    <div>\n",
              "<style scoped>\n",
              "    .dataframe tbody tr th:only-of-type {\n",
              "        vertical-align: middle;\n",
              "    }\n",
              "\n",
              "    .dataframe tbody tr th {\n",
              "        vertical-align: top;\n",
              "    }\n",
              "\n",
              "    .dataframe thead th {\n",
              "        text-align: right;\n",
              "    }\n",
              "</style>\n",
              "<table border=\"1\" class=\"dataframe\">\n",
              "  <thead>\n",
              "    <tr style=\"text-align: right;\">\n",
              "      <th></th>\n",
              "      <th>UDI</th>\n",
              "      <th>Product ID</th>\n",
              "      <th>Type</th>\n",
              "      <th>Air temperature [K]</th>\n",
              "      <th>Process temperature [K]</th>\n",
              "      <th>Rotational speed [rpm]</th>\n",
              "      <th>Torque [Nm]</th>\n",
              "      <th>Tool wear [min]</th>\n",
              "      <th>Machine failure</th>\n",
              "      <th>Useful life</th>\n",
              "      <th>ToolWearFailure</th>\n",
              "      <th>HeatDiscipationFailure</th>\n",
              "      <th>PowerFailure</th>\n",
              "      <th>OverstrainFailure</th>\n",
              "      <th>RandomFailure</th>\n",
              "    </tr>\n",
              "  </thead>\n",
              "  <tbody>\n",
              "    <tr>\n",
              "      <th>0</th>\n",
              "      <td>70</td>\n",
              "      <td>L47249</td>\n",
              "      <td>L</td>\n",
              "      <td>298.9</td>\n",
              "      <td>309.0</td>\n",
              "      <td>1410</td>\n",
              "      <td>65.7</td>\n",
              "      <td>191</td>\n",
              "      <td>1</td>\n",
              "      <td>493.1</td>\n",
              "      <td>0</td>\n",
              "      <td>0</td>\n",
              "      <td>1</td>\n",
              "      <td>1</td>\n",
              "      <td>0</td>\n",
              "    </tr>\n",
              "    <tr>\n",
              "      <th>1</th>\n",
              "      <td>78</td>\n",
              "      <td>L47257</td>\n",
              "      <td>L</td>\n",
              "      <td>298.8</td>\n",
              "      <td>308.9</td>\n",
              "      <td>1455</td>\n",
              "      <td>41.3</td>\n",
              "      <td>208</td>\n",
              "      <td>1</td>\n",
              "      <td>538.4</td>\n",
              "      <td>1</td>\n",
              "      <td>0</td>\n",
              "      <td>0</td>\n",
              "      <td>0</td>\n",
              "      <td>0</td>\n",
              "    </tr>\n",
              "    <tr>\n",
              "      <th>2</th>\n",
              "      <td>161</td>\n",
              "      <td>L47340</td>\n",
              "      <td>L</td>\n",
              "      <td>298.4</td>\n",
              "      <td>308.2</td>\n",
              "      <td>1282</td>\n",
              "      <td>60.7</td>\n",
              "      <td>216</td>\n",
              "      <td>1</td>\n",
              "      <td>367.2</td>\n",
              "      <td>0</td>\n",
              "      <td>0</td>\n",
              "      <td>0</td>\n",
              "      <td>1</td>\n",
              "      <td>0</td>\n",
              "    </tr>\n",
              "    <tr>\n",
              "      <th>3</th>\n",
              "      <td>162</td>\n",
              "      <td>L47341</td>\n",
              "      <td>L</td>\n",
              "      <td>298.3</td>\n",
              "      <td>308.1</td>\n",
              "      <td>1412</td>\n",
              "      <td>52.3</td>\n",
              "      <td>218</td>\n",
              "      <td>1</td>\n",
              "      <td>497.5</td>\n",
              "      <td>0</td>\n",
              "      <td>0</td>\n",
              "      <td>0</td>\n",
              "      <td>1</td>\n",
              "      <td>0</td>\n",
              "    </tr>\n",
              "    <tr>\n",
              "      <th>4</th>\n",
              "      <td>169</td>\n",
              "      <td>L47348</td>\n",
              "      <td>L</td>\n",
              "      <td>298.4</td>\n",
              "      <td>308.3</td>\n",
              "      <td>1433</td>\n",
              "      <td>62.3</td>\n",
              "      <td>20</td>\n",
              "      <td>1</td>\n",
              "      <td>518.0</td>\n",
              "      <td>0</td>\n",
              "      <td>0</td>\n",
              "      <td>1</td>\n",
              "      <td>0</td>\n",
              "      <td>0</td>\n",
              "    </tr>\n",
              "    <tr>\n",
              "      <th>...</th>\n",
              "      <td>...</td>\n",
              "      <td>...</td>\n",
              "      <td>...</td>\n",
              "      <td>...</td>\n",
              "      <td>...</td>\n",
              "      <td>...</td>\n",
              "      <td>...</td>\n",
              "      <td>...</td>\n",
              "      <td>...</td>\n",
              "      <td>...</td>\n",
              "      <td>...</td>\n",
              "      <td>...</td>\n",
              "      <td>...</td>\n",
              "      <td>...</td>\n",
              "      <td>...</td>\n",
              "    </tr>\n",
              "    <tr>\n",
              "      <th>9577</th>\n",
              "      <td>9996</td>\n",
              "      <td>M24855</td>\n",
              "      <td>M</td>\n",
              "      <td>298.8</td>\n",
              "      <td>308.4</td>\n",
              "      <td>1604</td>\n",
              "      <td>29.5</td>\n",
              "      <td>14</td>\n",
              "      <td>0</td>\n",
              "      <td>0.0</td>\n",
              "      <td>0</td>\n",
              "      <td>0</td>\n",
              "      <td>0</td>\n",
              "      <td>0</td>\n",
              "      <td>0</td>\n",
              "    </tr>\n",
              "    <tr>\n",
              "      <th>9578</th>\n",
              "      <td>9997</td>\n",
              "      <td>H39410</td>\n",
              "      <td>H</td>\n",
              "      <td>298.9</td>\n",
              "      <td>308.4</td>\n",
              "      <td>1632</td>\n",
              "      <td>31.8</td>\n",
              "      <td>17</td>\n",
              "      <td>0</td>\n",
              "      <td>0.0</td>\n",
              "      <td>0</td>\n",
              "      <td>0</td>\n",
              "      <td>0</td>\n",
              "      <td>0</td>\n",
              "      <td>0</td>\n",
              "    </tr>\n",
              "    <tr>\n",
              "      <th>9579</th>\n",
              "      <td>9998</td>\n",
              "      <td>M24857</td>\n",
              "      <td>M</td>\n",
              "      <td>299.0</td>\n",
              "      <td>308.6</td>\n",
              "      <td>1645</td>\n",
              "      <td>33.4</td>\n",
              "      <td>22</td>\n",
              "      <td>0</td>\n",
              "      <td>0.0</td>\n",
              "      <td>0</td>\n",
              "      <td>0</td>\n",
              "      <td>0</td>\n",
              "      <td>0</td>\n",
              "      <td>0</td>\n",
              "    </tr>\n",
              "    <tr>\n",
              "      <th>9580</th>\n",
              "      <td>9999</td>\n",
              "      <td>H39412</td>\n",
              "      <td>H</td>\n",
              "      <td>299.0</td>\n",
              "      <td>308.7</td>\n",
              "      <td>1408</td>\n",
              "      <td>48.5</td>\n",
              "      <td>25</td>\n",
              "      <td>0</td>\n",
              "      <td>0.0</td>\n",
              "      <td>0</td>\n",
              "      <td>0</td>\n",
              "      <td>0</td>\n",
              "      <td>0</td>\n",
              "      <td>0</td>\n",
              "    </tr>\n",
              "    <tr>\n",
              "      <th>9581</th>\n",
              "      <td>10000</td>\n",
              "      <td>M24859</td>\n",
              "      <td>M</td>\n",
              "      <td>299.0</td>\n",
              "      <td>308.7</td>\n",
              "      <td>1500</td>\n",
              "      <td>40.2</td>\n",
              "      <td>30</td>\n",
              "      <td>0</td>\n",
              "      <td>0.0</td>\n",
              "      <td>0</td>\n",
              "      <td>0</td>\n",
              "      <td>0</td>\n",
              "      <td>0</td>\n",
              "      <td>0</td>\n",
              "    </tr>\n",
              "  </tbody>\n",
              "</table>\n",
              "<p>9582 rows × 15 columns</p>\n",
              "</div>\n",
              "    <div class=\"colab-df-buttons\">\n",
              "\n",
              "  <div class=\"colab-df-container\">\n",
              "    <button class=\"colab-df-convert\" onclick=\"convertToInteractive('df-29a6e563-78e3-4f7b-b652-c19db6291ed5')\"\n",
              "            title=\"Convert this dataframe to an interactive table.\"\n",
              "            style=\"display:none;\">\n",
              "\n",
              "  <svg xmlns=\"http://www.w3.org/2000/svg\" height=\"24px\" viewBox=\"0 -960 960 960\">\n",
              "    <path d=\"M120-120v-720h720v720H120Zm60-500h600v-160H180v160Zm220 220h160v-160H400v160Zm0 220h160v-160H400v160ZM180-400h160v-160H180v160Zm440 0h160v-160H620v160ZM180-180h160v-160H180v160Zm440 0h160v-160H620v160Z\"/>\n",
              "  </svg>\n",
              "    </button>\n",
              "\n",
              "  <style>\n",
              "    .colab-df-container {\n",
              "      display:flex;\n",
              "      gap: 12px;\n",
              "    }\n",
              "\n",
              "    .colab-df-convert {\n",
              "      background-color: #E8F0FE;\n",
              "      border: none;\n",
              "      border-radius: 50%;\n",
              "      cursor: pointer;\n",
              "      display: none;\n",
              "      fill: #1967D2;\n",
              "      height: 32px;\n",
              "      padding: 0 0 0 0;\n",
              "      width: 32px;\n",
              "    }\n",
              "\n",
              "    .colab-df-convert:hover {\n",
              "      background-color: #E2EBFA;\n",
              "      box-shadow: 0px 1px 2px rgba(60, 64, 67, 0.3), 0px 1px 3px 1px rgba(60, 64, 67, 0.15);\n",
              "      fill: #174EA6;\n",
              "    }\n",
              "\n",
              "    .colab-df-buttons div {\n",
              "      margin-bottom: 4px;\n",
              "    }\n",
              "\n",
              "    [theme=dark] .colab-df-convert {\n",
              "      background-color: #3B4455;\n",
              "      fill: #D2E3FC;\n",
              "    }\n",
              "\n",
              "    [theme=dark] .colab-df-convert:hover {\n",
              "      background-color: #434B5C;\n",
              "      box-shadow: 0px 1px 3px 1px rgba(0, 0, 0, 0.15);\n",
              "      filter: drop-shadow(0px 1px 2px rgba(0, 0, 0, 0.3));\n",
              "      fill: #FFFFFF;\n",
              "    }\n",
              "  </style>\n",
              "\n",
              "    <script>\n",
              "      const buttonEl =\n",
              "        document.querySelector('#df-29a6e563-78e3-4f7b-b652-c19db6291ed5 button.colab-df-convert');\n",
              "      buttonEl.style.display =\n",
              "        google.colab.kernel.accessAllowed ? 'block' : 'none';\n",
              "\n",
              "      async function convertToInteractive(key) {\n",
              "        const element = document.querySelector('#df-29a6e563-78e3-4f7b-b652-c19db6291ed5');\n",
              "        const dataTable =\n",
              "          await google.colab.kernel.invokeFunction('convertToInteractive',\n",
              "                                                    [key], {});\n",
              "        if (!dataTable) return;\n",
              "\n",
              "        const docLinkHtml = 'Like what you see? Visit the ' +\n",
              "          '<a target=\"_blank\" href=https://colab.research.google.com/notebooks/data_table.ipynb>data table notebook</a>'\n",
              "          + ' to learn more about interactive tables.';\n",
              "        element.innerHTML = '';\n",
              "        dataTable['output_type'] = 'display_data';\n",
              "        await google.colab.output.renderOutput(dataTable, element);\n",
              "        const docLink = document.createElement('div');\n",
              "        docLink.innerHTML = docLinkHtml;\n",
              "        element.appendChild(docLink);\n",
              "      }\n",
              "    </script>\n",
              "  </div>\n",
              "\n",
              "\n",
              "<div id=\"df-73544520-8df0-4919-837a-0d75182bda39\">\n",
              "  <button class=\"colab-df-quickchart\" onclick=\"quickchart('df-73544520-8df0-4919-837a-0d75182bda39')\"\n",
              "            title=\"Suggest charts.\"\n",
              "            style=\"display:none;\">\n",
              "\n",
              "<svg xmlns=\"http://www.w3.org/2000/svg\" height=\"24px\"viewBox=\"0 0 24 24\"\n",
              "     width=\"24px\">\n",
              "    <g>\n",
              "        <path d=\"M19 3H5c-1.1 0-2 .9-2 2v14c0 1.1.9 2 2 2h14c1.1 0 2-.9 2-2V5c0-1.1-.9-2-2-2zM9 17H7v-7h2v7zm4 0h-2V7h2v10zm4 0h-2v-4h2v4z\"/>\n",
              "    </g>\n",
              "</svg>\n",
              "  </button>\n",
              "\n",
              "<style>\n",
              "  .colab-df-quickchart {\n",
              "      --bg-color: #E8F0FE;\n",
              "      --fill-color: #1967D2;\n",
              "      --hover-bg-color: #E2EBFA;\n",
              "      --hover-fill-color: #174EA6;\n",
              "      --disabled-fill-color: #AAA;\n",
              "      --disabled-bg-color: #DDD;\n",
              "  }\n",
              "\n",
              "  [theme=dark] .colab-df-quickchart {\n",
              "      --bg-color: #3B4455;\n",
              "      --fill-color: #D2E3FC;\n",
              "      --hover-bg-color: #434B5C;\n",
              "      --hover-fill-color: #FFFFFF;\n",
              "      --disabled-bg-color: #3B4455;\n",
              "      --disabled-fill-color: #666;\n",
              "  }\n",
              "\n",
              "  .colab-df-quickchart {\n",
              "    background-color: var(--bg-color);\n",
              "    border: none;\n",
              "    border-radius: 50%;\n",
              "    cursor: pointer;\n",
              "    display: none;\n",
              "    fill: var(--fill-color);\n",
              "    height: 32px;\n",
              "    padding: 0;\n",
              "    width: 32px;\n",
              "  }\n",
              "\n",
              "  .colab-df-quickchart:hover {\n",
              "    background-color: var(--hover-bg-color);\n",
              "    box-shadow: 0 1px 2px rgba(60, 64, 67, 0.3), 0 1px 3px 1px rgba(60, 64, 67, 0.15);\n",
              "    fill: var(--button-hover-fill-color);\n",
              "  }\n",
              "\n",
              "  .colab-df-quickchart-complete:disabled,\n",
              "  .colab-df-quickchart-complete:disabled:hover {\n",
              "    background-color: var(--disabled-bg-color);\n",
              "    fill: var(--disabled-fill-color);\n",
              "    box-shadow: none;\n",
              "  }\n",
              "\n",
              "  .colab-df-spinner {\n",
              "    border: 2px solid var(--fill-color);\n",
              "    border-color: transparent;\n",
              "    border-bottom-color: var(--fill-color);\n",
              "    animation:\n",
              "      spin 1s steps(1) infinite;\n",
              "  }\n",
              "\n",
              "  @keyframes spin {\n",
              "    0% {\n",
              "      border-color: transparent;\n",
              "      border-bottom-color: var(--fill-color);\n",
              "      border-left-color: var(--fill-color);\n",
              "    }\n",
              "    20% {\n",
              "      border-color: transparent;\n",
              "      border-left-color: var(--fill-color);\n",
              "      border-top-color: var(--fill-color);\n",
              "    }\n",
              "    30% {\n",
              "      border-color: transparent;\n",
              "      border-left-color: var(--fill-color);\n",
              "      border-top-color: var(--fill-color);\n",
              "      border-right-color: var(--fill-color);\n",
              "    }\n",
              "    40% {\n",
              "      border-color: transparent;\n",
              "      border-right-color: var(--fill-color);\n",
              "      border-top-color: var(--fill-color);\n",
              "    }\n",
              "    60% {\n",
              "      border-color: transparent;\n",
              "      border-right-color: var(--fill-color);\n",
              "    }\n",
              "    80% {\n",
              "      border-color: transparent;\n",
              "      border-right-color: var(--fill-color);\n",
              "      border-bottom-color: var(--fill-color);\n",
              "    }\n",
              "    90% {\n",
              "      border-color: transparent;\n",
              "      border-bottom-color: var(--fill-color);\n",
              "    }\n",
              "  }\n",
              "</style>\n",
              "\n",
              "  <script>\n",
              "    async function quickchart(key) {\n",
              "      const quickchartButtonEl =\n",
              "        document.querySelector('#' + key + ' button');\n",
              "      quickchartButtonEl.disabled = true;  // To prevent multiple clicks.\n",
              "      quickchartButtonEl.classList.add('colab-df-spinner');\n",
              "      try {\n",
              "        const charts = await google.colab.kernel.invokeFunction(\n",
              "            'suggestCharts', [key], {});\n",
              "      } catch (error) {\n",
              "        console.error('Error during call to suggestCharts:', error);\n",
              "      }\n",
              "      quickchartButtonEl.classList.remove('colab-df-spinner');\n",
              "      quickchartButtonEl.classList.add('colab-df-quickchart-complete');\n",
              "    }\n",
              "    (() => {\n",
              "      let quickchartButtonEl =\n",
              "        document.querySelector('#df-73544520-8df0-4919-837a-0d75182bda39 button');\n",
              "      quickchartButtonEl.style.display =\n",
              "        google.colab.kernel.accessAllowed ? 'block' : 'none';\n",
              "    })();\n",
              "  </script>\n",
              "</div>\n",
              "    </div>\n",
              "  </div>\n"
            ]
          },
          "metadata": {},
          "execution_count": 15
        }
      ]
    },
    {
      "cell_type": "code",
      "source": [
        "import seaborn as sns\n",
        "sns.boxplot(Data['Rotational speed [rpm]'])"
      ],
      "metadata": {
        "colab": {
          "base_uri": "https://localhost:8080/",
          "height": 448
        },
        "id": "gIx73HGcMA8Z",
        "outputId": "f2589b2a-900e-410f-ee58-df918afb0ce9"
      },
      "execution_count": null,
      "outputs": [
        {
          "output_type": "execute_result",
          "data": {
            "text/plain": [
              "<Axes: >"
            ]
          },
          "metadata": {},
          "execution_count": 16
        },
        {
          "output_type": "display_data",
          "data": {
            "text/plain": [
              "<Figure size 640x480 with 1 Axes>"
            ],
            "image/png": "[encoded data removed]"
          },
          "metadata": {}
        }
      ]
    },
    {
      "cell_type": "code",
      "source": [
        "import seaborn as sns\n",
        "sns.boxplot(Data['Torque [Nm]'])"
      ],
      "metadata": {
        "colab": {
          "base_uri": "https://localhost:8080/",
          "height": 448
        },
        "id": "FQ91nmtTIMbX",
        "outputId": "5935be70-9ed2-4b77-8db5-77c5df4e7114"
      },
      "execution_count": null,
      "outputs": [
        {
          "output_type": "execute_result",
          "data": {
            "text/plain": [
              "<Axes: >"
            ]
          },
          "metadata": {},
          "execution_count": 17
        },
        {
          "output_type": "display_data",
          "data": {
            "text/plain": [
              "<Figure size 640x480 with 1 Axes>"
            ],
            "image/png": "[encoded data removed]"
          },
          "metadata": {}
        }
      ]
    },
    {
      "cell_type": "code",
      "source": [
        "import numpy as np\n",
        "Q1 = np.percentile(Data['Torque [Nm]'], 25,\n",
        "                   interpolation = 'midpoint')\n",
        "\n",
        "Q3 = np.percentile(Data['Torque [Nm]'], 75,\n",
        "                   interpolation = 'midpoint')\n",
        "IQR = Q3 - Q1\n",
        "UpperLimit=Q3 + 1.5*IQR\n",
        "LowerLimit=Q1 - 1.5*IQR\n",
        "\n",
        "OutlierList=[]\n",
        "for i in range (Data['Torque [Nm]'].shape[0]):\n",
        "  if Data['Torque [Nm]'][i]>=UpperLimit:\n",
        "    OutlierList.append(i)\n",
        "  elif Data['Torque [Nm]'][i]<=LowerLimit:\n",
        "    OutlierList.append(i)\n",
        "print(OutlierList)\n",
        "\n",
        "Data=Data.drop(OutlierList)"
      ],
      "metadata": {
        "colab": {
          "base_uri": "https://localhost:8080/"
        },
        "id": "jn-Sn733P0-W",
        "outputId": "bc49d245-d153-443a-e9f1-46eae627d943"
      },
      "execution_count": null,
      "outputs": [
        {
          "output_type": "stream",
          "name": "stdout",
          "text": [
            "[13, 15, 17, 21, 22, 26, 32, 38, 43, 50, 54, 61, 78, 81, 82, 88, 119, 130, 143, 150, 182, 206, 207, 210, 215, 220, 222, 224, 234, 242, 249, 253, 258, 260, 264, 273, 274, 278, 288, 300, 303, 2149, 2760, 3674, 6295, 6382, 7688]\n"
          ]
        },
        {
          "output_type": "stream",
          "name": "stderr",
          "text": [
            "<ipython-input-18-d4ba7350cdd0>:2: DeprecationWarning: the `interpolation=` argument to percentile was renamed to `method=`, which has additional options.\n",
            "Users of the modes 'nearest', 'lower', 'higher', or 'midpoint' are encouraged to review the method they used. (Deprecated NumPy 1.22)\n",
            "  Q1 = np.percentile(Data['Torque [Nm]'], 25,\n",
            "<ipython-input-18-d4ba7350cdd0>:5: DeprecationWarning: the `interpolation=` argument to percentile was renamed to `method=`, which has additional options.\n",
            "Users of the modes 'nearest', 'lower', 'higher', or 'midpoint' are encouraged to review the method they used. (Deprecated NumPy 1.22)\n",
            "  Q3 = np.percentile(Data['Torque [Nm]'], 75,\n"
          ]
        }
      ]
    },
    {
      "cell_type": "code",
      "source": [
        "import seaborn as sns\n",
        "sns.boxplot(Data['Tool wear [min]'])"
      ],
      "metadata": {
        "colab": {
          "base_uri": "https://localhost:8080/",
          "height": 448
        },
        "id": "nMXlRmyeIM96",
        "outputId": "6fdaf205-add2-4daf-bc0f-bdd42e851325"
      },
      "execution_count": null,
      "outputs": [
        {
          "output_type": "execute_result",
          "data": {
            "text/plain": [
              "<Axes: >"
            ]
          },
          "metadata": {},
          "execution_count": 19
        },
        {
          "output_type": "display_data",
          "data": {
            "text/plain": [
              "<Figure size 640x480 with 1 Axes>"
            ],
            "image/png": "[encoded data removed]"
          },
          "metadata": {}
        }
      ]
    },
    {
      "cell_type": "code",
      "source": [
        "Data"
      ],
      "metadata": {
        "colab": {
          "base_uri": "https://localhost:8080/",
          "height": 458
        },
        "id": "Is0j1WeGGirO",
        "outputId": "645e1f93-f885-41c5-94c4-25c03a1e6615"
      },
      "execution_count": null,
      "outputs": [
        {
          "output_type": "execute_result",
          "data": {
            "text/plain": [
              "        UDI Product ID Type  Air temperature [K]  Process temperature [K]  \\\n",
              "0        70     L47249    L                298.9                    309.0   \n",
              "1        78     L47257    L                298.8                    308.9   \n",
              "2       161     L47340    L                298.4                    308.2   \n",
              "3       162     L47341    L                298.3                    308.1   \n",
              "4       169     L47348    L                298.4                    308.3   \n",
              "...     ...        ...  ...                  ...                      ...   \n",
              "9577   9996     M24855    M                298.8                    308.4   \n",
              "9578   9997     H39410    H                298.9                    308.4   \n",
              "9579   9998     M24857    M                299.0                    308.6   \n",
              "9580   9999     H39412    H                299.0                    308.7   \n",
              "9581  10000     M24859    M                299.0                    308.7   \n",
              "\n",
              "      Rotational speed [rpm]  Torque [Nm]  Tool wear [min]  Machine failure  \\\n",
              "0                       1410         65.7              191                1   \n",
              "1                       1455         41.3              208                1   \n",
              "2                       1282         60.7              216                1   \n",
              "3                       1412         52.3              218                1   \n",
              "4                       1433         62.3               20                1   \n",
              "...                      ...          ...              ...              ...   \n",
              "9577                    1604         29.5               14                0   \n",
              "9578                    1632         31.8               17                0   \n",
              "9579                    1645         33.4               22                0   \n",
              "9580                    1408         48.5               25                0   \n",
              "9581                    1500         40.2               30                0   \n",
              "\n",
              "      Useful life  ToolWearFailure  HeatDiscipationFailure  PowerFailure  \\\n",
              "0           493.1                0                       0             1   \n",
              "1           538.4                1                       0             0   \n",
              "2           367.2                0                       0             0   \n",
              "3           497.5                0                       0             0   \n",
              "4           518.0                0                       0             1   \n",
              "...           ...              ...                     ...           ...   \n",
              "9577          0.0                0                       0             0   \n",
              "9578          0.0                0                       0             0   \n",
              "9579          0.0                0                       0             0   \n",
              "9580          0.0                0                       0             0   \n",
              "9581          0.0                0                       0             0   \n",
              "\n",
              "      OverstrainFailure  RandomFailure  \n",
              "0                     1              0  \n",
              "1                     0              0  \n",
              "2                     1              0  \n",
              "3                     1              0  \n",
              "4                     0              0  \n",
              "...                 ...            ...  \n",
              "9577                  0              0  \n",
              "9578                  0              0  \n",
              "9579                  0              0  \n",
              "9580                  0              0  \n",
              "9581                  0              0  \n",
              "\n",
              "[9535 rows x 15 columns]"
            ],
            "text/html": [
              "\n",
              "  <div id=\"df-8ca72b01-95db-453f-818d-cfe5df76efce\" class=\"colab-df-container\">\n",
              "    <div>\n",
              "<style scoped>\n",
              "    .dataframe tbody tr th:only-of-type {\n",
              "        vertical-align: middle;\n",
              "    }\n",
              "\n",
              "    .dataframe tbody tr th {\n",
              "        vertical-align: top;\n",
              "    }\n",
              "\n",
              "    .dataframe thead th {\n",
              "        text-align: right;\n",
              "    }\n",
              "</style>\n",
              "<table border=\"1\" class=\"dataframe\">\n",
              "  <thead>\n",
              "    <tr style=\"text-align: right;\">\n",
              "      <th></th>\n",
              "      <th>UDI</th>\n",
              "      <th>Product ID</th>\n",
              "      <th>Type</th>\n",
              "      <th>Air temperature [K]</th>\n",
              "      <th>Process temperature [K]</th>\n",
              "      <th>Rotational speed [rpm]</th>\n",
              "      <th>Torque [Nm]</th>\n",
              "      <th>Tool wear [min]</th>\n",
              "      <th>Machine failure</th>\n",
              "      <th>Useful life</th>\n",
              "      <th>ToolWearFailure</th>\n",
              "      <th>HeatDiscipationFailure</th>\n",
              "      <th>PowerFailure</th>\n",
              "      <th>OverstrainFailure</th>\n",
              "      <th>RandomFailure</th>\n",
              "    </tr>\n",
              "  </thead>\n",
              "  <tbody>\n",
              "    <tr>\n",
              "      <th>0</th>\n",
              "      <td>70</td>\n",
              "      <td>L47249</td>\n",
              "      <td>L</td>\n",
              "      <td>298.9</td>\n",
              "      <td>309.0</td>\n",
              "      <td>1410</td>\n",
              "      <td>65.7</td>\n",
              "      <td>191</td>\n",
              "      <td>1</td>\n",
              "      <td>493.1</td>\n",
              "      <td>0</td>\n",
              "      <td>0</td>\n",
              "      <td>1</td>\n",
              "      <td>1</td>\n",
              "      <td>0</td>\n",
              "    </tr>\n",
              "    <tr>\n",
              "      <th>1</th>\n",
              "      <td>78</td>\n",
              "      <td>L47257</td>\n",
              "      <td>L</td>\n",
              "      <td>298.8</td>\n",
              "      <td>308.9</td>\n",
              "      <td>1455</td>\n",
              "      <td>41.3</td>\n",
              "      <td>208</td>\n",
              "      <td>1</td>\n",
              "      <td>538.4</td>\n",
              "      <td>1</td>\n",
              "      <td>0</td>\n",
              "      <td>0</td>\n",
              "      <td>0</td>\n",
              "      <td>0</td>\n",
              "    </tr>\n",
              "    <tr>\n",
              "      <th>2</th>\n",
              "      <td>161</td>\n",
              "      <td>L47340</td>\n",
              "      <td>L</td>\n",
              "      <td>298.4</td>\n",
              "      <td>308.2</td>\n",
              "      <td>1282</td>\n",
              "      <td>60.7</td>\n",
              "      <td>216</td>\n",
              "      <td>1</td>\n",
              "      <td>367.2</td>\n",
              "      <td>0</td>\n",
              "      <td>0</td>\n",
              "      <td>0</td>\n",
              "      <td>1</td>\n",
              "      <td>0</td>\n",
              "    </tr>\n",
              "    <tr>\n",
              "      <th>3</th>\n",
              "      <td>162</td>\n",
              "      <td>L47341</td>\n",
              "      <td>L</td>\n",
              "      <td>298.3</td>\n",
              "      <td>308.1</td>\n",
              "      <td>1412</td>\n",
              "      <td>52.3</td>\n",
              "      <td>218</td>\n",
              "      <td>1</td>\n",
              "      <td>497.5</td>\n",
              "      <td>0</td>\n",
              "      <td>0</td>\n",
              "      <td>0</td>\n",
              "      <td>1</td>\n",
              "      <td>0</td>\n",
              "    </tr>\n",
              "    <tr>\n",
              "      <th>4</th>\n",
              "      <td>169</td>\n",
              "      <td>L47348</td>\n",
              "      <td>L</td>\n",
              "      <td>298.4</td>\n",
              "      <td>308.3</td>\n",
              "      <td>1433</td>\n",
              "      <td>62.3</td>\n",
              "      <td>20</td>\n",
              "      <td>1</td>\n",
              "      <td>518.0</td>\n",
              "      <td>0</td>\n",
              "      <td>0</td>\n",
              "      <td>1</td>\n",
              "      <td>0</td>\n",
              "      <td>0</td>\n",
              "    </tr>\n",
              "    <tr>\n",
              "      <th>...</th>\n",
              "      <td>...</td>\n",
              "      <td>...</td>\n",
              "      <td>...</td>\n",
              "      <td>...</td>\n",
              "      <td>...</td>\n",
              "      <td>...</td>\n",
              "      <td>...</td>\n",
              "      <td>...</td>\n",
              "      <td>...</td>\n",
              "      <td>...</td>\n",
              "      <td>...</td>\n",
              "      <td>...</td>\n",
              "      <td>...</td>\n",
              "      <td>...</td>\n",
              "      <td>...</td>\n",
              "    </tr>\n",
              "    <tr>\n",
              "      <th>9577</th>\n",
              "      <td>9996</td>\n",
              "      <td>M24855</td>\n",
              "      <td>M</td>\n",
              "      <td>298.8</td>\n",
              "      <td>308.4</td>\n",
              "      <td>1604</td>\n",
              "      <td>29.5</td>\n",
              "      <td>14</td>\n",
              "      <td>0</td>\n",
              "      <td>0.0</td>\n",
              "      <td>0</td>\n",
              "      <td>0</td>\n",
              "      <td>0</td>\n",
              "      <td>0</td>\n",
              "      <td>0</td>\n",
              "    </tr>\n",
              "    <tr>\n",
              "      <th>9578</th>\n",
              "      <td>9997</td>\n",
              "      <td>H39410</td>\n",
              "      <td>H</td>\n",
              "      <td>298.9</td>\n",
              "      <td>308.4</td>\n",
              "      <td>1632</td>\n",
              "      <td>31.8</td>\n",
              "      <td>17</td>\n",
              "      <td>0</td>\n",
              "      <td>0.0</td>\n",
              "      <td>0</td>\n",
              "      <td>0</td>\n",
              "      <td>0</td>\n",
              "      <td>0</td>\n",
              "      <td>0</td>\n",
              "    </tr>\n",
              "    <tr>\n",
              "      <th>9579</th>\n",
              "      <td>9998</td>\n",
              "      <td>M24857</td>\n",
              "      <td>M</td>\n",
              "      <td>299.0</td>\n",
              "      <td>308.6</td>\n",
              "      <td>1645</td>\n",
              "      <td>33.4</td>\n",
              "      <td>22</td>\n",
              "      <td>0</td>\n",
              "      <td>0.0</td>\n",
              "      <td>0</td>\n",
              "      <td>0</td>\n",
              "      <td>0</td>\n",
              "      <td>0</td>\n",
              "      <td>0</td>\n",
              "    </tr>\n",
              "    <tr>\n",
              "      <th>9580</th>\n",
              "      <td>9999</td>\n",
              "      <td>H39412</td>\n",
              "      <td>H</td>\n",
              "      <td>299.0</td>\n",
              "      <td>308.7</td>\n",
              "      <td>1408</td>\n",
              "      <td>48.5</td>\n",
              "      <td>25</td>\n",
              "      <td>0</td>\n",
              "      <td>0.0</td>\n",
              "      <td>0</td>\n",
              "      <td>0</td>\n",
              "      <td>0</td>\n",
              "      <td>0</td>\n",
              "      <td>0</td>\n",
              "    </tr>\n",
              "    <tr>\n",
              "      <th>9581</th>\n",
              "      <td>10000</td>\n",
              "      <td>M24859</td>\n",
              "      <td>M</td>\n",
              "      <td>299.0</td>\n",
              "      <td>308.7</td>\n",
              "      <td>1500</td>\n",
              "      <td>40.2</td>\n",
              "      <td>30</td>\n",
              "      <td>0</td>\n",
              "      <td>0.0</td>\n",
              "      <td>0</td>\n",
              "      <td>0</td>\n",
              "      <td>0</td>\n",
              "      <td>0</td>\n",
              "      <td>0</td>\n",
              "    </tr>\n",
              "  </tbody>\n",
              "</table>\n",
              "<p>9535 rows × 15 columns</p>\n",
              "</div>\n",
              "    <div class=\"colab-df-buttons\">\n",
              "\n",
              "  <div class=\"colab-df-container\">\n",
              "    <button class=\"colab-df-convert\" onclick=\"convertToInteractive('df-8ca72b01-95db-453f-818d-cfe5df76efce')\"\n",
              "            title=\"Convert this dataframe to an interactive table.\"\n",
              "            style=\"display:none;\">\n",
              "\n",
              "  <svg xmlns=\"http://www.w3.org/2000/svg\" height=\"24px\" viewBox=\"0 -960 960 960\">\n",
              "    <path d=\"M120-120v-720h720v720H120Zm60-500h600v-160H180v160Zm220 220h160v-160H400v160Zm0 220h160v-160H400v160ZM180-400h160v-160H180v160Zm440 0h160v-160H620v160ZM180-180h160v-160H180v160Zm440 0h160v-160H620v160Z\"/>\n",
              "  </svg>\n",
              "    </button>\n",
              "\n",
              "  <style>\n",
              "    .colab-df-container {\n",
              "      display:flex;\n",
              "      gap: 12px;\n",
              "    }\n",
              "\n",
              "    .colab-df-convert {\n",
              "      background-color: #E8F0FE;\n",
              "      border: none;\n",
              "      border-radius: 50%;\n",
              "      cursor: pointer;\n",
              "      display: none;\n",
              "      fill: #1967D2;\n",
              "      height: 32px;\n",
              "      padding: 0 0 0 0;\n",
              "      width: 32px;\n",
              "    }\n",
              "\n",
              "    .colab-df-convert:hover {\n",
              "      background-color: #E2EBFA;\n",
              "      box-shadow: 0px 1px 2px rgba(60, 64, 67, 0.3), 0px 1px 3px 1px rgba(60, 64, 67, 0.15);\n",
              "      fill: #174EA6;\n",
              "    }\n",
              "\n",
              "    .colab-df-buttons div {\n",
              "      margin-bottom: 4px;\n",
              "    }\n",
              "\n",
              "    [theme=dark] .colab-df-convert {\n",
              "      background-color: #3B4455;\n",
              "      fill: #D2E3FC;\n",
              "    }\n",
              "\n",
              "    [theme=dark] .colab-df-convert:hover {\n",
              "      background-color: #434B5C;\n",
              "      box-shadow: 0px 1px 3px 1px rgba(0, 0, 0, 0.15);\n",
              "      filter: drop-shadow(0px 1px 2px rgba(0, 0, 0, 0.3));\n",
              "      fill: #FFFFFF;\n",
              "    }\n",
              "  </style>\n",
              "\n",
              "    <script>\n",
              "      const buttonEl =\n",
              "        document.querySelector('#df-8ca72b01-95db-453f-818d-cfe5df76efce button.colab-df-convert');\n",
              "      buttonEl.style.display =\n",
              "        google.colab.kernel.accessAllowed ? 'block' : 'none';\n",
              "\n",
              "      async function convertToInteractive(key) {\n",
              "        const element = document.querySelector('#df-8ca72b01-95db-453f-818d-cfe5df76efce');\n",
              "        const dataTable =\n",
              "          await google.colab.kernel.invokeFunction('convertToInteractive',\n",
              "                                                    [key], {});\n",
              "        if (!dataTable) return;\n",
              "\n",
              "        const docLinkHtml = 'Like what you see? Visit the ' +\n",
              "          '<a target=\"_blank\" href=https://colab.research.google.com/notebooks/data_table.ipynb>data table notebook</a>'\n",
              "          + ' to learn more about interactive tables.';\n",
              "        element.innerHTML = '';\n",
              "        dataTable['output_type'] = 'display_data';\n",
              "        await google.colab.output.renderOutput(dataTable, element);\n",
              "        const docLink = document.createElement('div');\n",
              "        docLink.innerHTML = docLinkHtml;\n",
              "        element.appendChild(docLink);\n",
              "      }\n",
              "    </script>\n",
              "  </div>\n",
              "\n",
              "\n",
              "<div id=\"df-14808230-f1d4-4e42-83f4-27b70ccb727b\">\n",
              "  <button class=\"colab-df-quickchart\" onclick=\"quickchart('df-14808230-f1d4-4e42-83f4-27b70ccb727b')\"\n",
              "            title=\"Suggest charts.\"\n",
              "            style=\"display:none;\">\n",
              "\n",
              "<svg xmlns=\"http://www.w3.org/2000/svg\" height=\"24px\"viewBox=\"0 0 24 24\"\n",
              "     width=\"24px\">\n",
              "    <g>\n",
              "        <path d=\"M19 3H5c-1.1 0-2 .9-2 2v14c0 1.1.9 2 2 2h14c1.1 0 2-.9 2-2V5c0-1.1-.9-2-2-2zM9 17H7v-7h2v7zm4 0h-2V7h2v10zm4 0h-2v-4h2v4z\"/>\n",
              "    </g>\n",
              "</svg>\n",
              "  </button>\n",
              "\n",
              "<style>\n",
              "  .colab-df-quickchart {\n",
              "      --bg-color: #E8F0FE;\n",
              "      --fill-color: #1967D2;\n",
              "      --hover-bg-color: #E2EBFA;\n",
              "      --hover-fill-color: #174EA6;\n",
              "      --disabled-fill-color: #AAA;\n",
              "      --disabled-bg-color: #DDD;\n",
              "  }\n",
              "\n",
              "  [theme=dark] .colab-df-quickchart {\n",
              "      --bg-color: #3B4455;\n",
              "      --fill-color: #D2E3FC;\n",
              "      --hover-bg-color: #434B5C;\n",
              "      --hover-fill-color: #FFFFFF;\n",
              "      --disabled-bg-color: #3B4455;\n",
              "      --disabled-fill-color: #666;\n",
              "  }\n",
              "\n",
              "  .colab-df-quickchart {\n",
              "    background-color: var(--bg-color);\n",
              "    border: none;\n",
              "    border-radius: 50%;\n",
              "    cursor: pointer;\n",
              "    display: none;\n",
              "    fill: var(--fill-color);\n",
              "    height: 32px;\n",
              "    padding: 0;\n",
              "    width: 32px;\n",
              "  }\n",
              "\n",
              "  .colab-df-quickchart:hover {\n",
              "    background-color: var(--hover-bg-color);\n",
              "    box-shadow: 0 1px 2px rgba(60, 64, 67, 0.3), 0 1px 3px 1px rgba(60, 64, 67, 0.15);\n",
              "    fill: var(--button-hover-fill-color);\n",
              "  }\n",
              "\n",
              "  .colab-df-quickchart-complete:disabled,\n",
              "  .colab-df-quickchart-complete:disabled:hover {\n",
              "    background-color: var(--disabled-bg-color);\n",
              "    fill: var(--disabled-fill-color);\n",
              "    box-shadow: none;\n",
              "  }\n",
              "\n",
              "  .colab-df-spinner {\n",
              "    border: 2px solid var(--fill-color);\n",
              "    border-color: transparent;\n",
              "    border-bottom-color: var(--fill-color);\n",
              "    animation:\n",
              "      spin 1s steps(1) infinite;\n",
              "  }\n",
              "\n",
              "  @keyframes spin {\n",
              "    0% {\n",
              "      border-color: transparent;\n",
              "      border-bottom-color: var(--fill-color);\n",
              "      border-left-color: var(--fill-color);\n",
              "    }\n",
              "    20% {\n",
              "      border-color: transparent;\n",
              "      border-left-color: var(--fill-color);\n",
              "      border-top-color: var(--fill-color);\n",
              "    }\n",
              "    30% {\n",
              "      border-color: transparent;\n",
              "      border-left-color: var(--fill-color);\n",
              "      border-top-color: var(--fill-color);\n",
              "      border-right-color: var(--fill-color);\n",
              "    }\n",
              "    40% {\n",
              "      border-color: transparent;\n",
              "      border-right-color: var(--fill-color);\n",
              "      border-top-color: var(--fill-color);\n",
              "    }\n",
              "    60% {\n",
              "      border-color: transparent;\n",
              "      border-right-color: var(--fill-color);\n",
              "    }\n",
              "    80% {\n",
              "      border-color: transparent;\n",
              "      border-right-color: var(--fill-color);\n",
              "      border-bottom-color: var(--fill-color);\n",
              "    }\n",
              "    90% {\n",
              "      border-color: transparent;\n",
              "      border-bottom-color: var(--fill-color);\n",
              "    }\n",
              "  }\n",
              "</style>\n",
              "\n",
              "  <script>\n",
              "    async function quickchart(key) {\n",
              "      const quickchartButtonEl =\n",
              "        document.querySelector('#' + key + ' button');\n",
              "      quickchartButtonEl.disabled = true;  // To prevent multiple clicks.\n",
              "      quickchartButtonEl.classList.add('colab-df-spinner');\n",
              "      try {\n",
              "        const charts = await google.colab.kernel.invokeFunction(\n",
              "            'suggestCharts', [key], {});\n",
              "      } catch (error) {\n",
              "        console.error('Error during call to suggestCharts:', error);\n",
              "      }\n",
              "      quickchartButtonEl.classList.remove('colab-df-spinner');\n",
              "      quickchartButtonEl.classList.add('colab-df-quickchart-complete');\n",
              "    }\n",
              "    (() => {\n",
              "      let quickchartButtonEl =\n",
              "        document.querySelector('#df-14808230-f1d4-4e42-83f4-27b70ccb727b button');\n",
              "      quickchartButtonEl.style.display =\n",
              "        google.colab.kernel.accessAllowed ? 'block' : 'none';\n",
              "    })();\n",
              "  </script>\n",
              "</div>\n",
              "    </div>\n",
              "  </div>\n"
            ]
          },
          "metadata": {},
          "execution_count": 20
        }
      ]
    },
    {
      "cell_type": "code",
      "source": [
        "Data_MLR=Data.loc[Data[\"Machine failure\"]==1] #Data.loc[...] is used to select rows from the DataFrame Data based on the condition provided inside the square brackets. In this case, it selects all rows where the condition Data[\"Machine failure\"]==1 is True"
      ],
      "metadata": {
        "id": "fJCBNoKIHe6X"
      },
      "execution_count": null,
      "outputs": []
    },
    {
      "cell_type": "code",
      "source": [
        "Data[\"Type\"].unique()"
      ],
      "metadata": {
        "colab": {
          "base_uri": "https://localhost:8080/"
        },
        "id": "soxo3BFGGtqH",
        "outputId": "6cebc955-f0d8-4d2f-ca10-74e31ad6010d"
      },
      "execution_count": null,
      "outputs": [
        {
          "output_type": "execute_result",
          "data": {
            "text/plain": [
              "array(['L', 'M', 'H'], dtype=object)"
            ]
          },
          "metadata": {},
          "execution_count": 22
        }
      ]
    },
    {
      "cell_type": "code",
      "source": [
        "Data_MLR[\"ToolWearFailure\"].value_counts()"
      ],
      "metadata": {
        "colab": {
          "base_uri": "https://localhost:8080/"
        },
        "id": "-kDlk_au89Oc",
        "outputId": "28383628-b416-4cbe-f421-752376094181"
      },
      "execution_count": null,
      "outputs": [
        {
          "output_type": "execute_result",
          "data": {
            "text/plain": [
              "0    221\n",
              "1     42\n",
              "Name: ToolWearFailure, dtype: int64"
            ]
          },
          "metadata": {},
          "execution_count": 23
        }
      ]
    },
    {
      "cell_type": "code",
      "source": [
        "Data_MLR.columns"
      ],
      "metadata": {
        "colab": {
          "base_uri": "https://localhost:8080/"
        },
        "id": "QObtMqceIbPX",
        "outputId": "441cc0f5-392a-4fad-acab-019a73e1149f"
      },
      "execution_count": null,
      "outputs": [
        {
          "output_type": "execute_result",
          "data": {
            "text/plain": [
              "Index(['UDI', 'Product ID', 'Type', 'Air temperature [K]',\n",
              "       'Process temperature [K]', 'Rotational speed [rpm]', 'Torque [Nm]',\n",
              "       'Tool wear [min]', 'Machine failure', 'Useful life', 'ToolWearFailure',\n",
              "       'HeatDiscipationFailure', 'PowerFailure', 'OverstrainFailure',\n",
              "       'RandomFailure'],\n",
              "      dtype='object')"
            ]
          },
          "metadata": {},
          "execution_count": 24
        }
      ]
    },
    {
      "cell_type": "code",
      "source": [
        "Data_MLR=pd.get_dummies(Data_MLR, columns=['Type'], drop_first=True)"
      ],
      "metadata": {
        "id": "6mc6NmuBIiET"
      },
      "execution_count": null,
      "outputs": []
    },
    {
      "cell_type": "code",
      "source": [
        "Y=Data_MLR['Useful life']\n",
        "X=Data_MLR[[ 'Process temperature [K]',\n",
        "       'Torque [Nm]', 'Tool wear [min]',\n",
        "        'Type_L', 'Type_M']]"
      ],
      "metadata": {
        "id": "zsOHq2EBIx8N"
      },
      "execution_count": null,
      "outputs": []
    },
    {
      "cell_type": "code",
      "source": [
        "X.corr()"
      ],
      "metadata": {
        "colab": {
          "base_uri": "https://localhost:8080/",
          "height": 206
        },
        "id": "tsKAAxiyJxDg",
        "outputId": "1acaf698-1a66-4412-9c79-5d41ab8ca197"
      },
      "execution_count": null,
      "outputs": [
        {
          "output_type": "execute_result",
          "data": {
            "text/plain": [
              "                         Process temperature [K]  Torque [Nm]  \\\n",
              "Process temperature [K]                 1.000000    -0.038553   \n",
              "Torque [Nm]                            -0.038553     1.000000   \n",
              "Tool wear [min]                        -0.141519    -0.213573   \n",
              "Type_L                                 -0.016603     0.078295   \n",
              "Type_M                                  0.035074    -0.058569   \n",
              "\n",
              "                         Tool wear [min]    Type_L    Type_M  \n",
              "Process temperature [K]        -0.141519 -0.016603  0.035074  \n",
              "Torque [Nm]                    -0.213573  0.078295 -0.058569  \n",
              "Tool wear [min]                 1.000000  0.145914 -0.140849  \n",
              "Type_L                          0.145914  1.000000 -0.837271  \n",
              "Type_M                         -0.140849 -0.837271  1.000000  "
            ],
            "text/html": [
              "\n",
              "  <div id=\"df-2b6f2af8-cc16-4222-8cb1-c557defbfbee\" class=\"colab-df-container\">\n",
              "    <div>\n",
              "<style scoped>\n",
              "    .dataframe tbody tr th:only-of-type {\n",
              "        vertical-align: middle;\n",
              "    }\n",
              "\n",
              "    .dataframe tbody tr th {\n",
              "        vertical-align: top;\n",
              "    }\n",
              "\n",
              "    .dataframe thead th {\n",
              "        text-align: right;\n",
              "    }\n",
              "</style>\n",
              "<table border=\"1\" class=\"dataframe\">\n",
              "  <thead>\n",
              "    <tr style=\"text-align: right;\">\n",
              "      <th></th>\n",
              "      <th>Process temperature [K]</th>\n",
              "      <th>Torque [Nm]</th>\n",
              "      <th>Tool wear [min]</th>\n",
              "      <th>Type_L</th>\n",
              "      <th>Type_M</th>\n",
              "    </tr>\n",
              "  </thead>\n",
              "  <tbody>\n",
              "    <tr>\n",
              "      <th>Process temperature [K]</th>\n",
              "      <td>1.000000</td>\n",
              "      <td>-0.038553</td>\n",
              "      <td>-0.141519</td>\n",
              "      <td>-0.016603</td>\n",
              "      <td>0.035074</td>\n",
              "    </tr>\n",
              "    <tr>\n",
              "      <th>Torque [Nm]</th>\n",
              "      <td>-0.038553</td>\n",
              "      <td>1.000000</td>\n",
              "      <td>-0.213573</td>\n",
              "      <td>0.078295</td>\n",
              "      <td>-0.058569</td>\n",
              "    </tr>\n",
              "    <tr>\n",
              "      <th>Tool wear [min]</th>\n",
              "      <td>-0.141519</td>\n",
              "      <td>-0.213573</td>\n",
              "      <td>1.000000</td>\n",
              "      <td>0.145914</td>\n",
              "      <td>-0.140849</td>\n",
              "    </tr>\n",
              "    <tr>\n",
              "      <th>Type_L</th>\n",
              "      <td>-0.016603</td>\n",
              "      <td>0.078295</td>\n",
              "      <td>0.145914</td>\n",
              "      <td>1.000000</td>\n",
              "      <td>-0.837271</td>\n",
              "    </tr>\n",
              "    <tr>\n",
              "      <th>Type_M</th>\n",
              "      <td>0.035074</td>\n",
              "      <td>-0.058569</td>\n",
              "      <td>-0.140849</td>\n",
              "      <td>-0.837271</td>\n",
              "      <td>1.000000</td>\n",
              "    </tr>\n",
              "  </tbody>\n",
              "</table>\n",
              "</div>\n",
              "    <div class=\"colab-df-buttons\">\n",
              "\n",
              "  <div class=\"colab-df-container\">\n",
              "    <button class=\"colab-df-convert\" onclick=\"convertToInteractive('df-2b6f2af8-cc16-4222-8cb1-c557defbfbee')\"\n",
              "            title=\"Convert this dataframe to an interactive table.\"\n",
              "            style=\"display:none;\">\n",
              "\n",
              "  <svg xmlns=\"http://www.w3.org/2000/svg\" height=\"24px\" viewBox=\"0 -960 960 960\">\n",
              "    <path d=\"M120-120v-720h720v720H120Zm60-500h600v-160H180v160Zm220 220h160v-160H400v160Zm0 220h160v-160H400v160ZM180-400h160v-160H180v160Zm440 0h160v-160H620v160ZM180-180h160v-160H180v160Zm440 0h160v-160H620v160Z\"/>\n",
              "  </svg>\n",
              "    </button>\n",
              "\n",
              "  <style>\n",
              "    .colab-df-container {\n",
              "      display:flex;\n",
              "      gap: 12px;\n",
              "    }\n",
              "\n",
              "    .colab-df-convert {\n",
              "      background-color: #E8F0FE;\n",
              "      border: none;\n",
              "      border-radius: 50%;\n",
              "      cursor: pointer;\n",
              "      display: none;\n",
              "      fill: #1967D2;\n",
              "      height: 32px;\n",
              "      padding: 0 0 0 0;\n",
              "      width: 32px;\n",
              "    }\n",
              "\n",
              "    .colab-df-convert:hover {\n",
              "      background-color: #E2EBFA;\n",
              "      box-shadow: 0px 1px 2px rgba(60, 64, 67, 0.3), 0px 1px 3px 1px rgba(60, 64, 67, 0.15);\n",
              "      fill: #174EA6;\n",
              "    }\n",
              "\n",
              "    .colab-df-buttons div {\n",
              "      margin-bottom: 4px;\n",
              "    }\n",
              "\n",
              "    [theme=dark] .colab-df-convert {\n",
              "      background-color: #3B4455;\n",
              "      fill: #D2E3FC;\n",
              "    }\n",
              "\n",
              "    [theme=dark] .colab-df-convert:hover {\n",
              "      background-color: #434B5C;\n",
              "      box-shadow: 0px 1px 3px 1px rgba(0, 0, 0, 0.15);\n",
              "      filter: drop-shadow(0px 1px 2px rgba(0, 0, 0, 0.3));\n",
              "      fill: #FFFFFF;\n",
              "    }\n",
              "  </style>\n",
              "\n",
              "    <script>\n",
              "      const buttonEl =\n",
              "        document.querySelector('#df-2b6f2af8-cc16-4222-8cb1-c557defbfbee button.colab-df-convert');\n",
              "      buttonEl.style.display =\n",
              "        google.colab.kernel.accessAllowed ? 'block' : 'none';\n",
              "\n",
              "      async function convertToInteractive(key) {\n",
              "        const element = document.querySelector('#df-2b6f2af8-cc16-4222-8cb1-c557defbfbee');\n",
              "        const dataTable =\n",
              "          await google.colab.kernel.invokeFunction('convertToInteractive',\n",
              "                                                    [key], {});\n",
              "        if (!dataTable) return;\n",
              "\n",
              "        const docLinkHtml = 'Like what you see? Visit the ' +\n",
              "          '<a target=\"_blank\" href=https://colab.research.google.com/notebooks/data_table.ipynb>data table notebook</a>'\n",
              "          + ' to learn more about interactive tables.';\n",
              "        element.innerHTML = '';\n",
              "        dataTable['output_type'] = 'display_data';\n",
              "        await google.colab.output.renderOutput(dataTable, element);\n",
              "        const docLink = document.createElement('div');\n",
              "        docLink.innerHTML = docLinkHtml;\n",
              "        element.appendChild(docLink);\n",
              "      }\n",
              "    </script>\n",
              "  </div>\n",
              "\n",
              "\n",
              "<div id=\"df-f0cb4c90-26c6-433f-aa94-b66883509cc4\">\n",
              "  <button class=\"colab-df-quickchart\" onclick=\"quickchart('df-f0cb4c90-26c6-433f-aa94-b66883509cc4')\"\n",
              "            title=\"Suggest charts.\"\n",
              "            style=\"display:none;\">\n",
              "\n",
              "<svg xmlns=\"http://www.w3.org/2000/svg\" height=\"24px\"viewBox=\"0 0 24 24\"\n",
              "     width=\"24px\">\n",
              "    <g>\n",
              "        <path d=\"M19 3H5c-1.1 0-2 .9-2 2v14c0 1.1.9 2 2 2h14c1.1 0 2-.9 2-2V5c0-1.1-.9-2-2-2zM9 17H7v-7h2v7zm4 0h-2V7h2v10zm4 0h-2v-4h2v4z\"/>\n",
              "    </g>\n",
              "</svg>\n",
              "  </button>\n",
              "\n",
              "<style>\n",
              "  .colab-df-quickchart {\n",
              "      --bg-color: #E8F0FE;\n",
              "      --fill-color: #1967D2;\n",
              "      --hover-bg-color: #E2EBFA;\n",
              "      --hover-fill-color: #174EA6;\n",
              "      --disabled-fill-color: #AAA;\n",
              "      --disabled-bg-color: #DDD;\n",
              "  }\n",
              "\n",
              "  [theme=dark] .colab-df-quickchart {\n",
              "      --bg-color: #3B4455;\n",
              "      --fill-color: #D2E3FC;\n",
              "      --hover-bg-color: #434B5C;\n",
              "      --hover-fill-color: #FFFFFF;\n",
              "      --disabled-bg-color: #3B4455;\n",
              "      --disabled-fill-color: #666;\n",
              "  }\n",
              "\n",
              "  .colab-df-quickchart {\n",
              "    background-color: var(--bg-color);\n",
              "    border: none;\n",
              "    border-radius: 50%;\n",
              "    cursor: pointer;\n",
              "    display: none;\n",
              "    fill: var(--fill-color);\n",
              "    height: 32px;\n",
              "    padding: 0;\n",
              "    width: 32px;\n",
              "  }\n",
              "\n",
              "  .colab-df-quickchart:hover {\n",
              "    background-color: var(--hover-bg-color);\n",
              "    box-shadow: 0 1px 2px rgba(60, 64, 67, 0.3), 0 1px 3px 1px rgba(60, 64, 67, 0.15);\n",
              "    fill: var(--button-hover-fill-color);\n",
              "  }\n",
              "\n",
              "  .colab-df-quickchart-complete:disabled,\n",
              "  .colab-df-quickchart-complete:disabled:hover {\n",
              "    background-color: var(--disabled-bg-color);\n",
              "    fill: var(--disabled-fill-color);\n",
              "    box-shadow: none;\n",
              "  }\n",
              "\n",
              "  .colab-df-spinner {\n",
              "    border: 2px solid var(--fill-color);\n",
              "    border-color: transparent;\n",
              "    border-bottom-color: var(--fill-color);\n",
              "    animation:\n",
              "      spin 1s steps(1) infinite;\n",
              "  }\n",
              "\n",
              "  @keyframes spin {\n",
              "    0% {\n",
              "      border-color: transparent;\n",
              "      border-bottom-color: var(--fill-color);\n",
              "      border-left-color: var(--fill-color);\n",
              "    }\n",
              "    20% {\n",
              "      border-color: transparent;\n",
              "      border-left-color: var(--fill-color);\n",
              "      border-top-color: var(--fill-color);\n",
              "    }\n",
              "    30% {\n",
              "      border-color: transparent;\n",
              "      border-left-color: var(--fill-color);\n",
              "      border-top-color: var(--fill-color);\n",
              "      border-right-color: var(--fill-color);\n",
              "    }\n",
              "    40% {\n",
              "      border-color: transparent;\n",
              "      border-right-color: var(--fill-color);\n",
              "      border-top-color: var(--fill-color);\n",
              "    }\n",
              "    60% {\n",
              "      border-color: transparent;\n",
              "      border-right-color: var(--fill-color);\n",
              "    }\n",
              "    80% {\n",
              "      border-color: transparent;\n",
              "      border-right-color: var(--fill-color);\n",
              "      border-bottom-color: var(--fill-color);\n",
              "    }\n",
              "    90% {\n",
              "      border-color: transparent;\n",
              "      border-bottom-color: var(--fill-color);\n",
              "    }\n",
              "  }\n",
              "</style>\n",
              "\n",
              "  <script>\n",
              "    async function quickchart(key) {\n",
              "      const quickchartButtonEl =\n",
              "        document.querySelector('#' + key + ' button');\n",
              "      quickchartButtonEl.disabled = true;  // To prevent multiple clicks.\n",
              "      quickchartButtonEl.classList.add('colab-df-spinner');\n",
              "      try {\n",
              "        const charts = await google.colab.kernel.invokeFunction(\n",
              "            'suggestCharts', [key], {});\n",
              "      } catch (error) {\n",
              "        console.error('Error during call to suggestCharts:', error);\n",
              "      }\n",
              "      quickchartButtonEl.classList.remove('colab-df-spinner');\n",
              "      quickchartButtonEl.classList.add('colab-df-quickchart-complete');\n",
              "    }\n",
              "    (() => {\n",
              "      let quickchartButtonEl =\n",
              "        document.querySelector('#df-f0cb4c90-26c6-433f-aa94-b66883509cc4 button');\n",
              "      quickchartButtonEl.style.display =\n",
              "        google.colab.kernel.accessAllowed ? 'block' : 'none';\n",
              "    })();\n",
              "  </script>\n",
              "</div>\n",
              "    </div>\n",
              "  </div>\n"
            ]
          },
          "metadata": {},
          "execution_count": 27
        }
      ]
    },
    {
      "cell_type": "code",
      "source": [
        "Data_MLR"
      ],
      "metadata": {
        "colab": {
          "base_uri": "https://localhost:8080/",
          "height": 458
        },
        "id": "Em93mJu4N4eU",
        "outputId": "fd3fda3a-52b2-448e-e9ff-0ae510ce9270"
      },
      "execution_count": null,
      "outputs": [
        {
          "output_type": "execute_result",
          "data": {
            "text/plain": [
              "      UDI Product ID  Air temperature [K]  Process temperature [K]  \\\n",
              "0      70     L47249                298.9                    309.0   \n",
              "1      78     L47257                298.8                    308.9   \n",
              "2     161     L47340                298.4                    308.2   \n",
              "3     162     L47341                298.3                    308.1   \n",
              "4     169     L47348                298.4                    308.3   \n",
              "..    ...        ...                  ...                      ...   \n",
              "297  9664     L56843                299.1                    310.1   \n",
              "298  9665     L56844                299.1                    310.2   \n",
              "299  9668     L56847                299.2                    310.3   \n",
              "301  9823     L57002                298.5                    309.4   \n",
              "302  9831     L57010                298.3                    309.3   \n",
              "\n",
              "     Rotational speed [rpm]  Torque [Nm]  Tool wear [min]  Machine failure  \\\n",
              "0                      1410         65.7              191                1   \n",
              "1                      1455         41.3              208                1   \n",
              "2                      1282         60.7              216                1   \n",
              "3                      1412         52.3              218                1   \n",
              "4                      1433         62.3               20                1   \n",
              "..                      ...          ...              ...              ...   \n",
              "297                    1435         48.8              229                1   \n",
              "298                    1317         54.8              231                1   \n",
              "299                    1352         48.9              238                1   \n",
              "301                    1360         60.9              187                1   \n",
              "302                    1337         56.1              206                1   \n",
              "\n",
              "     Useful life  ToolWearFailure  HeatDiscipationFailure  PowerFailure  \\\n",
              "0          493.1                0                       0             1   \n",
              "1          538.4                1                       0             0   \n",
              "2          367.2                0                       0             0   \n",
              "3          497.5                0                       0             0   \n",
              "4          518.0                0                       0             1   \n",
              "..           ...              ...                     ...           ...   \n",
              "297        515.7                0                       0             0   \n",
              "298        397.5                0                       0             0   \n",
              "299        432.2                0                       0             0   \n",
              "301        442.7                0                       0             0   \n",
              "302        420.1                0                       0             0   \n",
              "\n",
              "     OverstrainFailure  RandomFailure  Type_L  Type_M  \n",
              "0                    1              0       1       0  \n",
              "1                    0              0       1       0  \n",
              "2                    1              0       1       0  \n",
              "3                    1              0       1       0  \n",
              "4                    0              0       1       0  \n",
              "..                 ...            ...     ...     ...  \n",
              "297                  1              0       1       0  \n",
              "298                  1              0       1       0  \n",
              "299                  1              0       1       0  \n",
              "301                  1              0       1       0  \n",
              "302                  1              0       1       0  \n",
              "\n",
              "[263 rows x 16 columns]"
            ],
            "text/html": [
              "\n",
              "  <div id=\"df-f5f46eb9-3a0b-4d31-bd72-3a4d054014cf\" class=\"colab-df-container\">\n",
              "    <div>\n",
              "<style scoped>\n",
              "    .dataframe tbody tr th:only-of-type {\n",
              "        vertical-align: middle;\n",
              "    }\n",
              "\n",
              "    .dataframe tbody tr th {\n",
              "        vertical-align: top;\n",
              "    }\n",
              "\n",
              "    .dataframe thead th {\n",
              "        text-align: right;\n",
              "    }\n",
              "</style>\n",
              "<table border=\"1\" class=\"dataframe\">\n",
              "  <thead>\n",
              "    <tr style=\"text-align: right;\">\n",
              "      <th></th>\n",
              "      <th>UDI</th>\n",
              "      <th>Product ID</th>\n",
              "      <th>Air temperature [K]</th>\n",
              "      <th>Process temperature [K]</th>\n",
              "      <th>Rotational speed [rpm]</th>\n",
              "      <th>Torque [Nm]</th>\n",
              "      <th>Tool wear [min]</th>\n",
              "      <th>Machine failure</th>\n",
              "      <th>Useful life</th>\n",
              "      <th>ToolWearFailure</th>\n",
              "      <th>HeatDiscipationFailure</th>\n",
              "      <th>PowerFailure</th>\n",
              "      <th>OverstrainFailure</th>\n",
              "      <th>RandomFailure</th>\n",
              "      <th>Type_L</th>\n",
              "      <th>Type_M</th>\n",
              "    </tr>\n",
              "  </thead>\n",
              "  <tbody>\n",
              "    <tr>\n",
              "      <th>0</th>\n",
              "      <td>70</td>\n",
              "      <td>L47249</td>\n",
              "      <td>298.9</td>\n",
              "      <td>309.0</td>\n",
              "      <td>1410</td>\n",
              "      <td>65.7</td>\n",
              "      <td>191</td>\n",
              "      <td>1</td>\n",
              "      <td>493.1</td>\n",
              "      <td>0</td>\n",
              "      <td>0</td>\n",
              "      <td>1</td>\n",
              "      <td>1</td>\n",
              "      <td>0</td>\n",
              "      <td>1</td>\n",
              "      <td>0</td>\n",
              "    </tr>\n",
              "    <tr>\n",
              "      <th>1</th>\n",
              "      <td>78</td>\n",
              "      <td>L47257</td>\n",
              "      <td>298.8</td>\n",
              "      <td>308.9</td>\n",
              "      <td>1455</td>\n",
              "      <td>41.3</td>\n",
              "      <td>208</td>\n",
              "      <td>1</td>\n",
              "      <td>538.4</td>\n",
              "      <td>1</td>\n",
              "      <td>0</td>\n",
              "      <td>0</td>\n",
              "      <td>0</td>\n",
              "      <td>0</td>\n",
              "      <td>1</td>\n",
              "      <td>0</td>\n",
              "    </tr>\n",
              "    <tr>\n",
              "      <th>2</th>\n",
              "      <td>161</td>\n",
              "      <td>L47340</td>\n",
              "      <td>298.4</td>\n",
              "      <td>308.2</td>\n",
              "      <td>1282</td>\n",
              "      <td>60.7</td>\n",
              "      <td>216</td>\n",
              "      <td>1</td>\n",
              "      <td>367.2</td>\n",
              "      <td>0</td>\n",
              "      <td>0</td>\n",
              "      <td>0</td>\n",
              "      <td>1</td>\n",
              "      <td>0</td>\n",
              "      <td>1</td>\n",
              "      <td>0</td>\n",
              "    </tr>\n",
              "    <tr>\n",
              "      <th>3</th>\n",
              "      <td>162</td>\n",
              "      <td>L47341</td>\n",
              "      <td>298.3</td>\n",
              "      <td>308.1</td>\n",
              "      <td>1412</td>\n",
              "      <td>52.3</td>\n",
              "      <td>218</td>\n",
              "      <td>1</td>\n",
              "      <td>497.5</td>\n",
              "      <td>0</td>\n",
              "      <td>0</td>\n",
              "      <td>0</td>\n",
              "      <td>1</td>\n",
              "      <td>0</td>\n",
              "      <td>1</td>\n",
              "      <td>0</td>\n",
              "    </tr>\n",
              "    <tr>\n",
              "      <th>4</th>\n",
              "      <td>169</td>\n",
              "      <td>L47348</td>\n",
              "      <td>298.4</td>\n",
              "      <td>308.3</td>\n",
              "      <td>1433</td>\n",
              "      <td>62.3</td>\n",
              "      <td>20</td>\n",
              "      <td>1</td>\n",
              "      <td>518.0</td>\n",
              "      <td>0</td>\n",
              "      <td>0</td>\n",
              "      <td>1</td>\n",
              "      <td>0</td>\n",
              "      <td>0</td>\n",
              "      <td>1</td>\n",
              "      <td>0</td>\n",
              "    </tr>\n",
              "    <tr>\n",
              "      <th>...</th>\n",
              "      <td>...</td>\n",
              "      <td>...</td>\n",
              "      <td>...</td>\n",
              "      <td>...</td>\n",
              "      <td>...</td>\n",
              "      <td>...</td>\n",
              "      <td>...</td>\n",
              "      <td>...</td>\n",
              "      <td>...</td>\n",
              "      <td>...</td>\n",
              "      <td>...</td>\n",
              "      <td>...</td>\n",
              "      <td>...</td>\n",
              "      <td>...</td>\n",
              "      <td>...</td>\n",
              "      <td>...</td>\n",
              "    </tr>\n",
              "    <tr>\n",
              "      <th>297</th>\n",
              "      <td>9664</td>\n",
              "      <td>L56843</td>\n",
              "      <td>299.1</td>\n",
              "      <td>310.1</td>\n",
              "      <td>1435</td>\n",
              "      <td>48.8</td>\n",
              "      <td>229</td>\n",
              "      <td>1</td>\n",
              "      <td>515.7</td>\n",
              "      <td>0</td>\n",
              "      <td>0</td>\n",
              "      <td>0</td>\n",
              "      <td>1</td>\n",
              "      <td>0</td>\n",
              "      <td>1</td>\n",
              "      <td>0</td>\n",
              "    </tr>\n",
              "    <tr>\n",
              "      <th>298</th>\n",
              "      <td>9665</td>\n",
              "      <td>L56844</td>\n",
              "      <td>299.1</td>\n",
              "      <td>310.2</td>\n",
              "      <td>1317</td>\n",
              "      <td>54.8</td>\n",
              "      <td>231</td>\n",
              "      <td>1</td>\n",
              "      <td>397.5</td>\n",
              "      <td>0</td>\n",
              "      <td>0</td>\n",
              "      <td>0</td>\n",
              "      <td>1</td>\n",
              "      <td>0</td>\n",
              "      <td>1</td>\n",
              "      <td>0</td>\n",
              "    </tr>\n",
              "    <tr>\n",
              "      <th>299</th>\n",
              "      <td>9668</td>\n",
              "      <td>L56847</td>\n",
              "      <td>299.2</td>\n",
              "      <td>310.3</td>\n",
              "      <td>1352</td>\n",
              "      <td>48.9</td>\n",
              "      <td>238</td>\n",
              "      <td>1</td>\n",
              "      <td>432.2</td>\n",
              "      <td>0</td>\n",
              "      <td>0</td>\n",
              "      <td>0</td>\n",
              "      <td>1</td>\n",
              "      <td>0</td>\n",
              "      <td>1</td>\n",
              "      <td>0</td>\n",
              "    </tr>\n",
              "    <tr>\n",
              "      <th>301</th>\n",
              "      <td>9823</td>\n",
              "      <td>L57002</td>\n",
              "      <td>298.5</td>\n",
              "      <td>309.4</td>\n",
              "      <td>1360</td>\n",
              "      <td>60.9</td>\n",
              "      <td>187</td>\n",
              "      <td>1</td>\n",
              "      <td>442.7</td>\n",
              "      <td>0</td>\n",
              "      <td>0</td>\n",
              "      <td>0</td>\n",
              "      <td>1</td>\n",
              "      <td>0</td>\n",
              "      <td>1</td>\n",
              "      <td>0</td>\n",
              "    </tr>\n",
              "    <tr>\n",
              "      <th>302</th>\n",
              "      <td>9831</td>\n",
              "      <td>L57010</td>\n",
              "      <td>298.3</td>\n",
              "      <td>309.3</td>\n",
              "      <td>1337</td>\n",
              "      <td>56.1</td>\n",
              "      <td>206</td>\n",
              "      <td>1</td>\n",
              "      <td>420.1</td>\n",
              "      <td>0</td>\n",
              "      <td>0</td>\n",
              "      <td>0</td>\n",
              "      <td>1</td>\n",
              "      <td>0</td>\n",
              "      <td>1</td>\n",
              "      <td>0</td>\n",
              "    </tr>\n",
              "  </tbody>\n",
              "</table>\n",
              "<p>263 rows × 16 columns</p>\n",
              "</div>\n",
              "    <div class=\"colab-df-buttons\">\n",
              "\n",
              "  <div class=\"colab-df-container\">\n",
              "    <button class=\"colab-df-convert\" onclick=\"convertToInteractive('df-f5f46eb9-3a0b-4d31-bd72-3a4d054014cf')\"\n",
              "            title=\"Convert this dataframe to an interactive table.\"\n",
              "            style=\"display:none;\">\n",
              "\n",
              "  <svg xmlns=\"http://www.w3.org/2000/svg\" height=\"24px\" viewBox=\"0 -960 960 960\">\n",
              "    <path d=\"M120-120v-720h720v720H120Zm60-500h600v-160H180v160Zm220 220h160v-160H400v160Zm0 220h160v-160H400v160ZM180-400h160v-160H180v160Zm440 0h160v-160H620v160ZM180-180h160v-160H180v160Zm440 0h160v-160H620v160Z\"/>\n",
              "  </svg>\n",
              "    </button>\n",
              "\n",
              "  <style>\n",
              "    .colab-df-container {\n",
              "      display:flex;\n",
              "      gap: 12px;\n",
              "    }\n",
              "\n",
              "    .colab-df-convert {\n",
              "      background-color: #E8F0FE;\n",
              "      border: none;\n",
              "      border-radius: 50%;\n",
              "      cursor: pointer;\n",
              "      display: none;\n",
              "      fill: #1967D2;\n",
              "      height: 32px;\n",
              "      padding: 0 0 0 0;\n",
              "      width: 32px;\n",
              "    }\n",
              "\n",
              "    .colab-df-convert:hover {\n",
              "      background-color: #E2EBFA;\n",
              "      box-shadow: 0px 1px 2px rgba(60, 64, 67, 0.3), 0px 1px 3px 1px rgba(60, 64, 67, 0.15);\n",
              "      fill: #174EA6;\n",
              "    }\n",
              "\n",
              "    .colab-df-buttons div {\n",
              "      margin-bottom: 4px;\n",
              "    }\n",
              "\n",
              "    [theme=dark] .colab-df-convert {\n",
              "      background-color: #3B4455;\n",
              "      fill: #D2E3FC;\n",
              "    }\n",
              "\n",
              "    [theme=dark] .colab-df-convert:hover {\n",
              "      background-color: #434B5C;\n",
              "      box-shadow: 0px 1px 3px 1px rgba(0, 0, 0, 0.15);\n",
              "      filter: drop-shadow(0px 1px 2px rgba(0, 0, 0, 0.3));\n",
              "      fill: #FFFFFF;\n",
              "    }\n",
              "  </style>\n",
              "\n",
              "    <script>\n",
              "      const buttonEl =\n",
              "        document.querySelector('#df-f5f46eb9-3a0b-4d31-bd72-3a4d054014cf button.colab-df-convert');\n",
              "      buttonEl.style.display =\n",
              "        google.colab.kernel.accessAllowed ? 'block' : 'none';\n",
              "\n",
              "      async function convertToInteractive(key) {\n",
              "        const element = document.querySelector('#df-f5f46eb9-3a0b-4d31-bd72-3a4d054014cf');\n",
              "        const dataTable =\n",
              "          await google.colab.kernel.invokeFunction('convertToInteractive',\n",
              "                                                    [key], {});\n",
              "        if (!dataTable) return;\n",
              "\n",
              "        const docLinkHtml = 'Like what you see? Visit the ' +\n",
              "          '<a target=\"_blank\" href=https://colab.research.google.com/notebooks/data_table.ipynb>data table notebook</a>'\n",
              "          + ' to learn more about interactive tables.';\n",
              "        element.innerHTML = '';\n",
              "        dataTable['output_type'] = 'display_data';\n",
              "        await google.colab.output.renderOutput(dataTable, element);\n",
              "        const docLink = document.createElement('div');\n",
              "        docLink.innerHTML = docLinkHtml;\n",
              "        element.appendChild(docLink);\n",
              "      }\n",
              "    </script>\n",
              "  </div>\n",
              "\n",
              "\n",
              "<div id=\"df-a54c7919-aebe-4f5c-b078-df50f316e7f9\">\n",
              "  <button class=\"colab-df-quickchart\" onclick=\"quickchart('df-a54c7919-aebe-4f5c-b078-df50f316e7f9')\"\n",
              "            title=\"Suggest charts.\"\n",
              "            style=\"display:none;\">\n",
              "\n",
              "<svg xmlns=\"http://www.w3.org/2000/svg\" height=\"24px\"viewBox=\"0 0 24 24\"\n",
              "     width=\"24px\">\n",
              "    <g>\n",
              "        <path d=\"M19 3H5c-1.1 0-2 .9-2 2v14c0 1.1.9 2 2 2h14c1.1 0 2-.9 2-2V5c0-1.1-.9-2-2-2zM9 17H7v-7h2v7zm4 0h-2V7h2v10zm4 0h-2v-4h2v4z\"/>\n",
              "    </g>\n",
              "</svg>\n",
              "  </button>\n",
              "\n",
              "<style>\n",
              "  .colab-df-quickchart {\n",
              "      --bg-color: #E8F0FE;\n",
              "      --fill-color: #1967D2;\n",
              "      --hover-bg-color: #E2EBFA;\n",
              "      --hover-fill-color: #174EA6;\n",
              "      --disabled-fill-color: #AAA;\n",
              "      --disabled-bg-color: #DDD;\n",
              "  }\n",
              "\n",
              "  [theme=dark] .colab-df-quickchart {\n",
              "      --bg-color: #3B4455;\n",
              "      --fill-color: #D2E3FC;\n",
              "      --hover-bg-color: #434B5C;\n",
              "      --hover-fill-color: #FFFFFF;\n",
              "      --disabled-bg-color: #3B4455;\n",
              "      --disabled-fill-color: #666;\n",
              "  }\n",
              "\n",
              "  .colab-df-quickchart {\n",
              "    background-color: var(--bg-color);\n",
              "    border: none;\n",
              "    border-radius: 50%;\n",
              "    cursor: pointer;\n",
              "    display: none;\n",
              "    fill: var(--fill-color);\n",
              "    height: 32px;\n",
              "    padding: 0;\n",
              "    width: 32px;\n",
              "  }\n",
              "\n",
              "  .colab-df-quickchart:hover {\n",
              "    background-color: var(--hover-bg-color);\n",
              "    box-shadow: 0 1px 2px rgba(60, 64, 67, 0.3), 0 1px 3px 1px rgba(60, 64, 67, 0.15);\n",
              "    fill: var(--button-hover-fill-color);\n",
              "  }\n",
              "\n",
              "  .colab-df-quickchart-complete:disabled,\n",
              "  .colab-df-quickchart-complete:disabled:hover {\n",
              "    background-color: var(--disabled-bg-color);\n",
              "    fill: var(--disabled-fill-color);\n",
              "    box-shadow: none;\n",
              "  }\n",
              "\n",
              "  .colab-df-spinner {\n",
              "    border: 2px solid var(--fill-color);\n",
              "    border-color: transparent;\n",
              "    border-bottom-color: var(--fill-color);\n",
              "    animation:\n",
              "      spin 1s steps(1) infinite;\n",
              "  }\n",
              "\n",
              "  @keyframes spin {\n",
              "    0% {\n",
              "      border-color: transparent;\n",
              "      border-bottom-color: var(--fill-color);\n",
              "      border-left-color: var(--fill-color);\n",
              "    }\n",
              "    20% {\n",
              "      border-color: transparent;\n",
              "      border-left-color: var(--fill-color);\n",
              "      border-top-color: var(--fill-color);\n",
              "    }\n",
              "    30% {\n",
              "      border-color: transparent;\n",
              "      border-left-color: var(--fill-color);\n",
              "      border-top-color: var(--fill-color);\n",
              "      border-right-color: var(--fill-color);\n",
              "    }\n",
              "    40% {\n",
              "      border-color: transparent;\n",
              "      border-right-color: var(--fill-color);\n",
              "      border-top-color: var(--fill-color);\n",
              "    }\n",
              "    60% {\n",
              "      border-color: transparent;\n",
              "      border-right-color: var(--fill-color);\n",
              "    }\n",
              "    80% {\n",
              "      border-color: transparent;\n",
              "      border-right-color: var(--fill-color);\n",
              "      border-bottom-color: var(--fill-color);\n",
              "    }\n",
              "    90% {\n",
              "      border-color: transparent;\n",
              "      border-bottom-color: var(--fill-color);\n",
              "    }\n",
              "  }\n",
              "</style>\n",
              "\n",
              "  <script>\n",
              "    async function quickchart(key) {\n",
              "      const quickchartButtonEl =\n",
              "        document.querySelector('#' + key + ' button');\n",
              "      quickchartButtonEl.disabled = true;  // To prevent multiple clicks.\n",
              "      quickchartButtonEl.classList.add('colab-df-spinner');\n",
              "      try {\n",
              "        const charts = await google.colab.kernel.invokeFunction(\n",
              "            'suggestCharts', [key], {});\n",
              "      } catch (error) {\n",
              "        console.error('Error during call to suggestCharts:', error);\n",
              "      }\n",
              "      quickchartButtonEl.classList.remove('colab-df-spinner');\n",
              "      quickchartButtonEl.classList.add('colab-df-quickchart-complete');\n",
              "    }\n",
              "    (() => {\n",
              "      let quickchartButtonEl =\n",
              "        document.querySelector('#df-a54c7919-aebe-4f5c-b078-df50f316e7f9 button');\n",
              "      quickchartButtonEl.style.display =\n",
              "        google.colab.kernel.accessAllowed ? 'block' : 'none';\n",
              "    })();\n",
              "  </script>\n",
              "</div>\n",
              "    </div>\n",
              "  </div>\n"
            ]
          },
          "metadata": {},
          "execution_count": 28
        }
      ]
    },
    {
      "cell_type": "code",
      "source": [
        "#we can see Air temperature and Process temperature is highly correlated and Torque [Nm] and Rotational speed is highly correlated.\n",
        "# so we are deleting any one of the variable to reduce multicollinearity"
      ],
      "metadata": {
        "id": "xRgVkL0oJ3--"
      },
      "execution_count": null,
      "outputs": []
    },
    {
      "cell_type": "code",
      "source": [
        "from statsmodels.formula.api import ols\n",
        "#ols is a function from the statsmodels library in Python that stands for \"ordinary least squares.\"\n",
        "#It is used to perform linear regression analysis. Linear regression is a statistical technique used to model the relationship between\n",
        "#a dependent variable and one or more independent variables by fitting a linear equation to the observed data."
      ],
      "metadata": {
        "id": "F2fQqTd-KVOu"
      },
      "execution_count": null,
      "outputs": []
    },
    {
      "cell_type": "code",
      "source": [
        "MLR=ols(\"Y~X\", Data_MLR).fit()\n",
        "print(MLR.summary())"
      ],
      "metadata": {
        "colab": {
          "base_uri": "https://localhost:8080/"
        },
        "id": "_IIhPkAdKwUI",
        "outputId": "e864153c-6433-4472-e653-501f05f76a78"
      },
      "execution_count": null,
      "outputs": [
        {
          "output_type": "stream",
          "name": "stdout",
          "text": [
            "                            OLS Regression Results                            \n",
            "==============================================================================\n",
            "Dep. Variable:                      Y   R-squared:                       0.575\n",
            "Model:                            OLS   Adj. R-squared:                  0.567\n",
            "Method:                 Least Squares   F-statistic:                     69.56\n",
            "Date:                Sun, 24 Sep 2023   Prob (F-statistic):           8.45e-46\n",
            "Time:                        18:07:02   Log-Likelihood:                -1464.7\n",
            "No. Observations:                 263   AIC:                             2941.\n",
            "Df Residuals:                     257   BIC:                             2963.\n",
            "Df Model:                           5                                         \n",
            "Covariance Type:            nonrobust                                         \n",
            "==============================================================================\n",
            "                 coef    std err          t      P>|t|      [0.025      0.975]\n",
            "------------------------------------------------------------------------------\n",
            "Intercept   4676.9092    982.510      4.760      0.000    2742.114    6611.704\n",
            "X[0]         -12.3990      3.156     -3.928      0.000     -18.614      -6.184\n",
            "X[1]          -7.5488      0.456    -16.566      0.000      -8.446      -6.651\n",
            "X[2]           0.1887      0.058      3.228      0.001       0.074       0.304\n",
            "X[3]          -4.1743     15.913     -0.262      0.793     -35.511      27.162\n",
            "X[4]          11.2390     17.268      0.651      0.516     -22.766      45.244\n",
            "==============================================================================\n",
            "Omnibus:                       27.870   Durbin-Watson:                   1.617\n",
            "Prob(Omnibus):                  0.000   Jarque-Bera (JB):               36.901\n",
            "Skew:                           0.725   Prob(JB):                     9.71e-09\n",
            "Kurtosis:                       4.126   Cond. No.                     8.73e+04\n",
            "==============================================================================\n",
            "\n",
            "Notes:\n",
            "[1] Standard Errors assume that the covariance matrix of the errors is correctly specified.\n",
            "[2] The condition number is large, 8.73e+04. This might indicate that there are\n",
            "strong multicollinearity or other numerical problems.\n"
          ]
        }
      ]
    },
    {
      "cell_type": "code",
      "source": [
        "from imblearn.over_sampling import SMOTE"
      ],
      "metadata": {
        "id": "11-cjt-oASNz"
      },
      "execution_count": null,
      "outputs": []
    },
    {
      "cell_type": "code",
      "source": [
        "Y=Data_MLR['ToolWearFailure']\n",
        "X=Data_MLR[[ 'Process temperature [K]', 'Rotational speed [rpm]', 'Air temperature [K]',\n",
        "       'Torque [Nm]', 'Tool wear [min]',\n",
        "        'Type_L', 'Type_M']]"
      ],
      "metadata": {
        "id": "EQFkpU8SAx5c"
      },
      "execution_count": null,
      "outputs": []
    },
    {
      "cell_type": "code",
      "source": [
        "x_o,y_o = SMOTE().fit_resample(X,Y)"
      ],
      "metadata": {
        "id": "mp0ksG0iBBLB"
      },
      "execution_count": null,
      "outputs": []
    },
    {
      "cell_type": "code",
      "source": [
        "y_o.shape"
      ],
      "metadata": {
        "colab": {
          "base_uri": "https://localhost:8080/"
        },
        "id": "Egy3eYnVCVQA",
        "outputId": "acde1e22-a33a-45b1-e4f2-317f644bf6ff"
      },
      "execution_count": null,
      "outputs": [
        {
          "output_type": "execute_result",
          "data": {
            "text/plain": [
              "(442,)"
            ]
          },
          "metadata": {},
          "execution_count": 34
        }
      ]
    },
    {
      "cell_type": "code",
      "source": [
        "from sklearn.model_selection import train_test_split\n",
        "X_O_train, X_O_Test, Y_O_Train, Y_O_Test= train_test_split(x_o, y_o, test_size=0.2, random_state=0)"
      ],
      "metadata": {
        "id": "275d6pTuCYgh"
      },
      "execution_count": null,
      "outputs": []
    },
    {
      "cell_type": "code",
      "source": [
        "from sklearn.naive_bayes import MultinomialNB\n",
        "from sklearn.metrics import classification_report\n",
        "CLF_MN=MultinomialNB()\n",
        "CLF_MN=CLF_MN.fit(X_O_train, Y_O_Train)\n",
        "Y_O_pred=CLF_MN.predict(X_O_Test)\n",
        "Report = classification_report(Y_O_Test, Y_O_pred)\n",
        "print(Report)#oversampling"
      ],
      "metadata": {
        "colab": {
          "base_uri": "https://localhost:8080/"
        },
        "id": "WQ49gzB6Cnqg",
        "outputId": "b41782af-2d41-43d7-ffde-38999eee5372"
      },
      "execution_count": null,
      "outputs": [
        {
          "output_type": "stream",
          "name": "stdout",
          "text": [
            "              precision    recall  f1-score   support\n",
            "\n",
            "           0       1.00      0.72      0.84        40\n",
            "           1       0.82      1.00      0.90        49\n",
            "\n",
            "    accuracy                           0.88        89\n",
            "   macro avg       0.91      0.86      0.87        89\n",
            "weighted avg       0.90      0.88      0.87        89\n",
            "\n"
          ]
        }
      ]
    },
    {
      "cell_type": "code",
      "source": [
        "X_train, X_Test, Y_Train, Y_Test= train_test_split(X, Y, test_size=0.2, random_state=0)\n",
        "CLF_MN=CLF_MN.fit(X_train, Y_Train)\n",
        "Y_pred=CLF_MN.predict(X_Test)\n",
        "Report = classification_report(Y_Test, Y_pred)\n",
        "print(Report)#with normal data"
      ],
      "metadata": {
        "colab": {
          "base_uri": "https://localhost:8080/"
        },
        "id": "nvY2PbEYC8WC",
        "outputId": "c673b82c-e351-442f-a0bd-19f97bcf11fb"
      },
      "execution_count": null,
      "outputs": [
        {
          "output_type": "stream",
          "name": "stdout",
          "text": [
            "              precision    recall  f1-score   support\n",
            "\n",
            "           0       1.00      0.68      0.81        47\n",
            "           1       0.29      1.00      0.44         6\n",
            "\n",
            "    accuracy                           0.72        53\n",
            "   macro avg       0.64      0.84      0.63        53\n",
            "weighted avg       0.92      0.72      0.77        53\n",
            "\n"
          ]
        }
      ]
    },
    {
      "cell_type": "code",
      "source": [
        "from sklearn.neighbors import KNeighborsClassifier\n",
        "\n",
        "CLFknn = KNeighborsClassifier(n_neighbors=7)\n",
        "\n",
        "CLFknn= CLFknn.fit(X_train, Y_Train)\n",
        "\n",
        "Y_pred=CLFknn.predict(X_Test)\n",
        "Report = classification_report(Y_Test, Y_pred)\n",
        "print(Report)"
      ],
      "metadata": {
        "colab": {
          "base_uri": "https://localhost:8080/"
        },
        "id": "q2pyciaMR4bU",
        "outputId": "8dc196df-4cea-46ab-9009-b29af0388664"
      },
      "execution_count": null,
      "outputs": [
        {
          "output_type": "stream",
          "name": "stdout",
          "text": [
            "              precision    recall  f1-score   support\n",
            "\n",
            "           0       0.98      0.94      0.96        47\n",
            "           1       0.62      0.83      0.71         6\n",
            "\n",
            "    accuracy                           0.92        53\n",
            "   macro avg       0.80      0.88      0.84        53\n",
            "weighted avg       0.94      0.92      0.93        53\n",
            "\n"
          ]
        }
      ]
    },
    {
      "cell_type": "code",
      "source": [
        "from sklearn.neighbors import KNeighborsClassifier\n",
        "\n",
        "CLFknn = KNeighborsClassifier(n_neighbors=7)\n",
        "\n",
        "CLFknn= CLFknn.fit(X_O_train, Y_O_Train)\n",
        "\n",
        "Y_O_pred=CLFknn.predict(X_O_Test)\n",
        "Report1 = classification_report(Y_O_Test, Y_O_pred)\n",
        "print(Report1)"
      ],
      "metadata": {
        "colab": {
          "base_uri": "https://localhost:8080/"
        },
        "id": "nz1LRdrcSFQJ",
        "outputId": "d94b5e16-b188-4622-a4ae-476094f70b0e"
      },
      "execution_count": null,
      "outputs": [
        {
          "output_type": "stream",
          "name": "stdout",
          "text": [
            "              precision    recall  f1-score   support\n",
            "\n",
            "           0       0.92      0.90      0.91        40\n",
            "           1       0.92      0.94      0.93        49\n",
            "\n",
            "    accuracy                           0.92        89\n",
            "   macro avg       0.92      0.92      0.92        89\n",
            "weighted avg       0.92      0.92      0.92        89\n",
            "\n"
          ]
        }
      ]
    },
    {
      "cell_type": "code",
      "source": [
        "from sklearn.svm import SVC\n",
        "clfsvm = SVC(kernel='linear')\n",
        "clfsvm= clfsvm.fit(X_train, Y_Train)\n",
        "Y_Pred= clfsvm.predict(X_Test)\n",
        "Report= classification_report(Y_Test, Y_Pred)\n",
        "print(Report)"
      ],
      "metadata": {
        "colab": {
          "base_uri": "https://localhost:8080/"
        },
        "id": "TdR0M1VKSRkJ",
        "outputId": "2adef6a8-f016-49b4-b8e9-9451da8efbba"
      },
      "execution_count": null,
      "outputs": [
        {
          "output_type": "stream",
          "name": "stdout",
          "text": [
            "              precision    recall  f1-score   support\n",
            "\n",
            "           0       0.98      0.96      0.97        47\n",
            "           1       0.71      0.83      0.77         6\n",
            "\n",
            "    accuracy                           0.94        53\n",
            "   macro avg       0.85      0.90      0.87        53\n",
            "weighted avg       0.95      0.94      0.95        53\n",
            "\n"
          ]
        }
      ]
    },
    {
      "cell_type": "code",
      "source": [
        "from sklearn.svm import SVC\n",
        "clfsvm = SVC(kernel='linear')\n",
        "clfsvm= clfsvm.fit(X_O_train, Y_O_Train)\n",
        "\n",
        "Y_O_pred=clfsvm.predict(X_O_Test)\n",
        "Report1 = classification_report(Y_O_Test, Y_O_pred)\n",
        "print(Report1)"
      ],
      "metadata": {
        "colab": {
          "base_uri": "https://localhost:8080/"
        },
        "id": "9buDFvzJScRX",
        "outputId": "219c416a-1444-4703-e032-e5d469081945"
      },
      "execution_count": null,
      "outputs": [
        {
          "output_type": "stream",
          "name": "stdout",
          "text": [
            "              precision    recall  f1-score   support\n",
            "\n",
            "           0       0.93      0.95      0.94        40\n",
            "           1       0.96      0.94      0.95        49\n",
            "\n",
            "    accuracy                           0.94        89\n",
            "   macro avg       0.94      0.94      0.94        89\n",
            "weighted avg       0.94      0.94      0.94        89\n",
            "\n"
          ]
        }
      ]
    },
    {
      "cell_type": "code",
      "source": [
        "from sklearn.ensemble import RandomForestClassifier\n",
        "\n",
        "CLFrfc = RandomForestClassifier(n_estimators = 100)\n",
        "\n",
        "CLFrfc= CLFrfc.fit(X_train, Y_Train)\n",
        "Y_Pred= CLFrfc.predict(X_Test)\n",
        "Report= classification_report(Y_Test, Y_Pred)\n",
        "print(Report)"
      ],
      "metadata": {
        "colab": {
          "base_uri": "https://localhost:8080/"
        },
        "id": "ZpkKw4LxSfHu",
        "outputId": "04ad7904-15ed-47aa-b52d-0bf918c35281"
      },
      "execution_count": null,
      "outputs": [
        {
          "output_type": "stream",
          "name": "stdout",
          "text": [
            "              precision    recall  f1-score   support\n",
            "\n",
            "           0       0.98      0.98      0.98        47\n",
            "           1       0.83      0.83      0.83         6\n",
            "\n",
            "    accuracy                           0.96        53\n",
            "   macro avg       0.91      0.91      0.91        53\n",
            "weighted avg       0.96      0.96      0.96        53\n",
            "\n"
          ]
        }
      ]
    },
    {
      "cell_type": "code",
      "source": [
        "from sklearn.ensemble import RandomForestClassifier\n",
        "\n",
        "CLFrfc = RandomForestClassifier(n_estimators = 100)\n",
        "\n",
        "CLFrfc= CLFrfc.fit(X_O_train, Y_O_Train)\n",
        "Y_O_Pred= CLFrfc.predict(X_O_Test)\n",
        "Report1= classification_report(Y_O_Test, Y_O_Pred)\n",
        "print(Report1)"
      ],
      "metadata": {
        "colab": {
          "base_uri": "https://localhost:8080/"
        },
        "id": "70ab8hcASil1",
        "outputId": "821c5bee-aafa-4ef7-8109-6c697912e0e4"
      },
      "execution_count": null,
      "outputs": [
        {
          "output_type": "stream",
          "name": "stdout",
          "text": [
            "              precision    recall  f1-score   support\n",
            "\n",
            "           0       1.00      1.00      1.00        40\n",
            "           1       1.00      1.00      1.00        49\n",
            "\n",
            "    accuracy                           1.00        89\n",
            "   macro avg       1.00      1.00      1.00        89\n",
            "weighted avg       1.00      1.00      1.00        89\n",
            "\n"
          ]
        }
      ]
    },
    {
      "cell_type": "code",
      "source": [
        "from sklearn.tree import DecisionTreeClassifier\n",
        "\n",
        "CLFdt = DecisionTreeClassifier(max_depth =3, random_state = 42)\n",
        "\n",
        "CLFdt= CLFdt.fit(X_train, Y_Train)\n",
        "Y_Pred= CLFdt.predict(X_Test)\n",
        "Report= classification_report(Y_Test, Y_Pred)\n",
        "print(Report)"
      ],
      "metadata": {
        "colab": {
          "base_uri": "https://localhost:8080/"
        },
        "id": "_vOLHxrMSrew",
        "outputId": "81071fc2-94ca-4a0d-e257-2bcdd83168aa"
      },
      "execution_count": null,
      "outputs": [
        {
          "output_type": "stream",
          "name": "stdout",
          "text": [
            "              precision    recall  f1-score   support\n",
            "\n",
            "           0       1.00      0.98      0.99        47\n",
            "           1       0.86      1.00      0.92         6\n",
            "\n",
            "    accuracy                           0.98        53\n",
            "   macro avg       0.93      0.99      0.96        53\n",
            "weighted avg       0.98      0.98      0.98        53\n",
            "\n"
          ]
        }
      ]
    },
    {
      "cell_type": "code",
      "source": [
        "from sklearn.tree import DecisionTreeClassifier\n",
        "\n",
        "CLFdt = DecisionTreeClassifier(max_depth =3, random_state = 42)\n",
        "\n",
        "CLFdt= CLFdt.fit(X_O_train, Y_O_Train)\n",
        "Y_O_Pred= CLFdt.predict(X_O_Test)\n",
        "Report1= classification_report(Y_O_Test, Y_O_Pred)\n",
        "print(Report1)"
      ],
      "metadata": {
        "colab": {
          "base_uri": "https://localhost:8080/"
        },
        "id": "wjvSIogDSwI-",
        "outputId": "b4169c82-db0b-4901-d5f5-54607949c48b"
      },
      "execution_count": null,
      "outputs": [
        {
          "output_type": "stream",
          "name": "stdout",
          "text": [
            "              precision    recall  f1-score   support\n",
            "\n",
            "           0       0.98      1.00      0.99        40\n",
            "           1       1.00      0.98      0.99        49\n",
            "\n",
            "    accuracy                           0.99        89\n",
            "   macro avg       0.99      0.99      0.99        89\n",
            "weighted avg       0.99      0.99      0.99        89\n",
            "\n"
          ]
        }
      ]
    },
    {
      "cell_type": "code",
      "source": [
        "import xgboost as xgb\n",
        "clfxgb = xgb.XGBClassifier()\n",
        "clfxgb.fit(X_train.values, Y_Train.values)\n",
        "Y_Pred= clfxgb.predict(X_Test)\n",
        "Report= classification_report(Y_Test, Y_Pred)\n",
        "print(Report)"
      ],
      "metadata": {
        "colab": {
          "base_uri": "https://localhost:8080/"
        },
        "id": "7PAtaUVkS9JB",
        "outputId": "dab9c99c-983f-48b9-ed48-dc861c7f2ffa"
      },
      "execution_count": null,
      "outputs": [
        {
          "output_type": "stream",
          "name": "stdout",
          "text": [
            "              precision    recall  f1-score   support\n",
            "\n",
            "           0       0.98      1.00      0.99        47\n",
            "           1       1.00      0.83      0.91         6\n",
            "\n",
            "    accuracy                           0.98        53\n",
            "   macro avg       0.99      0.92      0.95        53\n",
            "weighted avg       0.98      0.98      0.98        53\n",
            "\n"
          ]
        }
      ]
    },
    {
      "cell_type": "code",
      "source": [
        "import xgboost as xgb\n",
        "CLFxgb = xgb.XGBClassifier()\n",
        "\n",
        "CLFxgb= CLFxgb.fit(X_O_train.values, Y_O_Train.values)\n",
        "Y_O_Pred= CLFxgb.predict(X_O_Test)\n",
        "Report1= classification_report(Y_O_Test, Y_O_Pred)\n",
        "print(Report1)"
      ],
      "metadata": {
        "colab": {
          "base_uri": "https://localhost:8080/"
        },
        "id": "XKil3jfGUvsJ",
        "outputId": "7b3dd254-4916-4ce2-9d09-28a7694aba51"
      },
      "execution_count": null,
      "outputs": [
        {
          "output_type": "stream",
          "name": "stdout",
          "text": [
            "              precision    recall  f1-score   support\n",
            "\n",
            "           0       1.00      1.00      1.00        40\n",
            "           1       1.00      1.00      1.00        49\n",
            "\n",
            "    accuracy                           1.00        89\n",
            "   macro avg       1.00      1.00      1.00        89\n",
            "weighted avg       1.00      1.00      1.00        89\n",
            "\n"
          ]
        }
      ]
    },
    {
      "cell_type": "code",
      "source": [
        "Y=Data_MLR['HeatDiscipationFailure']\n",
        "X=Data_MLR[['Rotational speed [rpm]', 'Air temperature [K]',\n",
        "       'Torque [Nm]', 'Tool wear [min]',\n",
        "        'Type_L', 'Type_M']]"
      ],
      "metadata": {
        "id": "1Qlit4xFTALU"
      },
      "execution_count": null,
      "outputs": []
    },
    {
      "cell_type": "code",
      "source": [
        "x_o,y_o = SMOTE().fit_resample(X,Y)"
      ],
      "metadata": {
        "id": "Fz7G1q22XJ_d"
      },
      "execution_count": null,
      "outputs": []
    },
    {
      "cell_type": "code",
      "source": [
        "X_train, X_Test, Y_Train, Y_Test= train_test_split(X, Y, test_size=0.2, random_state=0)"
      ],
      "metadata": {
        "id": "XnppCkIQXRo_"
      },
      "execution_count": null,
      "outputs": []
    },
    {
      "cell_type": "code",
      "source": [
        "X_O_train, X_O_Test, Y_O_Train, Y_O_Test= train_test_split(x_o, y_o, test_size=0.2, random_state=0)"
      ],
      "metadata": {
        "id": "p9aWZLGsXYeH"
      },
      "execution_count": null,
      "outputs": []
    },
    {
      "cell_type": "code",
      "source": [
        "CLF_MN=MultinomialNB()\n",
        "CLF_MN=CLF_MN.fit(X_train, Y_Train)\n",
        "Y_pred=CLF_MN.predict(X_Test)\n",
        "Report = classification_report(Y_Test, Y_pred)\n",
        "print(Report)"
      ],
      "metadata": {
        "colab": {
          "base_uri": "https://localhost:8080/"
        },
        "id": "TqxghSLgXgDk",
        "outputId": "094f68f5-755d-4ac2-8800-fd2ad06f0044"
      },
      "execution_count": null,
      "outputs": [
        {
          "output_type": "stream",
          "name": "stdout",
          "text": [
            "              precision    recall  f1-score   support\n",
            "\n",
            "           0       0.75      0.81      0.78        26\n",
            "           1       0.80      0.74      0.77        27\n",
            "\n",
            "    accuracy                           0.77        53\n",
            "   macro avg       0.78      0.77      0.77        53\n",
            "weighted avg       0.78      0.77      0.77        53\n",
            "\n"
          ]
        }
      ]
    },
    {
      "cell_type": "code",
      "source": [
        "CLF_MN=MultinomialNB()\n",
        "CLF_MN=CLF_MN.fit(X_O_train, Y_O_Train)\n",
        "Y_O_pred=CLF_MN.predict(X_O_Test)\n",
        "Report2 = classification_report(Y_O_Test, Y_O_pred)\n",
        "print(Report2)"
      ],
      "metadata": {
        "colab": {
          "base_uri": "https://localhost:8080/"
        },
        "id": "YztpBOdfXtM2",
        "outputId": "bb80f29f-c9df-4695-d4c3-50082efaf428"
      },
      "execution_count": null,
      "outputs": [
        {
          "output_type": "stream",
          "name": "stdout",
          "text": [
            "              precision    recall  f1-score   support\n",
            "\n",
            "           0       0.74      0.84      0.79        31\n",
            "           1       0.81      0.71      0.76        31\n",
            "\n",
            "    accuracy                           0.77        62\n",
            "   macro avg       0.78      0.77      0.77        62\n",
            "weighted avg       0.78      0.77      0.77        62\n",
            "\n"
          ]
        }
      ]
    },
    {
      "cell_type": "code",
      "source": [
        "from sklearn.neighbors import KNeighborsClassifier\n",
        "\n",
        "CLFknn = KNeighborsClassifier(n_neighbors=7)\n",
        "\n",
        "CLFknn= CLFknn.fit(X_train, Y_Train)\n",
        "\n",
        "Y_pred=CLFknn.predict(X_Test)\n",
        "Report = classification_report(Y_Test, Y_pred)\n",
        "print(Report)"
      ],
      "metadata": {
        "colab": {
          "base_uri": "https://localhost:8080/"
        },
        "id": "ocw0A8-CXw5W",
        "outputId": "18169fb9-204c-483b-ada1-450f64a08e8f"
      },
      "execution_count": null,
      "outputs": [
        {
          "output_type": "stream",
          "name": "stdout",
          "text": [
            "              precision    recall  f1-score   support\n",
            "\n",
            "           0       0.89      0.96      0.93        26\n",
            "           1       0.96      0.89      0.92        27\n",
            "\n",
            "    accuracy                           0.92        53\n",
            "   macro avg       0.93      0.93      0.92        53\n",
            "weighted avg       0.93      0.92      0.92        53\n",
            "\n"
          ]
        }
      ]
    },
    {
      "cell_type": "code",
      "source": [
        "from sklearn.neighbors import KNeighborsClassifier\n",
        "\n",
        "CLFknn = KNeighborsClassifier(n_neighbors=7)\n",
        "\n",
        "CLFknn= CLFknn.fit(X_O_train, Y_O_Train)\n",
        "\n",
        "Y_O_pred=CLFknn.predict(X_O_Test)\n",
        "Report1 = classification_report(Y_O_Test, Y_O_pred)\n",
        "print(Report1)"
      ],
      "metadata": {
        "colab": {
          "base_uri": "https://localhost:8080/"
        },
        "id": "XadgNqi8X6zE",
        "outputId": "65855dde-7538-4c82-b424-bdd9b7715826"
      },
      "execution_count": null,
      "outputs": [
        {
          "output_type": "stream",
          "name": "stdout",
          "text": [
            "              precision    recall  f1-score   support\n",
            "\n",
            "           0       0.90      0.90      0.90        31\n",
            "           1       0.90      0.90      0.90        31\n",
            "\n",
            "    accuracy                           0.90        62\n",
            "   macro avg       0.90      0.90      0.90        62\n",
            "weighted avg       0.90      0.90      0.90        62\n",
            "\n"
          ]
        }
      ]
    },
    {
      "cell_type": "code",
      "source": [
        "from sklearn.svm import SVC\n",
        "clfsvm = SVC(kernel='linear')\n",
        "clfsvm= clfsvm.fit(X_train, Y_Train)\n",
        "Y_Pred= clfsvm.predict(X_Test)\n",
        "Report= classification_report(Y_Test, Y_Pred)\n",
        "print(Report)"
      ],
      "metadata": {
        "colab": {
          "base_uri": "https://localhost:8080/"
        },
        "id": "pY-fBZNgX9GU",
        "outputId": "2301b9ea-3e09-4433-fea9-d64a63b1cef4"
      },
      "execution_count": null,
      "outputs": [
        {
          "output_type": "stream",
          "name": "stdout",
          "text": [
            "              precision    recall  f1-score   support\n",
            "\n",
            "           0       0.96      0.96      0.96        26\n",
            "           1       0.96      0.96      0.96        27\n",
            "\n",
            "    accuracy                           0.96        53\n",
            "   macro avg       0.96      0.96      0.96        53\n",
            "weighted avg       0.96      0.96      0.96        53\n",
            "\n"
          ]
        }
      ]
    },
    {
      "cell_type": "code",
      "source": [
        "from sklearn.svm import SVC\n",
        "clfsvm = SVC(kernel='linear')\n",
        "clfsvm= clfsvm.fit(X_O_train, Y_O_Train)\n",
        "\n",
        "Y_O_pred=clfsvm.predict(X_O_Test)\n",
        "Report1 = classification_report(Y_O_Test, Y_O_pred)\n",
        "print(Report1)"
      ],
      "metadata": {
        "colab": {
          "base_uri": "https://localhost:8080/"
        },
        "id": "3dXKVXxFYAYp",
        "outputId": "32a6be99-0bd7-4612-e52a-e6802ebec635"
      },
      "execution_count": null,
      "outputs": [
        {
          "output_type": "stream",
          "name": "stdout",
          "text": [
            "              precision    recall  f1-score   support\n",
            "\n",
            "           0       1.00      0.94      0.97        31\n",
            "           1       0.94      1.00      0.97        31\n",
            "\n",
            "    accuracy                           0.97        62\n",
            "   macro avg       0.97      0.97      0.97        62\n",
            "weighted avg       0.97      0.97      0.97        62\n",
            "\n"
          ]
        }
      ]
    },
    {
      "cell_type": "code",
      "source": [
        "from sklearn.ensemble import RandomForestClassifier\n",
        "\n",
        "CLFrfc = RandomForestClassifier(n_estimators = 100)\n",
        "\n",
        "CLFrfc= CLFrfc.fit(X_train, Y_Train)\n",
        "Y_Pred= CLFrfc.predict(X_Test)\n",
        "Report= classification_report(Y_Test, Y_Pred)\n",
        "print(Report)"
      ],
      "metadata": {
        "colab": {
          "base_uri": "https://localhost:8080/"
        },
        "id": "b8lKshLFYDNM",
        "outputId": "f202e058-6a4b-4818-babb-2ba864dc223a"
      },
      "execution_count": null,
      "outputs": [
        {
          "output_type": "stream",
          "name": "stdout",
          "text": [
            "              precision    recall  f1-score   support\n",
            "\n",
            "           0       0.96      1.00      0.98        26\n",
            "           1       1.00      0.96      0.98        27\n",
            "\n",
            "    accuracy                           0.98        53\n",
            "   macro avg       0.98      0.98      0.98        53\n",
            "weighted avg       0.98      0.98      0.98        53\n",
            "\n"
          ]
        }
      ]
    },
    {
      "cell_type": "code",
      "source": [
        "from sklearn.ensemble import RandomForestClassifier\n",
        "\n",
        "CLFrfc = RandomForestClassifier(n_estimators = 100)\n",
        "\n",
        "CLFrfc= CLFrfc.fit(X_O_train, Y_O_Train)\n",
        "Y_O_Pred= CLFrfc.predict(X_O_Test)\n",
        "Report1= classification_report(Y_O_Test, Y_O_Pred)\n",
        "print(Report1)"
      ],
      "metadata": {
        "colab": {
          "base_uri": "https://localhost:8080/"
        },
        "id": "J1SHU4TKYIti",
        "outputId": "6018b61e-0ae7-4145-9cd9-0d0387d893fc"
      },
      "execution_count": null,
      "outputs": [
        {
          "output_type": "stream",
          "name": "stdout",
          "text": [
            "              precision    recall  f1-score   support\n",
            "\n",
            "           0       1.00      1.00      1.00        31\n",
            "           1       1.00      1.00      1.00        31\n",
            "\n",
            "    accuracy                           1.00        62\n",
            "   macro avg       1.00      1.00      1.00        62\n",
            "weighted avg       1.00      1.00      1.00        62\n",
            "\n"
          ]
        }
      ]
    },
    {
      "cell_type": "code",
      "source": [
        "from sklearn.tree import DecisionTreeClassifier\n",
        "\n",
        "CLFdt = DecisionTreeClassifier(max_depth =3, random_state = 42)\n",
        "\n",
        "CLFdt= CLFdt.fit(X_train, Y_Train)\n",
        "Y_Pred= CLFdt.predict(X_Test)\n",
        "Report= classification_report(Y_Test, Y_Pred)\n",
        "print(Report)"
      ],
      "metadata": {
        "colab": {
          "base_uri": "https://localhost:8080/"
        },
        "id": "1oozxObSYN5Y",
        "outputId": "8cacac74-3dfc-4675-c5d0-73f52b22e950"
      },
      "execution_count": null,
      "outputs": [
        {
          "output_type": "stream",
          "name": "stdout",
          "text": [
            "              precision    recall  f1-score   support\n",
            "\n",
            "           0       0.96      0.92      0.94        26\n",
            "           1       0.93      0.96      0.95        27\n",
            "\n",
            "    accuracy                           0.94        53\n",
            "   macro avg       0.94      0.94      0.94        53\n",
            "weighted avg       0.94      0.94      0.94        53\n",
            "\n"
          ]
        }
      ]
    },
    {
      "cell_type": "code",
      "source": [
        "from sklearn.tree import DecisionTreeClassifier\n",
        "\n",
        "CLFdt = DecisionTreeClassifier(max_depth =3, random_state = 42)\n",
        "\n",
        "CLFdt= CLFdt.fit(X_O_train, Y_O_Train)\n",
        "Y_O_Pred= CLFdt.predict(X_O_Test)\n",
        "Report1= classification_report(Y_O_Test, Y_O_Pred)\n",
        "print(Report1)"
      ],
      "metadata": {
        "colab": {
          "base_uri": "https://localhost:8080/"
        },
        "id": "6Z9ritQ7YUIK",
        "outputId": "e2816656-482a-499c-ae1a-4cc3f3c56584"
      },
      "execution_count": null,
      "outputs": [
        {
          "output_type": "stream",
          "name": "stdout",
          "text": [
            "              precision    recall  f1-score   support\n",
            "\n",
            "           0       0.91      0.94      0.92        31\n",
            "           1       0.93      0.90      0.92        31\n",
            "\n",
            "    accuracy                           0.92        62\n",
            "   macro avg       0.92      0.92      0.92        62\n",
            "weighted avg       0.92      0.92      0.92        62\n",
            "\n"
          ]
        }
      ]
    },
    {
      "cell_type": "code",
      "source": [
        "import xgboost as xgb\n",
        "CLFxgb = xgb.XGBClassifier()\n",
        "\n",
        "CLFxgb= CLFxgb.fit(X_train.values, Y_Train.values)\n",
        "Y_Pred= CLFxgb.predict(X_Test)\n",
        "Report= classification_report(Y_Test, Y_Pred)\n",
        "print(Report)"
      ],
      "metadata": {
        "colab": {
          "base_uri": "https://localhost:8080/"
        },
        "id": "Tisw0vfgYWVT",
        "outputId": "12076a31-61f8-4847-c1ee-d43a31e9c1c0"
      },
      "execution_count": null,
      "outputs": [
        {
          "output_type": "stream",
          "name": "stdout",
          "text": [
            "              precision    recall  f1-score   support\n",
            "\n",
            "           0       0.93      1.00      0.96        26\n",
            "           1       1.00      0.93      0.96        27\n",
            "\n",
            "    accuracy                           0.96        53\n",
            "   macro avg       0.96      0.96      0.96        53\n",
            "weighted avg       0.96      0.96      0.96        53\n",
            "\n"
          ]
        }
      ]
    },
    {
      "cell_type": "code",
      "source": [
        "import xgboost as xgb\n",
        "CLFxgb = xgb.XGBClassifier()\n",
        "\n",
        "CLFxgb= CLFxgb.fit(X_O_train.values, Y_O_Train.values)\n",
        "Y_O_Pred= CLFxgb.predict(X_O_Test)\n",
        "Report1= classification_report(Y_O_Test, Y_O_Pred)\n",
        "print(Report1)"
      ],
      "metadata": {
        "colab": {
          "base_uri": "https://localhost:8080/"
        },
        "id": "ktjaNTYnz33M",
        "outputId": "6e8d7e4d-097d-48df-e010-98e4c2ced2d9"
      },
      "execution_count": null,
      "outputs": [
        {
          "output_type": "stream",
          "name": "stdout",
          "text": [
            "              precision    recall  f1-score   support\n",
            "\n",
            "           0       1.00      0.94      0.97        31\n",
            "           1       0.94      1.00      0.97        31\n",
            "\n",
            "    accuracy                           0.97        62\n",
            "   macro avg       0.97      0.97      0.97        62\n",
            "weighted avg       0.97      0.97      0.97        62\n",
            "\n"
          ]
        }
      ]
    },
    {
      "cell_type": "code",
      "source": [
        "Y=Data_MLR['PowerFailure']\n",
        "X=Data_MLR[['Rotational speed [rpm]', 'Air temperature [K]',\n",
        "       'Torque [Nm]',\n",
        "        'Type_L', 'Type_M']]"
      ],
      "metadata": {
        "id": "2Q2-TDfNYbFs"
      },
      "execution_count": null,
      "outputs": []
    },
    {
      "cell_type": "code",
      "source": [
        "x_o,y_o = SMOTE().fit_resample(X,Y)"
      ],
      "metadata": {
        "id": "hXryzcj8ZZe7"
      },
      "execution_count": null,
      "outputs": []
    },
    {
      "cell_type": "code",
      "source": [
        "X_train, X_Test, Y_Train, Y_Test= train_test_split(X, Y, test_size=0.2, random_state=0)"
      ],
      "metadata": {
        "id": "zOS5mIGGZgRB"
      },
      "execution_count": null,
      "outputs": []
    },
    {
      "cell_type": "code",
      "source": [
        "X_O_train, X_O_Test, Y_O_Train, Y_O_Test= train_test_split(x_o, y_o, test_size=0.2, random_state=0)"
      ],
      "metadata": {
        "id": "vTFumubW0JEs"
      },
      "execution_count": null,
      "outputs": []
    },
    {
      "cell_type": "code",
      "source": [
        "CLF_MN=MultinomialNB()\n",
        "CLF_MN=CLF_MN.fit(X_train, Y_Train)\n",
        "Y_pred=CLF_MN.predict(X_Test)\n",
        "Report = classification_report(Y_Test, Y_pred)\n",
        "print(Report)"
      ],
      "metadata": {
        "colab": {
          "base_uri": "https://localhost:8080/"
        },
        "id": "LvHfpp8j0Vap",
        "outputId": "dca02102-3c62-4e82-c67b-3b71a0ad8eb6"
      },
      "execution_count": null,
      "outputs": [
        {
          "output_type": "stream",
          "name": "stdout",
          "text": [
            "              precision    recall  f1-score   support\n",
            "\n",
            "           0       0.92      0.98      0.95        49\n",
            "           1       0.00      0.00      0.00         4\n",
            "\n",
            "    accuracy                           0.91        53\n",
            "   macro avg       0.46      0.49      0.48        53\n",
            "weighted avg       0.85      0.91      0.88        53\n",
            "\n"
          ]
        }
      ]
    },
    {
      "cell_type": "code",
      "source": [
        "CLF_MN=MultinomialNB()\n",
        "CLF_MN=CLF_MN.fit(X_O_train, Y_O_Train)\n",
        "Y_O_pred=CLF_MN.predict(X_O_Test)\n",
        "Report2 = classification_report(Y_O_Test, Y_O_pred)\n",
        "print(Report2)"
      ],
      "metadata": {
        "colab": {
          "base_uri": "https://localhost:8080/"
        },
        "id": "7vV2FHG50c0p",
        "outputId": "953dc345-e05e-4906-b85d-454604afc9c4"
      },
      "execution_count": null,
      "outputs": [
        {
          "output_type": "stream",
          "name": "stdout",
          "text": [
            "              precision    recall  f1-score   support\n",
            "\n",
            "           0       0.88      0.84      0.86        44\n",
            "           1       0.87      0.90      0.88        51\n",
            "\n",
            "    accuracy                           0.87        95\n",
            "   macro avg       0.87      0.87      0.87        95\n",
            "weighted avg       0.87      0.87      0.87        95\n",
            "\n"
          ]
        }
      ]
    },
    {
      "cell_type": "code",
      "source": [
        "CLFknn = KNeighborsClassifier(n_neighbors=7)\n",
        "\n",
        "CLFknn= CLFknn.fit(X_train, Y_Train)\n",
        "\n",
        "Y_pred=CLFknn.predict(X_Test)\n",
        "Report = classification_report(Y_Test, Y_pred)\n",
        "print(Report)"
      ],
      "metadata": {
        "colab": {
          "base_uri": "https://localhost:8080/"
        },
        "id": "3gzpQ-qh0gHK",
        "outputId": "3e675f2f-1cd4-42e8-d3e3-034fcd6213a9"
      },
      "execution_count": null,
      "outputs": [
        {
          "output_type": "stream",
          "name": "stdout",
          "text": [
            "              precision    recall  f1-score   support\n",
            "\n",
            "           0       0.98      1.00      0.99        49\n",
            "           1       1.00      0.75      0.86         4\n",
            "\n",
            "    accuracy                           0.98        53\n",
            "   macro avg       0.99      0.88      0.92        53\n",
            "weighted avg       0.98      0.98      0.98        53\n",
            "\n"
          ]
        }
      ]
    },
    {
      "cell_type": "code",
      "source": [
        "CLFknn = KNeighborsClassifier(n_neighbors=7)\n",
        "\n",
        "CLFknn= CLFknn.fit(X_O_train, Y_O_Train)\n",
        "\n",
        "Y_O_pred=CLFknn.predict(X_O_Test)\n",
        "Report1 = classification_report(Y_O_Test, Y_O_pred)\n",
        "print(Report1)"
      ],
      "metadata": {
        "colab": {
          "base_uri": "https://localhost:8080/"
        },
        "id": "wn-GTgdt0kHm",
        "outputId": "93637725-4af8-40d0-af17-12ca3be603e7"
      },
      "execution_count": null,
      "outputs": [
        {
          "output_type": "stream",
          "name": "stdout",
          "text": [
            "              precision    recall  f1-score   support\n",
            "\n",
            "           0       1.00      0.95      0.98        44\n",
            "           1       0.96      1.00      0.98        51\n",
            "\n",
            "    accuracy                           0.98        95\n",
            "   macro avg       0.98      0.98      0.98        95\n",
            "weighted avg       0.98      0.98      0.98        95\n",
            "\n"
          ]
        }
      ]
    },
    {
      "cell_type": "code",
      "source": [
        "clfsvm = SVC(kernel='linear')\n",
        "clfsvm= clfsvm.fit(X_train, Y_Train)\n",
        "Y_Pred= clfsvm.predict(X_Test)\n",
        "Report= classification_report(Y_Test, Y_Pred)\n",
        "print(Report)"
      ],
      "metadata": {
        "colab": {
          "base_uri": "https://localhost:8080/"
        },
        "id": "pSM_jig30l-_",
        "outputId": "08a6bea6-f5bf-4daa-cd4f-24922b6923b3"
      },
      "execution_count": null,
      "outputs": [
        {
          "output_type": "stream",
          "name": "stdout",
          "text": [
            "              precision    recall  f1-score   support\n",
            "\n",
            "           0       1.00      1.00      1.00        49\n",
            "           1       1.00      1.00      1.00         4\n",
            "\n",
            "    accuracy                           1.00        53\n",
            "   macro avg       1.00      1.00      1.00        53\n",
            "weighted avg       1.00      1.00      1.00        53\n",
            "\n"
          ]
        }
      ]
    },
    {
      "cell_type": "code",
      "source": [
        "clfsvm = SVC(kernel='linear')\n",
        "clfsvm= clfsvm.fit(X_O_train, Y_O_Train)\n",
        "\n",
        "Y_O_pred=clfsvm.predict(X_O_Test)\n",
        "Report1 = classification_report(Y_O_Test, Y_O_pred)\n",
        "print(Report1)"
      ],
      "metadata": {
        "colab": {
          "base_uri": "https://localhost:8080/"
        },
        "id": "tFx7RFXu0pAc",
        "outputId": "22a02053-5057-4c48-dc86-47a4823509fc"
      },
      "execution_count": null,
      "outputs": [
        {
          "output_type": "stream",
          "name": "stdout",
          "text": [
            "              precision    recall  f1-score   support\n",
            "\n",
            "           0       1.00      1.00      1.00        44\n",
            "           1       1.00      1.00      1.00        51\n",
            "\n",
            "    accuracy                           1.00        95\n",
            "   macro avg       1.00      1.00      1.00        95\n",
            "weighted avg       1.00      1.00      1.00        95\n",
            "\n"
          ]
        }
      ]
    },
    {
      "cell_type": "code",
      "source": [
        "CLFrfc = RandomForestClassifier(n_estimators = 100)\n",
        "\n",
        "CLFrfc= CLFrfc.fit(X_train, Y_Train)\n",
        "Y_Pred= CLFrfc.predict(X_Test)\n",
        "Report= classification_report(Y_Test, Y_Pred)\n",
        "print(Report)"
      ],
      "metadata": {
        "colab": {
          "base_uri": "https://localhost:8080/"
        },
        "id": "7Emz8KrP01Sq",
        "outputId": "eb8c4fc0-aa5e-44da-c282-ba58360c06a3"
      },
      "execution_count": null,
      "outputs": [
        {
          "output_type": "stream",
          "name": "stdout",
          "text": [
            "              precision    recall  f1-score   support\n",
            "\n",
            "           0       1.00      1.00      1.00        49\n",
            "           1       1.00      1.00      1.00         4\n",
            "\n",
            "    accuracy                           1.00        53\n",
            "   macro avg       1.00      1.00      1.00        53\n",
            "weighted avg       1.00      1.00      1.00        53\n",
            "\n"
          ]
        }
      ]
    },
    {
      "cell_type": "code",
      "source": [
        "CLFrfc = RandomForestClassifier(n_estimators = 100)\n",
        "\n",
        "CLFrfc= CLFrfc.fit(X_O_train, Y_O_Train)\n",
        "Y_O_Pred= CLFrfc.predict(X_O_Test)\n",
        "Report1= classification_report(Y_O_Test, Y_O_Pred)\n",
        "print(Report1)"
      ],
      "metadata": {
        "colab": {
          "base_uri": "https://localhost:8080/"
        },
        "id": "x0YwH-2H03_V",
        "outputId": "c78780ce-5762-4875-8d3a-2254b99eca4d"
      },
      "execution_count": null,
      "outputs": [
        {
          "output_type": "stream",
          "name": "stdout",
          "text": [
            "              precision    recall  f1-score   support\n",
            "\n",
            "           0       1.00      1.00      1.00        44\n",
            "           1       1.00      1.00      1.00        51\n",
            "\n",
            "    accuracy                           1.00        95\n",
            "   macro avg       1.00      1.00      1.00        95\n",
            "weighted avg       1.00      1.00      1.00        95\n",
            "\n"
          ]
        }
      ]
    },
    {
      "cell_type": "code",
      "source": [
        "CLFdt = DecisionTreeClassifier(max_depth =3, random_state = 42)\n",
        "\n",
        "CLFdt= CLFdt.fit(X_train, Y_Train)\n",
        "Y_Pred= CLFdt.predict(X_Test)\n",
        "Report= classification_report(Y_Test, Y_Pred)\n",
        "print(Report)"
      ],
      "metadata": {
        "colab": {
          "base_uri": "https://localhost:8080/"
        },
        "id": "rqeRqdDw1ADs",
        "outputId": "1d5e0088-498b-411a-8483-380a1027de5a"
      },
      "execution_count": null,
      "outputs": [
        {
          "output_type": "stream",
          "name": "stdout",
          "text": [
            "              precision    recall  f1-score   support\n",
            "\n",
            "           0       1.00      0.98      0.99        49\n",
            "           1       0.80      1.00      0.89         4\n",
            "\n",
            "    accuracy                           0.98        53\n",
            "   macro avg       0.90      0.99      0.94        53\n",
            "weighted avg       0.98      0.98      0.98        53\n",
            "\n"
          ]
        }
      ]
    },
    {
      "cell_type": "code",
      "source": [
        "CLFdt = DecisionTreeClassifier(max_depth =3, random_state = 42)\n",
        "\n",
        "CLFdt= CLFdt.fit(X_O_train, Y_O_Train)\n",
        "Y_O_Pred= CLFdt.predict(X_O_Test)\n",
        "Report1= classification_report(Y_O_Test, Y_O_Pred)\n",
        "print(Report1)"
      ],
      "metadata": {
        "colab": {
          "base_uri": "https://localhost:8080/"
        },
        "id": "unLsbKgu1M-y",
        "outputId": "2e064718-1e85-4986-a535-c1b2a7467446"
      },
      "execution_count": null,
      "outputs": [
        {
          "output_type": "stream",
          "name": "stdout",
          "text": [
            "              precision    recall  f1-score   support\n",
            "\n",
            "           0       1.00      0.95      0.98        44\n",
            "           1       0.96      1.00      0.98        51\n",
            "\n",
            "    accuracy                           0.98        95\n",
            "   macro avg       0.98      0.98      0.98        95\n",
            "weighted avg       0.98      0.98      0.98        95\n",
            "\n"
          ]
        }
      ]
    },
    {
      "cell_type": "code",
      "source": [
        "CLFxgb = xgb.XGBClassifier()\n",
        "\n",
        "CLFxgb= CLFxgb.fit(X_train.values, Y_Train.values)\n",
        "Y_Pred= CLFxgb.predict(X_Test)\n",
        "Report= classification_report(Y_Test, Y_Pred)\n",
        "print(Report)"
      ],
      "metadata": {
        "colab": {
          "base_uri": "https://localhost:8080/"
        },
        "id": "inKgqhOW1QK2",
        "outputId": "a6d91430-3b77-477b-ec68-62a1b51329cf"
      },
      "execution_count": null,
      "outputs": [
        {
          "output_type": "stream",
          "name": "stdout",
          "text": [
            "              precision    recall  f1-score   support\n",
            "\n",
            "           0       1.00      1.00      1.00        49\n",
            "           1       1.00      1.00      1.00         4\n",
            "\n",
            "    accuracy                           1.00        53\n",
            "   macro avg       1.00      1.00      1.00        53\n",
            "weighted avg       1.00      1.00      1.00        53\n",
            "\n"
          ]
        }
      ]
    },
    {
      "cell_type": "code",
      "source": [
        "CLFxgb = xgb.XGBClassifier()\n",
        "\n",
        "CLFxgb= CLFxgb.fit(X_O_train.values, Y_O_Train.values)\n",
        "Y_O_Pred= CLFxgb.predict(X_O_Test)\n",
        "Report1= classification_report(Y_O_Test, Y_O_Pred)\n",
        "print(Report1)"
      ],
      "metadata": {
        "colab": {
          "base_uri": "https://localhost:8080/"
        },
        "id": "S6hOYa3K1VxJ",
        "outputId": "9fc7e7c7-1b53-4542-9ea2-f42d6eaf054b"
      },
      "execution_count": null,
      "outputs": [
        {
          "output_type": "stream",
          "name": "stdout",
          "text": [
            "              precision    recall  f1-score   support\n",
            "\n",
            "           0       1.00      1.00      1.00        44\n",
            "           1       1.00      1.00      1.00        51\n",
            "\n",
            "    accuracy                           1.00        95\n",
            "   macro avg       1.00      1.00      1.00        95\n",
            "weighted avg       1.00      1.00      1.00        95\n",
            "\n"
          ]
        }
      ]
    },
    {
      "cell_type": "code",
      "source": [
        "Y=Data_MLR['OverstrainFailure']\n",
        "X=Data_MLR[['Rotational speed [rpm]', 'Tool wear [min]',\n",
        "       'Torque [Nm]',\n",
        "        'Type_L', 'Type_M']]"
      ],
      "metadata": {
        "id": "EA1Q3euf3qIo"
      },
      "execution_count": null,
      "outputs": []
    },
    {
      "cell_type": "code",
      "source": [
        "x_o,y_o = SMOTE().fit_resample(X,Y)\n"
      ],
      "metadata": {
        "id": "bAMJ1WSf4xFN"
      },
      "execution_count": null,
      "outputs": []
    },
    {
      "cell_type": "code",
      "source": [
        "X_train, X_Test, Y_Train, Y_Test= train_test_split(X, Y, test_size=0.2, random_state=0)"
      ],
      "metadata": {
        "id": "RyCSnTYJ43dE"
      },
      "execution_count": null,
      "outputs": []
    },
    {
      "cell_type": "code",
      "source": [
        "X_O_train, X_O_Test, Y_O_Train, Y_O_Test= train_test_split(x_o, y_o, test_size=0.2, random_state=0)"
      ],
      "metadata": {
        "id": "dnUB0Btn43dF"
      },
      "execution_count": null,
      "outputs": []
    },
    {
      "cell_type": "code",
      "source": [
        "CLF_MN=MultinomialNB()\n",
        "CLF_MN=CLF_MN.fit(X_train, Y_Train)\n",
        "Y_pred=CLF_MN.predict(X_Test)\n",
        "Report = classification_report(Y_Test, Y_pred)\n",
        "print(Report)"
      ],
      "metadata": {
        "colab": {
          "base_uri": "https://localhost:8080/"
        },
        "id": "zGB7oo5M5IaX",
        "outputId": "bf473005-ca91-429f-b4a8-b1b65b23c790"
      },
      "execution_count": null,
      "outputs": [
        {
          "output_type": "stream",
          "name": "stdout",
          "text": [
            "              precision    recall  f1-score   support\n",
            "\n",
            "           0       1.00      0.76      0.87        38\n",
            "           1       0.62      1.00      0.77        15\n",
            "\n",
            "    accuracy                           0.83        53\n",
            "   macro avg       0.81      0.88      0.82        53\n",
            "weighted avg       0.89      0.83      0.84        53\n",
            "\n"
          ]
        }
      ]
    },
    {
      "cell_type": "code",
      "source": [
        "CLF_MN=MultinomialNB()\n",
        "CLF_MN=CLF_MN.fit(X_O_train, Y_O_Train)\n",
        "Y_O_pred=CLF_MN.predict(X_O_Test)\n",
        "Report2 = classification_report(Y_O_Test, Y_O_pred)\n",
        "print(Report2)"
      ],
      "metadata": {
        "colab": {
          "base_uri": "https://localhost:8080/"
        },
        "id": "Xl61T9sI5_C-",
        "outputId": "d44dcc7f-0231-43a8-ffbe-b53a8f9a6fc6"
      },
      "execution_count": null,
      "outputs": [
        {
          "output_type": "stream",
          "name": "stdout",
          "text": [
            "              precision    recall  f1-score   support\n",
            "\n",
            "           0       1.00      0.82      0.90        38\n",
            "           1       0.82      1.00      0.90        32\n",
            "\n",
            "    accuracy                           0.90        70\n",
            "   macro avg       0.91      0.91      0.90        70\n",
            "weighted avg       0.92      0.90      0.90        70\n",
            "\n"
          ]
        }
      ]
    },
    {
      "cell_type": "code",
      "source": [
        "CLFknn = KNeighborsClassifier(n_neighbors=7)\n",
        "\n",
        "CLFknn= CLFknn.fit(X_train, Y_Train)\n",
        "\n",
        "Y_pred=CLFknn.predict(X_Test)\n",
        "Report = classification_report(Y_Test, Y_pred)\n",
        "print(Report)"
      ],
      "metadata": {
        "colab": {
          "base_uri": "https://localhost:8080/"
        },
        "id": "VxPRaVja5Rc_",
        "outputId": "6c6b895c-4107-47a5-fa1d-517480b0b053"
      },
      "execution_count": null,
      "outputs": [
        {
          "output_type": "stream",
          "name": "stdout",
          "text": [
            "              precision    recall  f1-score   support\n",
            "\n",
            "           0       0.95      0.95      0.95        38\n",
            "           1       0.87      0.87      0.87        15\n",
            "\n",
            "    accuracy                           0.92        53\n",
            "   macro avg       0.91      0.91      0.91        53\n",
            "weighted avg       0.92      0.92      0.92        53\n",
            "\n"
          ]
        }
      ]
    },
    {
      "cell_type": "code",
      "source": [
        "CLFknn = KNeighborsClassifier(n_neighbors=7)\n",
        "\n",
        "CLFknn= CLFknn.fit(X_O_train, Y_O_Train)\n",
        "\n",
        "Y_O_pred=CLFknn.predict(X_O_Test)\n",
        "Report1 = classification_report(Y_O_Test, Y_O_pred)\n",
        "print(Report1)"
      ],
      "metadata": {
        "colab": {
          "base_uri": "https://localhost:8080/"
        },
        "id": "WJ1YfL9J5wXA",
        "outputId": "ac29ee55-787d-40d6-a33a-ad080dc5127a"
      },
      "execution_count": null,
      "outputs": [
        {
          "output_type": "stream",
          "name": "stdout",
          "text": [
            "              precision    recall  f1-score   support\n",
            "\n",
            "           0       0.92      0.95      0.94        38\n",
            "           1       0.94      0.91      0.92        32\n",
            "\n",
            "    accuracy                           0.93        70\n",
            "   macro avg       0.93      0.93      0.93        70\n",
            "weighted avg       0.93      0.93      0.93        70\n",
            "\n"
          ]
        }
      ]
    },
    {
      "cell_type": "code",
      "source": [
        "clfsvm = SVC(kernel='linear')\n",
        "clfsvm= clfsvm.fit(X_train, Y_Train)\n",
        "Y_Pred= clfsvm.predict(X_Test)\n",
        "Report= classification_report(Y_Test, Y_Pred)\n",
        "print(Report)"
      ],
      "metadata": {
        "colab": {
          "base_uri": "https://localhost:8080/"
        },
        "id": "2bScrRnn5RiP",
        "outputId": "77a3cde1-3df8-44e4-b77f-1be45626ed85"
      },
      "execution_count": null,
      "outputs": [
        {
          "output_type": "stream",
          "name": "stdout",
          "text": [
            "              precision    recall  f1-score   support\n",
            "\n",
            "           0       1.00      1.00      1.00        38\n",
            "           1       1.00      1.00      1.00        15\n",
            "\n",
            "    accuracy                           1.00        53\n",
            "   macro avg       1.00      1.00      1.00        53\n",
            "weighted avg       1.00      1.00      1.00        53\n",
            "\n"
          ]
        }
      ]
    },
    {
      "cell_type": "code",
      "source": [
        "clfsvm = SVC(kernel='linear')\n",
        "clfsvm= clfsvm.fit(X_O_train, Y_O_Train)\n",
        "\n",
        "Y_O_pred=clfsvm.predict(X_O_Test)\n",
        "Report1 = classification_report(Y_O_Test, Y_O_pred)\n",
        "print(Report1)"
      ],
      "metadata": {
        "colab": {
          "base_uri": "https://localhost:8080/"
        },
        "id": "RSzso_Fd5w2r",
        "outputId": "d41c8f1e-e8b8-4f70-89be-b11fb2987b6f"
      },
      "execution_count": null,
      "outputs": [
        {
          "output_type": "stream",
          "name": "stdout",
          "text": [
            "              precision    recall  f1-score   support\n",
            "\n",
            "           0       0.97      1.00      0.99        38\n",
            "           1       1.00      0.97      0.98        32\n",
            "\n",
            "    accuracy                           0.99        70\n",
            "   macro avg       0.99      0.98      0.99        70\n",
            "weighted avg       0.99      0.99      0.99        70\n",
            "\n"
          ]
        }
      ]
    },
    {
      "cell_type": "code",
      "source": [
        "CLFrfc = RandomForestClassifier(n_estimators = 100)\n",
        "\n",
        "CLFrfc= CLFrfc.fit(X_train, Y_Train)\n",
        "Y_Pred= CLFrfc.predict(X_Test)\n",
        "Report= classification_report(Y_Test, Y_Pred)\n",
        "print(Report)"
      ],
      "metadata": {
        "colab": {
          "base_uri": "https://localhost:8080/"
        },
        "id": "NgLOfsrb5Ros",
        "outputId": "aafa9743-ed43-4cb0-ede9-945f43506de7"
      },
      "execution_count": null,
      "outputs": [
        {
          "output_type": "stream",
          "name": "stdout",
          "text": [
            "              precision    recall  f1-score   support\n",
            "\n",
            "           0       1.00      0.97      0.99        38\n",
            "           1       0.94      1.00      0.97        15\n",
            "\n",
            "    accuracy                           0.98        53\n",
            "   macro avg       0.97      0.99      0.98        53\n",
            "weighted avg       0.98      0.98      0.98        53\n",
            "\n"
          ]
        }
      ]
    },
    {
      "cell_type": "code",
      "source": [
        "CLFrfc = RandomForestClassifier(n_estimators = 100)\n",
        "\n",
        "CLFrfc= CLFrfc.fit(X_O_train, Y_O_Train)\n",
        "Y_O_Pred= CLFrfc.predict(X_O_Test)\n",
        "Report1= classification_report(Y_O_Test, Y_O_Pred)\n",
        "print(Report1)"
      ],
      "metadata": {
        "colab": {
          "base_uri": "https://localhost:8080/"
        },
        "id": "074czYSt5xbM",
        "outputId": "e1d1220d-0331-433d-e32d-69b76d1e1d43"
      },
      "execution_count": null,
      "outputs": [
        {
          "output_type": "stream",
          "name": "stdout",
          "text": [
            "              precision    recall  f1-score   support\n",
            "\n",
            "           0       1.00      0.97      0.99        38\n",
            "           1       0.97      1.00      0.98        32\n",
            "\n",
            "    accuracy                           0.99        70\n",
            "   macro avg       0.98      0.99      0.99        70\n",
            "weighted avg       0.99      0.99      0.99        70\n",
            "\n"
          ]
        }
      ]
    },
    {
      "cell_type": "code",
      "source": [],
      "metadata": {
        "id": "TyHlYAYB8yK5"
      },
      "execution_count": null,
      "outputs": []
    },
    {
      "cell_type": "code",
      "source": [
        "CLFdt = DecisionTreeClassifier(max_depth =3, random_state = 42)\n",
        "\n",
        "CLFdt= CLFdt.fit(X_train, Y_Train)\n",
        "Y_Pred= CLFdt.predict(X_Test)\n",
        "Report= classification_report(Y_Test, Y_Pred)\n",
        "print(Report)"
      ],
      "metadata": {
        "colab": {
          "base_uri": "https://localhost:8080/"
        },
        "outputId": "6b504b20-acbc-4df8-d718-79d6350308ec",
        "id": "OoyRC5RI8_FX"
      },
      "execution_count": null,
      "outputs": [
        {
          "output_type": "stream",
          "name": "stdout",
          "text": [
            "              precision    recall  f1-score   support\n",
            "\n",
            "           0       1.00      0.95      0.97        38\n",
            "           1       0.88      1.00      0.94        15\n",
            "\n",
            "    accuracy                           0.96        53\n",
            "   macro avg       0.94      0.97      0.96        53\n",
            "weighted avg       0.97      0.96      0.96        53\n",
            "\n"
          ]
        }
      ]
    },
    {
      "cell_type": "code",
      "source": [
        "CLFdt = DecisionTreeClassifier(max_depth =3, random_state = 42)\n",
        "\n",
        "CLFdt= CLFdt.fit(X_O_train, Y_O_Train)\n",
        "Y_O_Pred= CLFdt.predict(X_O_Test)\n",
        "Report1= classification_report(Y_O_Test, Y_O_Pred)\n",
        "print(Report1)"
      ],
      "metadata": {
        "colab": {
          "base_uri": "https://localhost:8080/"
        },
        "outputId": "30507215-749e-44fa-f1ef-8edeaee0e053",
        "id": "yc-VCSqB8_FY"
      },
      "execution_count": null,
      "outputs": [
        {
          "output_type": "stream",
          "name": "stdout",
          "text": [
            "              precision    recall  f1-score   support\n",
            "\n",
            "           0       1.00      0.95      0.97        38\n",
            "           1       0.94      1.00      0.97        32\n",
            "\n",
            "    accuracy                           0.97        70\n",
            "   macro avg       0.97      0.97      0.97        70\n",
            "weighted avg       0.97      0.97      0.97        70\n",
            "\n"
          ]
        }
      ]
    },
    {
      "cell_type": "code",
      "source": [
        "CLFxgb = xgb.XGBClassifier()\n",
        "\n",
        "CLFxgb= CLFxgb.fit(X_train.values, Y_Train.values)\n",
        "Y_Pred= CLFxgb.predict(X_Test)\n",
        "Report= classification_report(Y_Test, Y_Pred)\n",
        "print(Report)"
      ],
      "metadata": {
        "colab": {
          "base_uri": "https://localhost:8080/"
        },
        "outputId": "4c11df0d-9dcf-4299-b51f-0e2172e09310",
        "id": "ZeWHBSqU8_FY"
      },
      "execution_count": null,
      "outputs": [
        {
          "output_type": "stream",
          "name": "stdout",
          "text": [
            "              precision    recall  f1-score   support\n",
            "\n",
            "           0       1.00      0.97      0.99        38\n",
            "           1       0.94      1.00      0.97        15\n",
            "\n",
            "    accuracy                           0.98        53\n",
            "   macro avg       0.97      0.99      0.98        53\n",
            "weighted avg       0.98      0.98      0.98        53\n",
            "\n"
          ]
        }
      ]
    },
    {
      "cell_type": "code",
      "source": [
        "CLFxgb = xgb.XGBClassifier()\n",
        "\n",
        "CLFxgb= CLFxgb.fit(X_O_train.values, Y_O_Train.values)\n",
        "Y_O_Pred= CLFxgb.predict(X_O_Test)\n",
        "Report1= classification_report(Y_O_Test, Y_O_Pred)\n",
        "print(Report1)"
      ],
      "metadata": {
        "colab": {
          "base_uri": "https://localhost:8080/"
        },
        "outputId": "cc5f802a-ef99-48b5-9480-4cd0679c17cb",
        "id": "midv1nXf8_FZ"
      },
      "execution_count": null,
      "outputs": [
        {
          "output_type": "stream",
          "name": "stdout",
          "text": [
            "              precision    recall  f1-score   support\n",
            "\n",
            "           0       1.00      0.97      0.99        38\n",
            "           1       0.97      1.00      0.98        32\n",
            "\n",
            "    accuracy                           0.99        70\n",
            "   macro avg       0.98      0.99      0.99        70\n",
            "weighted avg       0.99      0.99      0.99        70\n",
            "\n"
          ]
        }
      ]
    },
    {
      "cell_type": "code",
      "source": [
        "Y=Data_MLR['RandomFailure']\n",
        "X=Data_MLR[['Process temperature [K]', 'Rotational speed [rpm]', 'Torque [Nm]',\n",
        "       'Tool wear [min]','Type_L', 'Type_M']]"
      ],
      "metadata": {
        "id": "7B5TLKTb9NmI"
      },
      "execution_count": null,
      "outputs": []
    },
    {
      "cell_type": "code",
      "source": [
        "Data_MLR.RandomFailure.value_counts()"
      ],
      "metadata": {
        "colab": {
          "base_uri": "https://localhost:8080/"
        },
        "id": "tmQ4eAJG_Pza",
        "outputId": "94d575d0-6663-4b79-926b-b20fbbc35fff"
      },
      "execution_count": null,
      "outputs": [
        {
          "output_type": "execute_result",
          "data": {
            "text/plain": [
              "0    262\n",
              "1      1\n",
              "Name: RandomFailure, dtype: int64"
            ]
          },
          "metadata": {},
          "execution_count": 202
        }
      ]
    },
    {
      "cell_type": "code",
      "source": [
        "from imblearn.under_sampling import RandomUnderSampler\n",
        "x_u, y_u= RandomUnderSampler().fit_resample(X,Y)"
      ],
      "metadata": {
        "id": "q7Mnf8KT_iXk"
      },
      "execution_count": null,
      "outputs": []
    },
    {
      "cell_type": "code",
      "source": [
        "X_train, X_Test, Y_Train, Y_Test= train_test_split(X, Y, test_size=0.2, random_state=0)"
      ],
      "metadata": {
        "id": "1GUBNtNg9NmJ"
      },
      "execution_count": null,
      "outputs": []
    },
    {
      "cell_type": "code",
      "source": [
        "X_O_train, X_O_Test, Y_O_Train, Y_O_Test= train_test_split(x_u, y_u, test_size=0.2, random_state=0)# we are using undersampling data here"
      ],
      "metadata": {
        "id": "8I1oa8-K9NmJ"
      },
      "execution_count": null,
      "outputs": []
    },
    {
      "cell_type": "code",
      "source": [
        "CLF_MN=MultinomialNB()\n",
        "CLF_MN=CLF_MN.fit(X_train, Y_Train)\n",
        "Y_pred=CLF_MN.predict(X_Test)\n",
        "Report = classification_report(Y_Test, Y_pred)\n",
        "print(Report)"
      ],
      "metadata": {
        "colab": {
          "base_uri": "https://localhost:8080/"
        },
        "outputId": "7a440ced-5dc3-4ba5-8fb5-d5f6a67a6f37",
        "id": "jUVJyn5w9NmJ"
      },
      "execution_count": null,
      "outputs": [
        {
          "output_type": "stream",
          "name": "stdout",
          "text": [
            "              precision    recall  f1-score   support\n",
            "\n",
            "           0       1.00      0.68      0.81        53\n",
            "           1       0.00      0.00      0.00         0\n",
            "\n",
            "    accuracy                           0.68        53\n",
            "   macro avg       0.50      0.34      0.40        53\n",
            "weighted avg       1.00      0.68      0.81        53\n",
            "\n"
          ]
        },
        {
          "output_type": "stream",
          "name": "stderr",
          "text": [
            "/usr/local/lib/python3.10/dist-packages/sklearn/metrics/_classification.py:1344: UndefinedMetricWarning: Recall and F-score are ill-defined and being set to 0.0 in labels with no true samples. Use `zero_division` parameter to control this behavior.\n",
            "  _warn_prf(average, modifier, msg_start, len(result))\n",
            "/usr/local/lib/python3.10/dist-packages/sklearn/metrics/_classification.py:1344: UndefinedMetricWarning: Recall and F-score are ill-defined and being set to 0.0 in labels with no true samples. Use `zero_division` parameter to control this behavior.\n",
            "  _warn_prf(average, modifier, msg_start, len(result))\n",
            "/usr/local/lib/python3.10/dist-packages/sklearn/metrics/_classification.py:1344: UndefinedMetricWarning: Recall and F-score are ill-defined and being set to 0.0 in labels with no true samples. Use `zero_division` parameter to control this behavior.\n",
            "  _warn_prf(average, modifier, msg_start, len(result))\n"
          ]
        }
      ]
    },
    {
      "cell_type": "code",
      "source": [
        "CLF_MN=MultinomialNB()\n",
        "CLF_MN=CLF_MN.fit(X_O_train, Y_O_Train)\n",
        "Y_O_pred=CLF_MN.predict(X_O_Test)\n",
        "Report2 = classification_report(Y_O_Test, Y_O_pred)\n",
        "print(Report2)"
      ],
      "metadata": {
        "colab": {
          "base_uri": "https://localhost:8080/"
        },
        "outputId": "4c27ccc9-533a-47a1-99a5-09c7771d3b17",
        "id": "DOriO2WR9NmJ"
      },
      "execution_count": null,
      "outputs": [
        {
          "output_type": "stream",
          "name": "stdout",
          "text": [
            "              precision    recall  f1-score   support\n",
            "\n",
            "           0       0.74      0.84      0.79        31\n",
            "           1       0.81      0.71      0.76        31\n",
            "\n",
            "    accuracy                           0.77        62\n",
            "   macro avg       0.78      0.77      0.77        62\n",
            "weighted avg       0.78      0.77      0.77        62\n",
            "\n"
          ]
        }
      ]
    },
    {
      "cell_type": "code",
      "source": [
        "CLFknn = KNeighborsClassifier(n_neighbors=7)\n",
        "\n",
        "CLFknn= CLFknn.fit(X_train, Y_Train)\n",
        "\n",
        "Y_pred=CLFknn.predict(X_Test)\n",
        "Report = classification_report(Y_Test, Y_pred)\n",
        "print(Report)"
      ],
      "metadata": {
        "colab": {
          "base_uri": "https://localhost:8080/"
        },
        "outputId": "28cbfea4-91b6-46ec-c2e6-63805c834f8e",
        "id": "I1q8DTp19NmJ"
      },
      "execution_count": null,
      "outputs": [
        {
          "output_type": "stream",
          "name": "stdout",
          "text": [
            "              precision    recall  f1-score   support\n",
            "\n",
            "           0       1.00      1.00      1.00        53\n",
            "\n",
            "    accuracy                           1.00        53\n",
            "   macro avg       1.00      1.00      1.00        53\n",
            "weighted avg       1.00      1.00      1.00        53\n",
            "\n"
          ]
        }
      ]
    },
    {
      "cell_type": "code",
      "source": [
        "CLFknn = KNeighborsClassifier(n_neighbors=1)\n",
        "\n",
        "CLFknn= CLFknn.fit(X_O_train, Y_O_Train)\n",
        "\n",
        "Y_O_pred=CLFknn.predict(X_O_Test)\n",
        "Report1 = classification_report(Y_O_Test, Y_O_pred)\n",
        "print(Report1)"
      ],
      "metadata": {
        "colab": {
          "base_uri": "https://localhost:8080/"
        },
        "outputId": "2358062c-2d8a-4caa-abd1-4de99b8b3f7c",
        "id": "a0F1VxSY9NmJ"
      },
      "execution_count": null,
      "outputs": [
        {
          "output_type": "stream",
          "name": "stdout",
          "text": [
            "              precision    recall  f1-score   support\n",
            "\n",
            "           0       0.88      0.94      0.91        31\n",
            "           1       0.93      0.87      0.90        31\n",
            "\n",
            "    accuracy                           0.90        62\n",
            "   macro avg       0.90      0.90      0.90        62\n",
            "weighted avg       0.90      0.90      0.90        62\n",
            "\n"
          ]
        }
      ]
    },
    {
      "cell_type": "code",
      "source": [
        "clfsvm = SVC(kernel='linear')\n",
        "clfsvm= clfsvm.fit(X_train, Y_Train)\n",
        "Y_Pred= clfsvm.predict(X_Test)\n",
        "Report= classification_report(Y_Test, Y_Pred)\n",
        "print(Report)"
      ],
      "metadata": {
        "colab": {
          "base_uri": "https://localhost:8080/"
        },
        "outputId": "ba338790-dee0-4a4b-fc86-e51cb45c4674",
        "id": "2PTgVzUi9NmJ"
      },
      "execution_count": null,
      "outputs": [
        {
          "output_type": "stream",
          "name": "stdout",
          "text": [
            "              precision    recall  f1-score   support\n",
            "\n",
            "           0       1.00      1.00      1.00        53\n",
            "\n",
            "    accuracy                           1.00        53\n",
            "   macro avg       1.00      1.00      1.00        53\n",
            "weighted avg       1.00      1.00      1.00        53\n",
            "\n"
          ]
        }
      ]
    },
    {
      "cell_type": "code",
      "source": [
        "clfsvm = SVC(kernel='linear')\n",
        "clfsvm= clfsvm.fit(X_O_train, Y_O_Train)\n",
        "\n",
        "Y_O_pred=clfsvm.predict(X_O_Test)\n",
        "Report1 = classification_report(Y_O_Test, Y_O_pred)\n",
        "print(Report1)"
      ],
      "metadata": {
        "colab": {
          "base_uri": "https://localhost:8080/"
        },
        "outputId": "ff1d3e25-be69-4846-f459-f4cef37dfb51",
        "id": "dtYZy3ly9NmJ"
      },
      "execution_count": null,
      "outputs": [
        {
          "output_type": "stream",
          "name": "stdout",
          "text": [
            "              precision    recall  f1-score   support\n",
            "\n",
            "           0       1.00      0.94      0.97        31\n",
            "           1       0.94      1.00      0.97        31\n",
            "\n",
            "    accuracy                           0.97        62\n",
            "   macro avg       0.97      0.97      0.97        62\n",
            "weighted avg       0.97      0.97      0.97        62\n",
            "\n"
          ]
        }
      ]
    },
    {
      "cell_type": "code",
      "source": [
        "CLFrfc = RandomForestClassifier(n_estimators = 100)\n",
        "\n",
        "CLFrfc= CLFrfc.fit(X_train, Y_Train)\n",
        "Y_Pred= CLFrfc.predict(X_Test)\n",
        "Report= classification_report(Y_Test, Y_Pred)\n",
        "print(Report)"
      ],
      "metadata": {
        "id": "rwq5Cf0m9NmK",
        "colab": {
          "base_uri": "https://localhost:8080/"
        },
        "outputId": "29e0a068-17f2-4055-99f3-647ac34ff728"
      },
      "execution_count": null,
      "outputs": [
        {
          "output_type": "stream",
          "name": "stdout",
          "text": [
            "              precision    recall  f1-score   support\n",
            "\n",
            "           0       0.93      1.00      0.96        26\n",
            "           1       1.00      0.93      0.96        27\n",
            "\n",
            "    accuracy                           0.96        53\n",
            "   macro avg       0.96      0.96      0.96        53\n",
            "weighted avg       0.96      0.96      0.96        53\n",
            "\n"
          ]
        }
      ]
    },
    {
      "cell_type": "code",
      "source": [
        "CLFrfc = RandomForestClassifier(n_estimators = 100)\n",
        "\n",
        "CLFrfc= CLFrfc.fit(X_O_train, Y_O_Train)\n",
        "Y_O_Pred= CLFrfc.predict(X_O_Test)\n",
        "Report1= classification_report(Y_O_Test, Y_O_Pred)\n",
        "print(Report1)"
      ],
      "metadata": {
        "id": "ln-Bwb9l9NmK",
        "colab": {
          "base_uri": "https://localhost:8080/"
        },
        "outputId": "0012e557-47cc-44e2-8937-6afa262c1a63"
      },
      "execution_count": null,
      "outputs": [
        {
          "output_type": "stream",
          "name": "stdout",
          "text": [
            "              precision    recall  f1-score   support\n",
            "\n",
            "           0       1.00      1.00      1.00        31\n",
            "           1       1.00      1.00      1.00        31\n",
            "\n",
            "    accuracy                           1.00        62\n",
            "   macro avg       1.00      1.00      1.00        62\n",
            "weighted avg       1.00      1.00      1.00        62\n",
            "\n"
          ]
        }
      ]
    },
    {
      "cell_type": "code",
      "source": [],
      "metadata": {
        "id": "A0-DA__K9NmK"
      },
      "execution_count": null,
      "outputs": []
    },
    {
      "cell_type": "code",
      "source": [
        "CLFdt = DecisionTreeClassifier(max_depth =3, random_state = 42)\n",
        "\n",
        "CLFdt= CLFdt.fit(X_train, Y_Train)\n",
        "Y_Pred= CLFdt.predict(X_Test)\n",
        "Report= classification_report(Y_Test, Y_Pred)\n",
        "print(Report)"
      ],
      "metadata": {
        "id": "aqzNg_C49NmK",
        "colab": {
          "base_uri": "https://localhost:8080/"
        },
        "outputId": "0e5e45d2-cf1e-4ad0-d7a7-772e78d5584a"
      },
      "execution_count": null,
      "outputs": [
        {
          "output_type": "stream",
          "name": "stdout",
          "text": [
            "              precision    recall  f1-score   support\n",
            "\n",
            "           0       0.96      0.92      0.94        26\n",
            "           1       0.93      0.96      0.95        27\n",
            "\n",
            "    accuracy                           0.94        53\n",
            "   macro avg       0.94      0.94      0.94        53\n",
            "weighted avg       0.94      0.94      0.94        53\n",
            "\n"
          ]
        }
      ]
    },
    {
      "cell_type": "code",
      "source": [
        "CLFdt = DecisionTreeClassifier(max_depth =3, random_state = 42)\n",
        "\n",
        "CLFdt= CLFdt.fit(X_O_train, Y_O_Train)\n",
        "Y_O_Pred= CLFdt.predict(X_O_Test)\n",
        "Report1= classification_report(Y_O_Test, Y_O_Pred)\n",
        "print(Report1)"
      ],
      "metadata": {
        "id": "h0EcoIUZ9NmK",
        "colab": {
          "base_uri": "https://localhost:8080/"
        },
        "outputId": "e3d0a583-64b8-49d5-bbe7-4090510c6814"
      },
      "execution_count": null,
      "outputs": [
        {
          "output_type": "stream",
          "name": "stdout",
          "text": [
            "              precision    recall  f1-score   support\n",
            "\n",
            "           0       0.91      0.94      0.92        31\n",
            "           1       0.93      0.90      0.92        31\n",
            "\n",
            "    accuracy                           0.92        62\n",
            "   macro avg       0.92      0.92      0.92        62\n",
            "weighted avg       0.92      0.92      0.92        62\n",
            "\n"
          ]
        }
      ]
    },
    {
      "cell_type": "code",
      "source": [
        "CLFxgb = xgb.XGBClassifier()\n",
        "\n",
        "CLFxgb= CLFxgb.fit(X_train.values, Y_Train.values)\n",
        "Y_Pred= CLFxgb.predict(X_Test)\n",
        "Report= classification_report(Y_Test, Y_Pred)\n",
        "print(Report)"
      ],
      "metadata": {
        "id": "nqpJgyol9NmK",
        "colab": {
          "base_uri": "https://localhost:8080/"
        },
        "outputId": "6bc1560b-aeec-4757-e011-d524b1ddc791"
      },
      "execution_count": null,
      "outputs": [
        {
          "output_type": "stream",
          "name": "stdout",
          "text": [
            "              precision    recall  f1-score   support\n",
            "\n",
            "           0       0.93      1.00      0.96        26\n",
            "           1       1.00      0.93      0.96        27\n",
            "\n",
            "    accuracy                           0.96        53\n",
            "   macro avg       0.96      0.96      0.96        53\n",
            "weighted avg       0.96      0.96      0.96        53\n",
            "\n"
          ]
        }
      ]
    },
    {
      "cell_type": "code",
      "source": [
        "CLFxgb = xgb.XGBClassifier()\n",
        "\n",
        "CLFxgb= CLFxgb.fit(X_O_train.values, Y_O_Train.values)\n",
        "Y_O_Pred= CLFxgb.predict(X_O_Test)\n",
        "Report1= classification_report(Y_O_Test, Y_O_Pred)\n",
        "print(Report1)"
      ],
      "metadata": {
        "id": "pcBEV2g69NmK",
        "colab": {
          "base_uri": "https://localhost:8080/"
        },
        "outputId": "0fffaeb9-a2d0-4c09-a3b0-f0b2eab1c96e"
      },
      "execution_count": null,
      "outputs": [
        {
          "output_type": "stream",
          "name": "stdout",
          "text": [
            "              precision    recall  f1-score   support\n",
            "\n",
            "           0       1.00      0.94      0.97        31\n",
            "           1       0.94      1.00      0.97        31\n",
            "\n",
            "    accuracy                           0.97        62\n",
            "   macro avg       0.97      0.97      0.97        62\n",
            "weighted avg       0.97      0.97      0.97        62\n",
            "\n"
          ]
        }
      ]
    },
    {
      "cell_type": "code",
      "source": [
        "Conclusion\n",
        "After analyzing the classification reports, it is evident that all the classifiers, including K-NN, Decision Tree, Logistic Regression, Random Forest, and MultinomialNB, exhibit identical performance metrics. Each of them achieves a perfect score of 1.00 in accuracy, precision, recall, and f1-score, representing the highest attainable values for these metrics.\n",
        "\n",
        "This compelling evidence strongly indicates that these classifiers are performing at the highest level of excellence on the given dataset."
      ],
      "metadata": {
        "id": "TKIv3D_bXc4_"
      },
      "execution_count": null,
      "outputs": []
    }
  ]
}