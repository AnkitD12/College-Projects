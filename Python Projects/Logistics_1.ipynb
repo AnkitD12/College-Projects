{
  "nbformat": 4,
  "nbformat_minor": 0,
  "metadata": {
    "colab": {
      "provenance": []
    },
    "kernelspec": {
      "name": "python3",
      "display_name": "Python 3"
    },
    "language_info": {
      "name": "python"
    }
  },
  "cells": [
    {
      "cell_type": "code",
      "execution_count": null,
      "metadata": {
        "colab": {
          "base_uri": "https://localhost:8080/"
        },
        "id": "xnEQjj1FMsj4",
        "outputId": "6b873ea8-e8f8-4bb8-e8f3-7fda7d39cf87"
      },
      "outputs": [
        {
          "output_type": "stream",
          "name": "stdout",
          "text": [
            "Requirement already satisfied: gurobipy in /usr/local/lib/python3.10/dist-packages (10.0.2)\n",
            "Collecting ortools\n",
            "  Downloading ortools-9.7.2996-cp310-cp310-manylinux_2_17_x86_64.manylinux2014_x86_64.whl (21.1 MB)\n",
            "\u001b[2K     \u001b[90m━━━━━━━━━━━━━━━━━━━━━━━━━━━━━━━━━━━━━━━━\u001b[0m \u001b[32m21.1/21.1 MB\u001b[0m \u001b[31m38.8 MB/s\u001b[0m eta \u001b[36m0:00:00\u001b[0m\n",
            "\u001b[?25hRequirement already satisfied: absl-py>=0.13 in /usr/local/lib/python3.10/dist-packages (from ortools) (1.4.0)\n",
            "Requirement already satisfied: numpy>=1.13.3 in /usr/local/lib/python3.10/dist-packages (from ortools) (1.23.5)\n",
            "Collecting protobuf>=4.23.3 (from ortools)\n",
            "  Downloading protobuf-4.24.2-cp37-abi3-manylinux2014_x86_64.whl (311 kB)\n",
            "\u001b[2K     \u001b[90m━━━━━━━━━━━━━━━━━━━━━━━━━━━━━━━━━━━━━━\u001b[0m \u001b[32m311.4/311.4 kB\u001b[0m \u001b[31m27.5 MB/s\u001b[0m eta \u001b[36m0:00:00\u001b[0m\n",
            "\u001b[?25hInstalling collected packages: protobuf, ortools\n",
            "  Attempting uninstall: protobuf\n",
            "    Found existing installation: protobuf 3.20.3\n",
            "    Uninstalling protobuf-3.20.3:\n",
            "      Successfully uninstalled protobuf-3.20.3\n",
            "\u001b[31mERROR: pip's dependency resolver does not currently take into account all the packages that are installed. This behaviour is the source of the following dependency conflicts.\n",
            "tensorflow-metadata 1.14.0 requires protobuf<4.21,>=3.20.3, but you have protobuf 4.24.2 which is incompatible.\u001b[0m\u001b[31m\n",
            "\u001b[0mSuccessfully installed ortools-9.7.2996 protobuf-4.24.2\n"
          ]
        }
      ],
      "source": [
        "%pip install gurobipy\n",
        "!pip install ortools\n"
      ]
    },
    {
      "cell_type": "code",
      "source": [
        "from ortools.constraint_solver import routing_enums_pb2\n",
        "from ortools.constraint_solver import pywrapcp"
      ],
      "metadata": {
        "id": "Qxlw1esvM77t"
      },
      "execution_count": null,
      "outputs": []
    },
    {
      "cell_type": "code",
      "source": [
        "city_names = [\"City 0\", \"City 1\", \"City 2\", \"City 3\", \"City 4\"]\n",
        "city_coordinates = [(0, 0), (1, 1), (2, 2), (3, 3), (4, 4)]\n",
        "num_cities = len(city_names)"
      ],
      "metadata": {
        "id": "9nr-PtVkNBpg"
      },
      "execution_count": null,
      "outputs": []
    },
    {
      "cell_type": "code",
      "source": [
        "def euclidean_distance(coord1, coord2):\n",
        "    x1, y1 = coord1\n",
        "    x2, y2 = coord2\n",
        "    return int((x1 - x2) ** 2 + (y1 - y2) ** 2) ** 0.5\n",
        "\n",
        "distance_matrix = {}\n",
        "for i in range(num_cities):\n",
        "    distance_matrix[i] = {}\n",
        "    for j in range(num_cities):\n",
        "        if i != j:\n",
        "            distance_matrix[i][j] = euclidean_distance(city_coordinates[i], city_coordinates[j])"
      ],
      "metadata": {
        "id": "1bp1Z3HRRzQP"
      },
      "execution_count": null,
      "outputs": []
    },
    {
      "cell_type": "code",
      "source": [
        "def create_data_model():\n",
        "    data = {}\n",
        "    data['distance_matrix'] = distance_matrix\n",
        "    data['num_vehicles'] = 1\n",
        "    data['depot'] = 0  # Starting city\n",
        "    return data\n",
        "\n",
        "data = create_data_model()"
      ],
      "metadata": {
        "id": "GXd64uDhR2RN"
      },
      "execution_count": null,
      "outputs": []
    },
    {
      "cell_type": "code",
      "source": [
        "def solve_tsp(data):\n",
        "    manager = pywrapcp.RoutingIndexManager(len(data['distance_matrix']), data['num_vehicles'], data['depot'])\n",
        "    routing = pywrapcp.RoutingModel(manager)\n",
        "\n",
        "    def distance_callback(from_index, to_index):\n",
        "        from_node = manager.IndexToNode(from_index)\n",
        "        to_node = manager.IndexToNode(to_index)\n",
        "        return data['distance_matrix'][from_node][to_node]\n",
        "\n",
        "    transit_callback_index = routing.RegisterTransitCallback(distance_callback)\n",
        "    routing.SetArcCostEvaluatorOfAllVehicles(transit_callback_index)\n",
        "\n",
        "    search_parameters = pywrapcp.DefaultRoutingSearchParameters()\n",
        "    search_parameters.first_solution_strategy = (\n",
        "        routing_enums_pb2.FirstSolutionStrategy.PATH_CHEAPEST_ARC)\n",
        "\n",
        "    solution = routing.SolveWithParameters(search_parameters)\n",
        "    return solution, manager, routing\n",
        "\n",
        "solution, manager, routing = solve_tsp(data)"
      ],
      "metadata": {
        "id": "2MQb1Op3R39F"
      },
      "execution_count": null,
      "outputs": []
    },
    {
      "cell_type": "code",
      "source": [
        "def print_solution(manager, routing, solution):\n",
        "    print('Objective: {} miles'.format(solution.ObjectiveValue()))\n",
        "    index = routing.Start(0)\n",
        "    plan_output = 'Route:\\n'\n",
        "    route_distance = 0\n",
        "    while not routing.IsEnd(index):\n",
        "        plan_output += ' {} ->'.format(city_names[manager.IndexToNode(index)])\n",
        "        previous_index = index\n",
        "        index = solution.Value(routing.NextVar(index))\n",
        "        route_distance += routing.GetArcCostForVehicle(previous_index, index, 0)\n",
        "    plan_output += ' {}\\n'.format(city_names[manager.IndexToNode(index)])\n",
        "    route_distance += routing.GetArcCostForVehicle(previous_index, index, 0)\n",
        "    print(plan_output)\n",
        "    print('Route distance: {} miles'.format(route_distance))\n",
        "\n",
        "if solution:\n",
        "    print_solution(manager, routing, solution)\n"
      ],
      "metadata": {
        "colab": {
          "base_uri": "https://localhost:8080/"
        },
        "id": "JZqXnivbR8bC",
        "outputId": "9067866c-9485-4186-d0e4-133dc68c42c0"
      },
      "execution_count": null,
      "outputs": [
        {
          "output_type": "stream",
          "name": "stdout",
          "text": [
            "Objective: 0 miles\n",
            "Route:\n",
            " City 0 -> City 4 -> City 3 -> City 2 -> City 1 -> City 0\n",
            "\n",
            "Route distance: 0 miles\n"
          ]
        }
      ]
    },
    {
      "cell_type": "code",
      "source": [
        "import itertools\n",
        "\n",
        "# List of cities\n",
        "cities = ['A', 'B', 'C', 'D', 'E']\n",
        "\n",
        "# Initialize the constraint counter\n",
        "constraint_count = 0\n",
        "\n",
        "# Iterate through all combinations of cities (excluding the initial city)\n",
        "for i, j in itertools.combinations(cities[1:], 2):\n",
        "    # Add a subtour elimination constraint\n",
        "    constraint_count += 1\n",
        "    print(f\"Constraint {constraint_count}: x_{i}{j} + x_{j}{i} <= {len(cities) - 2}\")\n",
        "\n",
        "print(f\"Total subtour elimination constraints: {constraint_count}\")"
      ],
      "metadata": {
        "colab": {
          "base_uri": "https://localhost:8080/"
        },
        "id": "9UILRaQkR_WV",
        "outputId": "e06e5113-684d-4cd8-9455-ef4addf9fc75"
      },
      "execution_count": null,
      "outputs": [
        {
          "output_type": "stream",
          "name": "stdout",
          "text": [
            "Constraint 1: x_BC + x_CB <= 3\n",
            "Constraint 2: x_BD + x_DB <= 3\n",
            "Constraint 3: x_BE + x_EB <= 3\n",
            "Constraint 4: x_CD + x_DC <= 3\n",
            "Constraint 5: x_CE + x_EC <= 3\n",
            "Constraint 6: x_DE + x_ED <= 3\n",
            "Total subtour elimination constraints: 6\n"
          ]
        }
      ]
    },
    {
      "cell_type": "code",
      "source": [
        "from ortools.linear_solver import pywraplp\n",
        "\n",
        "# Define the distance matrix\n",
        "distances = [\n",
        "    [0, 10, 8, 9, 7],\n",
        "    [10, 0, 10, 5, 6],\n",
        "    [8, 10, 0, 8, 9],\n",
        "    [9, 5, 8, 0, 6],\n",
        "    [7, 6, 9, 6, 0]\n",
        "]\n",
        "\n",
        "num_cities = len(distances)\n",
        "num_routes = num_cities * (num_cities - 1)\n",
        "\n",
        "# Create a solver\n",
        "solver = pywraplp.Solver.CreateSolver('SCIP')\n",
        "\n",
        "# Create binary decision variables for each edge (route)\n",
        "x = {}\n",
        "for i in range(num_cities):\n",
        "    for j in range(num_cities):\n",
        "        if i != j:\n",
        "            x[i, j] = solver.IntVar(0, 1, f'x_{i}_{j}')\n",
        "\n",
        "# Create objective function: minimize total distance\n",
        "objective = solver.Objective()\n",
        "for i in range(num_cities):\n",
        "    for j in range(num_cities):\n",
        "        if i != j:\n",
        "            objective.SetCoefficient(x[i, j], distances[i][j])\n",
        "objective.SetMinimization()\n",
        "\n",
        "# Add constraints: ensure each city is visited exactly once\n",
        "for i in range(num_cities):\n",
        "    constraint = solver.Constraint(1, 1)\n",
        "    for j in range(num_cities):\n",
        "        if i != j:\n",
        "            constraint.SetCoefficient(x[i, j], 1)\n",
        "\n",
        "# Solve the TSP\n",
        "solver.Solve()\n",
        "\n",
        "# Extract the optimal route\n",
        "route = []\n",
        "start_city = 0\n",
        "while True:\n",
        "    for j in range(num_cities):\n",
        "        if start_city != j and x[start_city, j].solution_value() == 1:\n",
        "            route.append(start_city)\n",
        "            start_city = j\n",
        "            break\n",
        "    if len(route) == num_cities:\n",
        "        break\n",
        "\n",
        "# Add the last city to complete the loop\n",
        "route.append(start_city)\n",
        "\n",
        "# Calculate the total distance of the optimal route\n",
        "total_distance = sum(distances[route[i]][route[i + 1]] for i in range(num_cities - 1))\n",
        "total_distance += distances[route[-1]][route[0]]  # Add distance to return to the starting city\n",
        "\n",
        "print(\"Optimal Route:\", \"->\".join([str(city) for city in route]))\n",
        "print(\"Total Distance:\", total_distance)\n"
      ],
      "metadata": {
        "colab": {
          "base_uri": "https://localhost:8080/"
        },
        "id": "bf7BW5poSEok",
        "outputId": "78b5d96f-e39d-41f3-fb4a-fb4ff682a5a5"
      },
      "execution_count": null,
      "outputs": [
        {
          "output_type": "stream",
          "name": "stdout",
          "text": [
            "Optimal Route: 0->4->1->3->1->3\n",
            "Total Distance: 32\n"
          ]
        }
      ]
    }
  ]
}